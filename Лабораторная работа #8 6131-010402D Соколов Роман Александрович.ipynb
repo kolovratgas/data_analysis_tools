{
 "cells": [
  {
   "cell_type": "code",
   "execution_count": 1,
   "id": "72e2cc77",
   "metadata": {},
   "outputs": [],
   "source": [
    "import pandas as pd\n",
    "import numpy as np\n",
    "import seaborn as sns\n",
    "import matplotlib.pyplot as plt\n",
    "\n",
    "import scipy\n",
    "from scipy import cluster\n",
    "from scipy.cluster.hierarchy import dendrogram, linkage"
   ]
  },
  {
   "cell_type": "code",
   "execution_count": 2,
   "id": "47d72af8",
   "metadata": {},
   "outputs": [
    {
     "data": {
      "text/html": [
       "<div>\n",
       "<style scoped>\n",
       "    .dataframe tbody tr th:only-of-type {\n",
       "        vertical-align: middle;\n",
       "    }\n",
       "\n",
       "    .dataframe tbody tr th {\n",
       "        vertical-align: top;\n",
       "    }\n",
       "\n",
       "    .dataframe thead th {\n",
       "        text-align: right;\n",
       "    }\n",
       "</style>\n",
       "<table border=\"1\" class=\"dataframe\">\n",
       "  <thead>\n",
       "    <tr style=\"text-align: right;\">\n",
       "      <th></th>\n",
       "      <th>HeartDisease</th>\n",
       "      <th>BMI</th>\n",
       "      <th>Smoking</th>\n",
       "      <th>AlcoholDrinking</th>\n",
       "      <th>Stroke</th>\n",
       "      <th>PhysicalHealth</th>\n",
       "      <th>MentalHealth</th>\n",
       "      <th>DiffWalking</th>\n",
       "      <th>Sex</th>\n",
       "      <th>AgeCategory</th>\n",
       "      <th>Race</th>\n",
       "      <th>Diabetic</th>\n",
       "      <th>PhysicalActivity</th>\n",
       "      <th>GenHealth</th>\n",
       "      <th>SleepTime</th>\n",
       "      <th>Asthma</th>\n",
       "      <th>KidneyDisease</th>\n",
       "      <th>SkinCancer</th>\n",
       "    </tr>\n",
       "  </thead>\n",
       "  <tbody>\n",
       "    <tr>\n",
       "      <th>0</th>\n",
       "      <td>No</td>\n",
       "      <td>16.60</td>\n",
       "      <td>Yes</td>\n",
       "      <td>No</td>\n",
       "      <td>No</td>\n",
       "      <td>3.0</td>\n",
       "      <td>30.0</td>\n",
       "      <td>No</td>\n",
       "      <td>Female</td>\n",
       "      <td>55-59</td>\n",
       "      <td>White</td>\n",
       "      <td>Yes</td>\n",
       "      <td>Yes</td>\n",
       "      <td>Very good</td>\n",
       "      <td>5.0</td>\n",
       "      <td>Yes</td>\n",
       "      <td>No</td>\n",
       "      <td>Yes</td>\n",
       "    </tr>\n",
       "    <tr>\n",
       "      <th>1</th>\n",
       "      <td>No</td>\n",
       "      <td>20.34</td>\n",
       "      <td>No</td>\n",
       "      <td>No</td>\n",
       "      <td>Yes</td>\n",
       "      <td>0.0</td>\n",
       "      <td>0.0</td>\n",
       "      <td>No</td>\n",
       "      <td>Female</td>\n",
       "      <td>80 or older</td>\n",
       "      <td>White</td>\n",
       "      <td>No</td>\n",
       "      <td>Yes</td>\n",
       "      <td>Very good</td>\n",
       "      <td>7.0</td>\n",
       "      <td>No</td>\n",
       "      <td>No</td>\n",
       "      <td>No</td>\n",
       "    </tr>\n",
       "    <tr>\n",
       "      <th>2</th>\n",
       "      <td>No</td>\n",
       "      <td>26.58</td>\n",
       "      <td>Yes</td>\n",
       "      <td>No</td>\n",
       "      <td>No</td>\n",
       "      <td>20.0</td>\n",
       "      <td>30.0</td>\n",
       "      <td>No</td>\n",
       "      <td>Male</td>\n",
       "      <td>65-69</td>\n",
       "      <td>White</td>\n",
       "      <td>Yes</td>\n",
       "      <td>Yes</td>\n",
       "      <td>Fair</td>\n",
       "      <td>8.0</td>\n",
       "      <td>Yes</td>\n",
       "      <td>No</td>\n",
       "      <td>No</td>\n",
       "    </tr>\n",
       "    <tr>\n",
       "      <th>3</th>\n",
       "      <td>No</td>\n",
       "      <td>24.21</td>\n",
       "      <td>No</td>\n",
       "      <td>No</td>\n",
       "      <td>No</td>\n",
       "      <td>0.0</td>\n",
       "      <td>0.0</td>\n",
       "      <td>No</td>\n",
       "      <td>Female</td>\n",
       "      <td>75-79</td>\n",
       "      <td>White</td>\n",
       "      <td>No</td>\n",
       "      <td>No</td>\n",
       "      <td>Good</td>\n",
       "      <td>6.0</td>\n",
       "      <td>No</td>\n",
       "      <td>No</td>\n",
       "      <td>Yes</td>\n",
       "    </tr>\n",
       "    <tr>\n",
       "      <th>4</th>\n",
       "      <td>No</td>\n",
       "      <td>23.71</td>\n",
       "      <td>No</td>\n",
       "      <td>No</td>\n",
       "      <td>No</td>\n",
       "      <td>28.0</td>\n",
       "      <td>0.0</td>\n",
       "      <td>Yes</td>\n",
       "      <td>Female</td>\n",
       "      <td>40-44</td>\n",
       "      <td>White</td>\n",
       "      <td>No</td>\n",
       "      <td>Yes</td>\n",
       "      <td>Very good</td>\n",
       "      <td>8.0</td>\n",
       "      <td>No</td>\n",
       "      <td>No</td>\n",
       "      <td>No</td>\n",
       "    </tr>\n",
       "  </tbody>\n",
       "</table>\n",
       "</div>"
      ],
      "text/plain": [
       "  HeartDisease    BMI Smoking AlcoholDrinking Stroke  PhysicalHealth  \\\n",
       "0           No  16.60     Yes              No     No             3.0   \n",
       "1           No  20.34      No              No    Yes             0.0   \n",
       "2           No  26.58     Yes              No     No            20.0   \n",
       "3           No  24.21      No              No     No             0.0   \n",
       "4           No  23.71      No              No     No            28.0   \n",
       "\n",
       "   MentalHealth DiffWalking     Sex  AgeCategory   Race Diabetic  \\\n",
       "0          30.0          No  Female        55-59  White      Yes   \n",
       "1           0.0          No  Female  80 or older  White       No   \n",
       "2          30.0          No    Male        65-69  White      Yes   \n",
       "3           0.0          No  Female        75-79  White       No   \n",
       "4           0.0         Yes  Female        40-44  White       No   \n",
       "\n",
       "  PhysicalActivity  GenHealth  SleepTime Asthma KidneyDisease SkinCancer  \n",
       "0              Yes  Very good        5.0    Yes            No        Yes  \n",
       "1              Yes  Very good        7.0     No            No         No  \n",
       "2              Yes       Fair        8.0    Yes            No         No  \n",
       "3               No       Good        6.0     No            No        Yes  \n",
       "4              Yes  Very good        8.0     No            No         No  "
      ]
     },
     "execution_count": 2,
     "metadata": {},
     "output_type": "execute_result"
    }
   ],
   "source": [
    "df = pd.read_csv('data/heart_2020_cleaned.csv')\n",
    "df.head(5)"
   ]
  },
  {
   "cell_type": "markdown",
   "id": "7d9b6660",
   "metadata": {},
   "source": [
    "# Dataset: \"heart_2020_cleaned\"\n",
    "### HeartDesease - сердечные заболевания  (бинарный)\n",
    "### BMI (Body Mass Index) - индекс массы тела (вещественный)\n",
    "### Smoking - курение (бинарный)\n",
    "### AlcoholDrinking - употребление алкоголя (бинарный)\n",
    "### Stroke - инсульт (бинарный)\n",
    "### PhysicalHealth - физическое здоровье (вещественный)\n",
    "### DiffWalking - средняя активность прогулок (бинарный)\n",
    "### Sex - пол (бинарный)\n",
    "### AgeCategory - возрастная категория (категориальный)\n",
    "### Race - расовая принадлежность (категориальный)\n",
    "### Diabetic - диабет (бинарный)\n",
    "### PhysicalActivity - физическая активность (бинарный)\n",
    "### GenHealth - общее самочувствие (вещественный)\n",
    "### SleepTime - время сна (целочисленный)\n",
    "### Asthma - астма (бинарный)\n",
    "### KidneyDisease -  заболевание почек (бинарный)\n",
    "### SkinCancer - рак кожи (бинарный)"
   ]
  },
  {
   "cell_type": "code",
   "execution_count": 80,
   "id": "4e430d1f",
   "metadata": {},
   "outputs": [],
   "source": [
    "#метка класса - AgeCategory"
   ]
  },
  {
   "cell_type": "code",
   "execution_count": 4,
   "id": "30a9fc3d",
   "metadata": {},
   "outputs": [],
   "source": [
    "agec = [] \n",
    "age = []\n",
    "df_new = df.copy()\n",
    "for i in range(df.shape[1]):\n",
    "    if type(df.iloc[0, i]) == str:\n",
    "        t = pd.factorize(df.iloc[0:, i])[0]\n",
    "        df_new[df.iloc[0:, i].name] = t\n",
    "    else:\n",
    "        df_new[df.iloc[0:, i].name] = df.iloc[0:, i]"
   ]
  },
  {
   "cell_type": "code",
   "execution_count": 5,
   "id": "a6c87b19",
   "metadata": {},
   "outputs": [
    {
     "data": {
      "text/html": [
       "<div>\n",
       "<style scoped>\n",
       "    .dataframe tbody tr th:only-of-type {\n",
       "        vertical-align: middle;\n",
       "    }\n",
       "\n",
       "    .dataframe tbody tr th {\n",
       "        vertical-align: top;\n",
       "    }\n",
       "\n",
       "    .dataframe thead th {\n",
       "        text-align: right;\n",
       "    }\n",
       "</style>\n",
       "<table border=\"1\" class=\"dataframe\">\n",
       "  <thead>\n",
       "    <tr style=\"text-align: right;\">\n",
       "      <th></th>\n",
       "      <th>HeartDisease</th>\n",
       "      <th>BMI</th>\n",
       "      <th>Smoking</th>\n",
       "      <th>AlcoholDrinking</th>\n",
       "      <th>Stroke</th>\n",
       "      <th>PhysicalHealth</th>\n",
       "      <th>MentalHealth</th>\n",
       "      <th>DiffWalking</th>\n",
       "      <th>Sex</th>\n",
       "      <th>AgeCategory</th>\n",
       "      <th>Race</th>\n",
       "      <th>Diabetic</th>\n",
       "      <th>PhysicalActivity</th>\n",
       "      <th>GenHealth</th>\n",
       "      <th>SleepTime</th>\n",
       "      <th>Asthma</th>\n",
       "      <th>KidneyDisease</th>\n",
       "      <th>SkinCancer</th>\n",
       "    </tr>\n",
       "  </thead>\n",
       "  <tbody>\n",
       "    <tr>\n",
       "      <th>0</th>\n",
       "      <td>0</td>\n",
       "      <td>16.60</td>\n",
       "      <td>0</td>\n",
       "      <td>0</td>\n",
       "      <td>0</td>\n",
       "      <td>3.0</td>\n",
       "      <td>30.0</td>\n",
       "      <td>0</td>\n",
       "      <td>0</td>\n",
       "      <td>0</td>\n",
       "      <td>0</td>\n",
       "      <td>0</td>\n",
       "      <td>0</td>\n",
       "      <td>0</td>\n",
       "      <td>5.0</td>\n",
       "      <td>0</td>\n",
       "      <td>0</td>\n",
       "      <td>0</td>\n",
       "    </tr>\n",
       "    <tr>\n",
       "      <th>1</th>\n",
       "      <td>0</td>\n",
       "      <td>20.34</td>\n",
       "      <td>1</td>\n",
       "      <td>0</td>\n",
       "      <td>1</td>\n",
       "      <td>0.0</td>\n",
       "      <td>0.0</td>\n",
       "      <td>0</td>\n",
       "      <td>0</td>\n",
       "      <td>1</td>\n",
       "      <td>0</td>\n",
       "      <td>1</td>\n",
       "      <td>0</td>\n",
       "      <td>0</td>\n",
       "      <td>7.0</td>\n",
       "      <td>1</td>\n",
       "      <td>0</td>\n",
       "      <td>1</td>\n",
       "    </tr>\n",
       "    <tr>\n",
       "      <th>2</th>\n",
       "      <td>0</td>\n",
       "      <td>26.58</td>\n",
       "      <td>0</td>\n",
       "      <td>0</td>\n",
       "      <td>0</td>\n",
       "      <td>20.0</td>\n",
       "      <td>30.0</td>\n",
       "      <td>0</td>\n",
       "      <td>1</td>\n",
       "      <td>2</td>\n",
       "      <td>0</td>\n",
       "      <td>0</td>\n",
       "      <td>0</td>\n",
       "      <td>1</td>\n",
       "      <td>8.0</td>\n",
       "      <td>0</td>\n",
       "      <td>0</td>\n",
       "      <td>1</td>\n",
       "    </tr>\n",
       "    <tr>\n",
       "      <th>3</th>\n",
       "      <td>0</td>\n",
       "      <td>24.21</td>\n",
       "      <td>1</td>\n",
       "      <td>0</td>\n",
       "      <td>0</td>\n",
       "      <td>0.0</td>\n",
       "      <td>0.0</td>\n",
       "      <td>0</td>\n",
       "      <td>0</td>\n",
       "      <td>3</td>\n",
       "      <td>0</td>\n",
       "      <td>1</td>\n",
       "      <td>1</td>\n",
       "      <td>2</td>\n",
       "      <td>6.0</td>\n",
       "      <td>1</td>\n",
       "      <td>0</td>\n",
       "      <td>0</td>\n",
       "    </tr>\n",
       "    <tr>\n",
       "      <th>4</th>\n",
       "      <td>0</td>\n",
       "      <td>23.71</td>\n",
       "      <td>1</td>\n",
       "      <td>0</td>\n",
       "      <td>0</td>\n",
       "      <td>28.0</td>\n",
       "      <td>0.0</td>\n",
       "      <td>1</td>\n",
       "      <td>0</td>\n",
       "      <td>4</td>\n",
       "      <td>0</td>\n",
       "      <td>1</td>\n",
       "      <td>0</td>\n",
       "      <td>0</td>\n",
       "      <td>8.0</td>\n",
       "      <td>1</td>\n",
       "      <td>0</td>\n",
       "      <td>1</td>\n",
       "    </tr>\n",
       "    <tr>\n",
       "      <th>...</th>\n",
       "      <td>...</td>\n",
       "      <td>...</td>\n",
       "      <td>...</td>\n",
       "      <td>...</td>\n",
       "      <td>...</td>\n",
       "      <td>...</td>\n",
       "      <td>...</td>\n",
       "      <td>...</td>\n",
       "      <td>...</td>\n",
       "      <td>...</td>\n",
       "      <td>...</td>\n",
       "      <td>...</td>\n",
       "      <td>...</td>\n",
       "      <td>...</td>\n",
       "      <td>...</td>\n",
       "      <td>...</td>\n",
       "      <td>...</td>\n",
       "      <td>...</td>\n",
       "    </tr>\n",
       "    <tr>\n",
       "      <th>319790</th>\n",
       "      <td>1</td>\n",
       "      <td>27.41</td>\n",
       "      <td>0</td>\n",
       "      <td>0</td>\n",
       "      <td>0</td>\n",
       "      <td>7.0</td>\n",
       "      <td>0.0</td>\n",
       "      <td>1</td>\n",
       "      <td>1</td>\n",
       "      <td>6</td>\n",
       "      <td>5</td>\n",
       "      <td>0</td>\n",
       "      <td>1</td>\n",
       "      <td>1</td>\n",
       "      <td>6.0</td>\n",
       "      <td>0</td>\n",
       "      <td>0</td>\n",
       "      <td>1</td>\n",
       "    </tr>\n",
       "    <tr>\n",
       "      <th>319791</th>\n",
       "      <td>0</td>\n",
       "      <td>29.84</td>\n",
       "      <td>0</td>\n",
       "      <td>0</td>\n",
       "      <td>0</td>\n",
       "      <td>0.0</td>\n",
       "      <td>0.0</td>\n",
       "      <td>0</td>\n",
       "      <td>1</td>\n",
       "      <td>10</td>\n",
       "      <td>5</td>\n",
       "      <td>1</td>\n",
       "      <td>0</td>\n",
       "      <td>0</td>\n",
       "      <td>5.0</td>\n",
       "      <td>0</td>\n",
       "      <td>0</td>\n",
       "      <td>1</td>\n",
       "    </tr>\n",
       "    <tr>\n",
       "      <th>319792</th>\n",
       "      <td>0</td>\n",
       "      <td>24.24</td>\n",
       "      <td>1</td>\n",
       "      <td>0</td>\n",
       "      <td>0</td>\n",
       "      <td>0.0</td>\n",
       "      <td>0.0</td>\n",
       "      <td>0</td>\n",
       "      <td>0</td>\n",
       "      <td>8</td>\n",
       "      <td>5</td>\n",
       "      <td>1</td>\n",
       "      <td>0</td>\n",
       "      <td>2</td>\n",
       "      <td>6.0</td>\n",
       "      <td>1</td>\n",
       "      <td>0</td>\n",
       "      <td>1</td>\n",
       "    </tr>\n",
       "    <tr>\n",
       "      <th>319793</th>\n",
       "      <td>0</td>\n",
       "      <td>32.81</td>\n",
       "      <td>1</td>\n",
       "      <td>0</td>\n",
       "      <td>0</td>\n",
       "      <td>0.0</td>\n",
       "      <td>0.0</td>\n",
       "      <td>0</td>\n",
       "      <td>0</td>\n",
       "      <td>12</td>\n",
       "      <td>5</td>\n",
       "      <td>1</td>\n",
       "      <td>1</td>\n",
       "      <td>2</td>\n",
       "      <td>12.0</td>\n",
       "      <td>1</td>\n",
       "      <td>0</td>\n",
       "      <td>1</td>\n",
       "    </tr>\n",
       "    <tr>\n",
       "      <th>319794</th>\n",
       "      <td>0</td>\n",
       "      <td>46.56</td>\n",
       "      <td>1</td>\n",
       "      <td>0</td>\n",
       "      <td>0</td>\n",
       "      <td>0.0</td>\n",
       "      <td>0.0</td>\n",
       "      <td>0</td>\n",
       "      <td>0</td>\n",
       "      <td>1</td>\n",
       "      <td>5</td>\n",
       "      <td>1</td>\n",
       "      <td>0</td>\n",
       "      <td>2</td>\n",
       "      <td>8.0</td>\n",
       "      <td>1</td>\n",
       "      <td>0</td>\n",
       "      <td>1</td>\n",
       "    </tr>\n",
       "  </tbody>\n",
       "</table>\n",
       "<p>319795 rows × 18 columns</p>\n",
       "</div>"
      ],
      "text/plain": [
       "        HeartDisease    BMI  Smoking  AlcoholDrinking  Stroke  PhysicalHealth  \\\n",
       "0                  0  16.60        0                0       0             3.0   \n",
       "1                  0  20.34        1                0       1             0.0   \n",
       "2                  0  26.58        0                0       0            20.0   \n",
       "3                  0  24.21        1                0       0             0.0   \n",
       "4                  0  23.71        1                0       0            28.0   \n",
       "...              ...    ...      ...              ...     ...             ...   \n",
       "319790             1  27.41        0                0       0             7.0   \n",
       "319791             0  29.84        0                0       0             0.0   \n",
       "319792             0  24.24        1                0       0             0.0   \n",
       "319793             0  32.81        1                0       0             0.0   \n",
       "319794             0  46.56        1                0       0             0.0   \n",
       "\n",
       "        MentalHealth  DiffWalking  Sex  AgeCategory  Race  Diabetic  \\\n",
       "0               30.0            0    0            0     0         0   \n",
       "1                0.0            0    0            1     0         1   \n",
       "2               30.0            0    1            2     0         0   \n",
       "3                0.0            0    0            3     0         1   \n",
       "4                0.0            1    0            4     0         1   \n",
       "...              ...          ...  ...          ...   ...       ...   \n",
       "319790           0.0            1    1            6     5         0   \n",
       "319791           0.0            0    1           10     5         1   \n",
       "319792           0.0            0    0            8     5         1   \n",
       "319793           0.0            0    0           12     5         1   \n",
       "319794           0.0            0    0            1     5         1   \n",
       "\n",
       "        PhysicalActivity  GenHealth  SleepTime  Asthma  KidneyDisease  \\\n",
       "0                      0          0        5.0       0              0   \n",
       "1                      0          0        7.0       1              0   \n",
       "2                      0          1        8.0       0              0   \n",
       "3                      1          2        6.0       1              0   \n",
       "4                      0          0        8.0       1              0   \n",
       "...                  ...        ...        ...     ...            ...   \n",
       "319790                 1          1        6.0       0              0   \n",
       "319791                 0          0        5.0       0              0   \n",
       "319792                 0          2        6.0       1              0   \n",
       "319793                 1          2       12.0       1              0   \n",
       "319794                 0          2        8.0       1              0   \n",
       "\n",
       "        SkinCancer  \n",
       "0                0  \n",
       "1                1  \n",
       "2                1  \n",
       "3                0  \n",
       "4                1  \n",
       "...            ...  \n",
       "319790           1  \n",
       "319791           1  \n",
       "319792           1  \n",
       "319793           1  \n",
       "319794           1  \n",
       "\n",
       "[319795 rows x 18 columns]"
      ]
     },
     "execution_count": 5,
     "metadata": {},
     "output_type": "execute_result"
    }
   ],
   "source": [
    "df_new"
   ]
  },
  {
   "cell_type": "markdown",
   "id": "d3baddc7",
   "metadata": {},
   "source": [
    "# Создаем датасет без меток класса"
   ]
  },
  {
   "cell_type": "code",
   "execution_count": 6,
   "id": "a90ffd62",
   "metadata": {},
   "outputs": [
    {
     "data": {
      "text/html": [
       "<div>\n",
       "<style scoped>\n",
       "    .dataframe tbody tr th:only-of-type {\n",
       "        vertical-align: middle;\n",
       "    }\n",
       "\n",
       "    .dataframe tbody tr th {\n",
       "        vertical-align: top;\n",
       "    }\n",
       "\n",
       "    .dataframe thead th {\n",
       "        text-align: right;\n",
       "    }\n",
       "</style>\n",
       "<table border=\"1\" class=\"dataframe\">\n",
       "  <thead>\n",
       "    <tr style=\"text-align: right;\">\n",
       "      <th></th>\n",
       "      <th>HeartDisease</th>\n",
       "      <th>BMI</th>\n",
       "      <th>Smoking</th>\n",
       "      <th>AlcoholDrinking</th>\n",
       "      <th>Stroke</th>\n",
       "      <th>PhysicalHealth</th>\n",
       "      <th>MentalHealth</th>\n",
       "      <th>DiffWalking</th>\n",
       "      <th>Sex</th>\n",
       "      <th>Race</th>\n",
       "      <th>Diabetic</th>\n",
       "      <th>PhysicalActivity</th>\n",
       "      <th>GenHealth</th>\n",
       "      <th>SleepTime</th>\n",
       "      <th>Asthma</th>\n",
       "      <th>KidneyDisease</th>\n",
       "      <th>SkinCancer</th>\n",
       "    </tr>\n",
       "  </thead>\n",
       "  <tbody>\n",
       "    <tr>\n",
       "      <th>0</th>\n",
       "      <td>0</td>\n",
       "      <td>16.60</td>\n",
       "      <td>0</td>\n",
       "      <td>0</td>\n",
       "      <td>0</td>\n",
       "      <td>3.0</td>\n",
       "      <td>30.0</td>\n",
       "      <td>0</td>\n",
       "      <td>0</td>\n",
       "      <td>0</td>\n",
       "      <td>0</td>\n",
       "      <td>0</td>\n",
       "      <td>0</td>\n",
       "      <td>5.0</td>\n",
       "      <td>0</td>\n",
       "      <td>0</td>\n",
       "      <td>0</td>\n",
       "    </tr>\n",
       "    <tr>\n",
       "      <th>1</th>\n",
       "      <td>0</td>\n",
       "      <td>20.34</td>\n",
       "      <td>1</td>\n",
       "      <td>0</td>\n",
       "      <td>1</td>\n",
       "      <td>0.0</td>\n",
       "      <td>0.0</td>\n",
       "      <td>0</td>\n",
       "      <td>0</td>\n",
       "      <td>0</td>\n",
       "      <td>1</td>\n",
       "      <td>0</td>\n",
       "      <td>0</td>\n",
       "      <td>7.0</td>\n",
       "      <td>1</td>\n",
       "      <td>0</td>\n",
       "      <td>1</td>\n",
       "    </tr>\n",
       "    <tr>\n",
       "      <th>2</th>\n",
       "      <td>0</td>\n",
       "      <td>26.58</td>\n",
       "      <td>0</td>\n",
       "      <td>0</td>\n",
       "      <td>0</td>\n",
       "      <td>20.0</td>\n",
       "      <td>30.0</td>\n",
       "      <td>0</td>\n",
       "      <td>1</td>\n",
       "      <td>0</td>\n",
       "      <td>0</td>\n",
       "      <td>0</td>\n",
       "      <td>1</td>\n",
       "      <td>8.0</td>\n",
       "      <td>0</td>\n",
       "      <td>0</td>\n",
       "      <td>1</td>\n",
       "    </tr>\n",
       "    <tr>\n",
       "      <th>3</th>\n",
       "      <td>0</td>\n",
       "      <td>24.21</td>\n",
       "      <td>1</td>\n",
       "      <td>0</td>\n",
       "      <td>0</td>\n",
       "      <td>0.0</td>\n",
       "      <td>0.0</td>\n",
       "      <td>0</td>\n",
       "      <td>0</td>\n",
       "      <td>0</td>\n",
       "      <td>1</td>\n",
       "      <td>1</td>\n",
       "      <td>2</td>\n",
       "      <td>6.0</td>\n",
       "      <td>1</td>\n",
       "      <td>0</td>\n",
       "      <td>0</td>\n",
       "    </tr>\n",
       "    <tr>\n",
       "      <th>4</th>\n",
       "      <td>0</td>\n",
       "      <td>23.71</td>\n",
       "      <td>1</td>\n",
       "      <td>0</td>\n",
       "      <td>0</td>\n",
       "      <td>28.0</td>\n",
       "      <td>0.0</td>\n",
       "      <td>1</td>\n",
       "      <td>0</td>\n",
       "      <td>0</td>\n",
       "      <td>1</td>\n",
       "      <td>0</td>\n",
       "      <td>0</td>\n",
       "      <td>8.0</td>\n",
       "      <td>1</td>\n",
       "      <td>0</td>\n",
       "      <td>1</td>\n",
       "    </tr>\n",
       "    <tr>\n",
       "      <th>...</th>\n",
       "      <td>...</td>\n",
       "      <td>...</td>\n",
       "      <td>...</td>\n",
       "      <td>...</td>\n",
       "      <td>...</td>\n",
       "      <td>...</td>\n",
       "      <td>...</td>\n",
       "      <td>...</td>\n",
       "      <td>...</td>\n",
       "      <td>...</td>\n",
       "      <td>...</td>\n",
       "      <td>...</td>\n",
       "      <td>...</td>\n",
       "      <td>...</td>\n",
       "      <td>...</td>\n",
       "      <td>...</td>\n",
       "      <td>...</td>\n",
       "    </tr>\n",
       "    <tr>\n",
       "      <th>319790</th>\n",
       "      <td>1</td>\n",
       "      <td>27.41</td>\n",
       "      <td>0</td>\n",
       "      <td>0</td>\n",
       "      <td>0</td>\n",
       "      <td>7.0</td>\n",
       "      <td>0.0</td>\n",
       "      <td>1</td>\n",
       "      <td>1</td>\n",
       "      <td>5</td>\n",
       "      <td>0</td>\n",
       "      <td>1</td>\n",
       "      <td>1</td>\n",
       "      <td>6.0</td>\n",
       "      <td>0</td>\n",
       "      <td>0</td>\n",
       "      <td>1</td>\n",
       "    </tr>\n",
       "    <tr>\n",
       "      <th>319791</th>\n",
       "      <td>0</td>\n",
       "      <td>29.84</td>\n",
       "      <td>0</td>\n",
       "      <td>0</td>\n",
       "      <td>0</td>\n",
       "      <td>0.0</td>\n",
       "      <td>0.0</td>\n",
       "      <td>0</td>\n",
       "      <td>1</td>\n",
       "      <td>5</td>\n",
       "      <td>1</td>\n",
       "      <td>0</td>\n",
       "      <td>0</td>\n",
       "      <td>5.0</td>\n",
       "      <td>0</td>\n",
       "      <td>0</td>\n",
       "      <td>1</td>\n",
       "    </tr>\n",
       "    <tr>\n",
       "      <th>319792</th>\n",
       "      <td>0</td>\n",
       "      <td>24.24</td>\n",
       "      <td>1</td>\n",
       "      <td>0</td>\n",
       "      <td>0</td>\n",
       "      <td>0.0</td>\n",
       "      <td>0.0</td>\n",
       "      <td>0</td>\n",
       "      <td>0</td>\n",
       "      <td>5</td>\n",
       "      <td>1</td>\n",
       "      <td>0</td>\n",
       "      <td>2</td>\n",
       "      <td>6.0</td>\n",
       "      <td>1</td>\n",
       "      <td>0</td>\n",
       "      <td>1</td>\n",
       "    </tr>\n",
       "    <tr>\n",
       "      <th>319793</th>\n",
       "      <td>0</td>\n",
       "      <td>32.81</td>\n",
       "      <td>1</td>\n",
       "      <td>0</td>\n",
       "      <td>0</td>\n",
       "      <td>0.0</td>\n",
       "      <td>0.0</td>\n",
       "      <td>0</td>\n",
       "      <td>0</td>\n",
       "      <td>5</td>\n",
       "      <td>1</td>\n",
       "      <td>1</td>\n",
       "      <td>2</td>\n",
       "      <td>12.0</td>\n",
       "      <td>1</td>\n",
       "      <td>0</td>\n",
       "      <td>1</td>\n",
       "    </tr>\n",
       "    <tr>\n",
       "      <th>319794</th>\n",
       "      <td>0</td>\n",
       "      <td>46.56</td>\n",
       "      <td>1</td>\n",
       "      <td>0</td>\n",
       "      <td>0</td>\n",
       "      <td>0.0</td>\n",
       "      <td>0.0</td>\n",
       "      <td>0</td>\n",
       "      <td>0</td>\n",
       "      <td>5</td>\n",
       "      <td>1</td>\n",
       "      <td>0</td>\n",
       "      <td>2</td>\n",
       "      <td>8.0</td>\n",
       "      <td>1</td>\n",
       "      <td>0</td>\n",
       "      <td>1</td>\n",
       "    </tr>\n",
       "  </tbody>\n",
       "</table>\n",
       "<p>319795 rows × 17 columns</p>\n",
       "</div>"
      ],
      "text/plain": [
       "        HeartDisease    BMI  Smoking  AlcoholDrinking  Stroke  PhysicalHealth  \\\n",
       "0                  0  16.60        0                0       0             3.0   \n",
       "1                  0  20.34        1                0       1             0.0   \n",
       "2                  0  26.58        0                0       0            20.0   \n",
       "3                  0  24.21        1                0       0             0.0   \n",
       "4                  0  23.71        1                0       0            28.0   \n",
       "...              ...    ...      ...              ...     ...             ...   \n",
       "319790             1  27.41        0                0       0             7.0   \n",
       "319791             0  29.84        0                0       0             0.0   \n",
       "319792             0  24.24        1                0       0             0.0   \n",
       "319793             0  32.81        1                0       0             0.0   \n",
       "319794             0  46.56        1                0       0             0.0   \n",
       "\n",
       "        MentalHealth  DiffWalking  Sex  Race  Diabetic  PhysicalActivity  \\\n",
       "0               30.0            0    0     0         0                 0   \n",
       "1                0.0            0    0     0         1                 0   \n",
       "2               30.0            0    1     0         0                 0   \n",
       "3                0.0            0    0     0         1                 1   \n",
       "4                0.0            1    0     0         1                 0   \n",
       "...              ...          ...  ...   ...       ...               ...   \n",
       "319790           0.0            1    1     5         0                 1   \n",
       "319791           0.0            0    1     5         1                 0   \n",
       "319792           0.0            0    0     5         1                 0   \n",
       "319793           0.0            0    0     5         1                 1   \n",
       "319794           0.0            0    0     5         1                 0   \n",
       "\n",
       "        GenHealth  SleepTime  Asthma  KidneyDisease  SkinCancer  \n",
       "0               0        5.0       0              0           0  \n",
       "1               0        7.0       1              0           1  \n",
       "2               1        8.0       0              0           1  \n",
       "3               2        6.0       1              0           0  \n",
       "4               0        8.0       1              0           1  \n",
       "...           ...        ...     ...            ...         ...  \n",
       "319790          1        6.0       0              0           1  \n",
       "319791          0        5.0       0              0           1  \n",
       "319792          2        6.0       1              0           1  \n",
       "319793          2       12.0       1              0           1  \n",
       "319794          2        8.0       1              0           1  \n",
       "\n",
       "[319795 rows x 17 columns]"
      ]
     },
     "execution_count": 6,
     "metadata": {},
     "output_type": "execute_result"
    }
   ],
   "source": [
    "temp = df_new.iloc[0:, [0, 1, 2, 3, 4, 5, 6, 7, 8, 10, 11, 12, 13, 14, 15, 16, 17]]\n",
    "temp"
   ]
  },
  {
   "cell_type": "markdown",
   "id": "64c76a66",
   "metadata": {},
   "source": [
    "# 1) Выполните иерархическую агломеративную кластеризацию (scipy.cluster.hierarchy), постройте график-дендрограмму (hierarchy.dendrogram)"
   ]
  },
  {
   "cell_type": "code",
   "execution_count": 52,
   "id": "a652bda2",
   "metadata": {},
   "outputs": [],
   "source": [
    "dig = 10"
   ]
  },
  {
   "cell_type": "code",
   "execution_count": 53,
   "id": "e6cb80df",
   "metadata": {},
   "outputs": [],
   "source": [
    "Z = linkage(temp.iloc[:dig], 'single')"
   ]
  },
  {
   "cell_type": "code",
   "execution_count": 54,
   "id": "e354a2f5",
   "metadata": {},
   "outputs": [],
   "source": [
    "labelList = [i for i in range(dig)]"
   ]
  },
  {
   "cell_type": "code",
   "execution_count": 60,
   "id": "7a489b87",
   "metadata": {},
   "outputs": [
    {
     "data": {
      "text/plain": [
       "{'icoord': [[5.0, 5.0, 15.0, 15.0],\n",
       "  [25.0, 25.0, 35.0, 35.0],\n",
       "  [45.0, 45.0, 55.0, 55.0],\n",
       "  [50.0, 50.0, 65.0, 65.0],\n",
       "  [75.0, 75.0, 85.0, 85.0],\n",
       "  [57.5, 57.5, 80.0, 80.0],\n",
       "  [68.75, 68.75, 95.0, 95.0],\n",
       "  [30.0, 30.0, 81.875, 81.875],\n",
       "  [10.0, 10.0, 55.9375, 55.9375]],\n",
       " 'dcoord': [[0.0, 20.015004371720728, 20.015004371720728, 0.0],\n",
       "  [0.0, 13.904186419924036, 13.904186419924036, 0.0],\n",
       "  [0.0, 3.1650592411517344, 3.1650592411517344, 0.0],\n",
       "  [3.1650592411517344, 4.793422576823371, 4.793422576823371, 0.0],\n",
       "  [0.0, 4.761606871634826, 4.761606871634826, 0.0],\n",
       "  [4.793422576823371, 8.771322591262962, 8.771322591262962, 4.761606871634826],\n",
       "  [8.771322591262962, 10.625558808834477, 10.625558808834477, 0.0],\n",
       "  [13.904186419924036,\n",
       "   14.297468307361273,\n",
       "   14.297468307361273,\n",
       "   10.625558808834477],\n",
       "  [20.015004371720728,\n",
       "   30.52847195651954,\n",
       "   30.52847195651954,\n",
       "   14.297468307361273]],\n",
       " 'ivl': [2, 0, 6, 4, 8, 3, 1, 7, 5, 9],\n",
       " 'leaves': [2, 0, 6, 4, 8, 3, 1, 7, 5, 9],\n",
       " 'color_list': ['C1', 'C2', 'C2', 'C2', 'C2', 'C2', 'C2', 'C2', 'C0'],\n",
       " 'leaves_color_list': ['C1',\n",
       "  'C1',\n",
       "  'C2',\n",
       "  'C2',\n",
       "  'C2',\n",
       "  'C2',\n",
       "  'C2',\n",
       "  'C2',\n",
       "  'C2',\n",
       "  'C2']}"
      ]
     },
     "execution_count": 60,
     "metadata": {},
     "output_type": "execute_result"
    },
    {
     "data": {
      "image/png": "[encoded data removed]",
      "text/plain": [
       "<Figure size 432x288 with 1 Axes>"
      ]
     },
     "metadata": {
      "needs_background": "light"
     },
     "output_type": "display_data"
    }
   ],
   "source": [
    "dendrogram(Z, labels=labelList, distance_sort='descending', show_leaf_counts=True )"
   ]
  },
  {
   "cell_type": "markdown",
   "id": "0c763c31",
   "metadata": {},
   "source": [
    "# 2) На том же датасете выподните кластеризацию, используя любой другой метод кластеризации (пока с произвольными гиперпараметрами)"
   ]
  },
  {
   "cell_type": "code",
   "execution_count": 67,
   "id": "4a37eba2",
   "metadata": {},
   "outputs": [],
   "source": [
    "from sklearn.cluster import KMeans"
   ]
  },
  {
   "cell_type": "code",
   "execution_count": 69,
   "id": "38aaf6ee",
   "metadata": {},
   "outputs": [],
   "source": [
    "model1 = KMeans()"
   ]
  },
  {
   "cell_type": "code",
   "execution_count": 70,
   "id": "01ae312b",
   "metadata": {},
   "outputs": [
    {
     "data": {
      "text/plain": [
       "KMeans()"
      ]
     },
     "execution_count": 70,
     "metadata": {},
     "output_type": "execute_result"
    }
   ],
   "source": [
    "model1.fit(temp.iloc[:1000])"
   ]
  },
  {
   "cell_type": "code",
   "execution_count": 72,
   "id": "66475ee8",
   "metadata": {},
   "outputs": [],
   "source": [
    "pred1 = model1.labels_"
   ]
  },
  {
   "cell_type": "code",
   "execution_count": 73,
   "id": "5bcb3b6a",
   "metadata": {},
   "outputs": [
    {
     "data": {
      "text/plain": [
       "array([2, 1, 7, 1, 4, 5, 0, 5, 5, 3, 4, 5, 5, 5, 2, 5, 5, 2, 5, 1, 1, 5,\n",
       "       2, 2, 1, 7, 0, 5, 1, 3, 1, 5, 6, 1, 3, 0, 1, 1, 5, 1, 1, 5, 1, 5,\n",
       "       4, 1, 5, 1, 1, 0, 5, 5, 5, 5, 0, 1, 5, 6, 5, 5, 5, 1, 1, 5, 1, 0,\n",
       "       0, 1, 1, 3, 1, 0, 3, 5, 3, 1, 4, 3, 7, 5, 4, 0, 1, 5, 2, 1, 3, 1,\n",
       "       5, 5, 6, 3, 1, 1, 1, 1, 2, 0, 1, 1, 1, 7, 1, 5, 1, 6, 2, 3, 5, 5,\n",
       "       5, 0, 5, 3, 5, 2, 3, 5, 1, 4, 5, 6, 1, 1, 1, 3, 2, 3, 5, 1, 7, 3,\n",
       "       1, 3, 5, 1, 6, 1, 2, 7, 1, 5, 7, 3, 5, 5, 5, 1, 5, 1, 5, 1, 0, 5,\n",
       "       1, 6, 2, 0, 5, 1, 1, 3, 7, 5, 3, 2, 4, 1, 5, 3, 3, 3, 5, 5, 5, 1,\n",
       "       3, 3, 1, 3, 1, 5, 1, 3, 1, 1, 5, 1, 7, 1, 5, 1, 0, 1, 1, 0, 1, 1,\n",
       "       5, 5, 2, 1, 5, 1, 5, 1, 0, 1, 5, 0, 5, 5, 5, 2, 5, 3, 7, 0, 0, 0,\n",
       "       1, 3, 1, 5, 1, 1, 1, 5, 3, 6, 1, 3, 3, 1, 1, 3, 5, 1, 5, 4, 7, 5,\n",
       "       2, 3, 5, 5, 3, 0, 5, 5, 2, 5, 1, 0, 7, 1, 5, 1, 0, 5, 1, 1, 5, 4,\n",
       "       5, 1, 2, 4, 3, 1, 2, 1, 2, 2, 5, 3, 5, 3, 4, 7, 5, 4, 5, 5, 4, 1,\n",
       "       0, 3, 4, 0, 2, 1, 3, 7, 5, 5, 7, 7, 1, 5, 5, 1, 5, 1, 1, 1, 4, 5,\n",
       "       5, 1, 3, 1, 5, 5, 5, 4, 1, 4, 1, 3, 3, 1, 5, 4, 5, 3, 7, 1, 1, 1,\n",
       "       5, 1, 3, 7, 1, 4, 7, 3, 5, 3, 1, 2, 5, 4, 5, 3, 4, 5, 5, 5, 7, 5,\n",
       "       5, 1, 3, 4, 1, 1, 5, 5, 3, 3, 5, 5, 1, 1, 3, 1, 3, 1, 1, 3, 1, 3,\n",
       "       1, 1, 1, 1, 4, 1, 5, 5, 3, 3, 2, 1, 5, 5, 2, 1, 3, 5, 3, 1, 5, 1,\n",
       "       5, 5, 4, 1, 5, 2, 0, 5, 7, 1, 7, 0, 1, 3, 0, 5, 5, 3, 5, 3, 1, 5,\n",
       "       6, 5, 5, 1, 1, 3, 5, 5, 1, 5, 5, 5, 2, 0, 3, 5, 1, 1, 1, 1, 3, 5,\n",
       "       5, 5, 5, 0, 1, 3, 5, 6, 1, 1, 5, 7, 5, 4, 3, 0, 5, 3, 5, 2, 1, 1,\n",
       "       1, 3, 5, 1, 1, 1, 3, 4, 1, 3, 5, 1, 1, 1, 5, 3, 3, 1, 5, 1, 5, 3,\n",
       "       5, 1, 3, 3, 5, 3, 0, 3, 3, 5, 3, 1, 3, 5, 5, 0, 5, 5, 3, 2, 6, 1,\n",
       "       5, 5, 3, 5, 1, 2, 1, 1, 3, 1, 0, 0, 1, 1, 5, 5, 5, 3, 1, 5, 5, 1,\n",
       "       1, 5, 3, 1, 5, 0, 1, 5, 5, 1, 7, 4, 0, 5, 5, 6, 4, 4, 1, 5, 1, 3,\n",
       "       5, 6, 3, 7, 1, 5, 1, 3, 1, 4, 1, 6, 5, 5, 2, 5, 1, 3, 2, 1, 4, 5,\n",
       "       2, 5, 5, 4, 5, 1, 5, 1, 1, 4, 3, 5, 3, 1, 4, 1, 5, 3, 3, 3, 2, 1,\n",
       "       1, 5, 5, 6, 1, 5, 1, 0, 0, 2, 1, 4, 7, 1, 1, 0, 0, 5, 5, 5, 5, 0,\n",
       "       4, 1, 6, 6, 5, 5, 6, 1, 1, 2, 3, 5, 5, 4, 1, 1, 5, 1, 1, 1, 7, 5,\n",
       "       3, 1, 5, 1, 3, 5, 1, 1, 5, 6, 5, 3, 4, 3, 1, 4, 3, 5, 5, 2, 1, 4,\n",
       "       3, 1, 5, 5, 2, 0, 1, 1, 4, 3, 1, 5, 3, 3, 1, 5, 3, 5, 1, 5, 4, 1,\n",
       "       5, 5, 5, 3, 6, 1, 5, 7, 5, 2, 0, 5, 5, 5, 5, 1, 5, 5, 7, 3, 2, 4,\n",
       "       1, 3, 3, 3, 3, 5, 3, 5, 1, 1, 5, 1, 5, 1, 4, 3, 5, 5, 3, 5, 5, 4,\n",
       "       5, 2, 4, 5, 3, 0, 7, 5, 5, 1, 5, 5, 2, 1, 3, 1, 5, 6, 1, 1, 5, 2,\n",
       "       5, 4, 2, 1, 3, 1, 5, 3, 3, 3, 2, 1, 0, 3, 5, 1, 5, 3, 5, 5, 1, 3,\n",
       "       5, 1, 1, 1, 2, 5, 0, 1, 5, 1, 1, 1, 0, 2, 1, 1, 5, 3, 3, 6, 5, 1,\n",
       "       5, 1, 5, 5, 1, 5, 6, 1, 5, 2, 3, 1, 5, 5, 3, 1, 5, 5, 5, 5, 2, 5,\n",
       "       5, 1, 1, 1, 0, 5, 3, 5, 1, 1, 5, 5, 1, 3, 1, 1, 1, 1, 1, 4, 5, 1,\n",
       "       1, 1, 0, 1, 6, 5, 3, 5, 5, 5, 1, 5, 3, 3, 5, 1, 2, 1, 1, 5, 1, 4,\n",
       "       5, 1, 1, 5, 3, 1, 3, 5, 4, 1, 2, 3, 3, 5, 1, 3, 0, 5, 2, 3, 3, 1,\n",
       "       5, 1, 5, 3, 5, 5, 3, 5, 6, 3, 3, 2, 5, 3, 1, 1, 7, 7, 5, 5, 5, 3,\n",
       "       1, 3, 3, 5, 0, 3, 2, 5, 1, 5, 5, 5, 2, 0, 5, 1, 1, 1, 5, 1, 3, 1,\n",
       "       3, 1, 5, 5, 5, 1, 0, 5, 7, 5, 5, 1, 3, 2, 5, 4, 5, 1, 1, 5, 3, 4,\n",
       "       5, 1, 0, 1, 3, 5, 1, 3, 1, 5, 3, 2, 2, 3, 2, 5, 1, 5, 4, 1, 7, 5,\n",
       "       7, 4, 1, 5, 5, 5, 1, 1, 0, 2, 1, 1, 0, 3, 5, 1, 3, 5, 1, 2, 5, 5,\n",
       "       0, 3, 3, 1, 3, 2, 1, 5, 6, 1])"
      ]
     },
     "execution_count": 73,
     "metadata": {},
     "output_type": "execute_result"
    }
   ],
   "source": [
    "pred1"
   ]
  },
  {
   "cell_type": "code",
   "execution_count": 76,
   "id": "780a81cd",
   "metadata": {},
   "outputs": [],
   "source": [
    "df1 = pd.DataFrame(pred1)"
   ]
  },
  {
   "cell_type": "code",
   "execution_count": 78,
   "id": "e18217a2",
   "metadata": {},
   "outputs": [
    {
     "data": {
      "text/plain": [
       "5    311\n",
       "1    293\n",
       "3    161\n",
       "2     62\n",
       "0     58\n",
       "4     54\n",
       "7     35\n",
       "6     26\n",
       "dtype: int64"
      ]
     },
     "execution_count": 78,
     "metadata": {},
     "output_type": "execute_result"
    }
   ],
   "source": [
    "df1.value_counts()"
   ]
  },
  {
   "cell_type": "markdown",
   "id": "db7c25fd",
   "metadata": {},
   "source": [
    "# 3) Выполните оптимизацию гиперпараметров кластеризации (либо иерархической модели из п. 1, либо иной модели из п. 2, на ваш выбор; в случае иерархической кластеризации из п. 1 гиперпараметр — пороговое расстояние между центроидами, являющееся границей разбиения на кластеры). Оптимизацию выполните, используя одну из метрик качества кластеризации, для которых нам понадобится информация об исходных метках класса: Adjusted Rand Index (ARI), Adjusted Mutual Information (AMI), Гомогенность, полнота, V-мера."
   ]
  },
  {
   "cell_type": "markdown",
   "id": "b23d2b30",
   "metadata": {},
   "source": [
    "## Adjusted_Rand_Score "
   ]
  },
  {
   "cell_type": "code",
   "execution_count": 79,
   "id": "a146bf2f",
   "metadata": {},
   "outputs": [],
   "source": [
    "from sklearn.metrics.cluster import adjusted_rand_score"
   ]
  },
  {
   "cell_type": "code",
   "execution_count": 84,
   "id": "f938a3ab",
   "metadata": {},
   "outputs": [
    {
     "data": {
      "text/plain": [
       "0.01882976102639657"
      ]
     },
     "execution_count": 84,
     "metadata": {},
     "output_type": "execute_result"
    }
   ],
   "source": [
    "adjusted_rand_score(df_new['AgeCategory'][:1000], pred1)"
   ]
  },
  {
   "cell_type": "markdown",
   "id": "e63a29c9",
   "metadata": {},
   "source": [
    "## Adjusted_Mutual_Info_Score  "
   ]
  },
  {
   "cell_type": "code",
   "execution_count": 89,
   "id": "23ec741f",
   "metadata": {},
   "outputs": [],
   "source": [
    "from sklearn.metrics.cluster import adjusted_mutual_info_score"
   ]
  },
  {
   "cell_type": "code",
   "execution_count": 90,
   "id": "7864b647",
   "metadata": {},
   "outputs": [
    {
     "data": {
      "text/plain": [
       "0.015763567806805334"
      ]
     },
     "execution_count": 90,
     "metadata": {},
     "output_type": "execute_result"
    }
   ],
   "source": [
    "adjusted_mutual_info_score(df_new['AgeCategory'][:1000], pred1)"
   ]
  },
  {
   "cell_type": "markdown",
   "id": "300f9db6",
   "metadata": {},
   "source": [
    "## Homogeneity_Score "
   ]
  },
  {
   "cell_type": "code",
   "execution_count": 85,
   "id": "6ef49f6b",
   "metadata": {},
   "outputs": [],
   "source": [
    "from sklearn.metrics.cluster import homogeneity_score"
   ]
  },
  {
   "cell_type": "code",
   "execution_count": 86,
   "id": "d348264d",
   "metadata": {},
   "outputs": [
    {
     "data": {
      "text/plain": [
       "0.03437636631124543"
      ]
     },
     "execution_count": 86,
     "metadata": {},
     "output_type": "execute_result"
    }
   ],
   "source": [
    "homogeneity_score(df_new['AgeCategory'][:1000], pred1)"
   ]
  },
  {
   "cell_type": "markdown",
   "id": "5cf0e5b6",
   "metadata": {},
   "source": [
    "## Completeness "
   ]
  },
  {
   "cell_type": "code",
   "execution_count": 113,
   "id": "9014f4cc",
   "metadata": {},
   "outputs": [],
   "source": [
    "from sklearn.metrics.cluster import completeness_score"
   ]
  },
  {
   "cell_type": "code",
   "execution_count": 114,
   "id": "dca2a00e",
   "metadata": {},
   "outputs": [
    {
     "data": {
      "text/plain": [
       "0.04213078422977684"
      ]
     },
     "execution_count": 114,
     "metadata": {},
     "output_type": "execute_result"
    }
   ],
   "source": [
    "completeness_score(df_new['AgeCategory'][:1000], pred1)"
   ]
  },
  {
   "cell_type": "markdown",
   "id": "3aed41cd",
   "metadata": {},
   "source": [
    "## V-measure"
   ]
  },
  {
   "cell_type": "code",
   "execution_count": 116,
   "id": "c3e1a4a2",
   "metadata": {},
   "outputs": [],
   "source": [
    "from sklearn.metrics.cluster import v_measure_score"
   ]
  },
  {
   "cell_type": "code",
   "execution_count": 117,
   "id": "dc6f3094",
   "metadata": {},
   "outputs": [
    {
     "data": {
      "text/plain": [
       "0.037860598948494015"
      ]
     },
     "execution_count": 117,
     "metadata": {},
     "output_type": "execute_result"
    }
   ],
   "source": [
    "v_measure_score(df_new['AgeCategory'][:1000], pred1)"
   ]
  },
  {
   "cell_type": "markdown",
   "id": "63876fe4",
   "metadata": {},
   "source": [
    "# 4) Используя алгоритм/модель из п. 2 выполните оптимизацию гиперпараметра количества кластеров, используя \"правило локтя\" (анализируем график силуэта)"
   ]
  },
  {
   "cell_type": "markdown",
   "id": "2dc17acb",
   "metadata": {},
   "source": [
    "## Подбор гиперпараметров "
   ]
  },
  {
   "cell_type": "code",
   "execution_count": 92,
   "id": "f18ab37b",
   "metadata": {},
   "outputs": [],
   "source": [
    "from sklearn.model_selection import GridSearchCV"
   ]
  },
  {
   "cell_type": "code",
   "execution_count": 95,
   "id": "4efd8074",
   "metadata": {},
   "outputs": [
    {
     "data": {
      "text/plain": [
       "{'algorithm': 'auto',\n",
       " 'copy_x': True,\n",
       " 'init': 'k-means++',\n",
       " 'max_iter': 300,\n",
       " 'n_clusters': 8,\n",
       " 'n_init': 10,\n",
       " 'random_state': None,\n",
       " 'tol': 0.0001,\n",
       " 'verbose': 0}"
      ]
     },
     "execution_count": 95,
     "metadata": {},
     "output_type": "execute_result"
    }
   ],
   "source": [
    "model1.get_params()"
   ]
  },
  {
   "cell_type": "code",
   "execution_count": 96,
   "id": "a54a441b",
   "metadata": {},
   "outputs": [
    {
     "data": {
      "text/plain": [
       "GridSearchCV(estimator=KMeans(),\n",
       "             param_grid={'algorithm': ('auto', 'full', 'elkan'),\n",
       "                         'init': ('k-means++', 'random'),\n",
       "                         'n_clusters': (2, 3, 4, 5, 6, 7, 8)})"
      ]
     },
     "execution_count": 96,
     "metadata": {},
     "output_type": "execute_result"
    }
   ],
   "source": [
    "parameters = {'n_clusters':(2, 3, 4, 5, 6, 7, 8), 'init':('k-means++', 'random'), 'algorithm':('auto', 'full', 'elkan')}\n",
    "clf = GridSearchCV(model1, parameters)\n",
    "clf.fit(temp.iloc[:1000], df_new['AgeCategory'][:1000])"
   ]
  },
  {
   "cell_type": "code",
   "execution_count": 98,
   "id": "71df7d26",
   "metadata": {},
   "outputs": [
    {
     "data": {
      "text/plain": [
       "{'algorithm': 'full', 'init': 'k-means++', 'n_clusters': 8}"
      ]
     },
     "execution_count": 98,
     "metadata": {},
     "output_type": "execute_result"
    }
   ],
   "source": [
    "clf.best_params_"
   ]
  },
  {
   "cell_type": "markdown",
   "id": "dc205a9a",
   "metadata": {},
   "source": [
    "## Использование модели с подобранными гиперпараметрами "
   ]
  },
  {
   "cell_type": "code",
   "execution_count": 106,
   "id": "40805971",
   "metadata": {},
   "outputs": [],
   "source": [
    "model2 = KMeans(n_clusters = 8, init='k-means++', algorithm='full')"
   ]
  },
  {
   "cell_type": "code",
   "execution_count": 107,
   "id": "162df755",
   "metadata": {},
   "outputs": [
    {
     "data": {
      "text/plain": [
       "KMeans(algorithm='full')"
      ]
     },
     "execution_count": 107,
     "metadata": {},
     "output_type": "execute_result"
    }
   ],
   "source": [
    "model2.fit(temp.iloc[:1000])"
   ]
  },
  {
   "cell_type": "code",
   "execution_count": 109,
   "id": "35186079",
   "metadata": {},
   "outputs": [],
   "source": [
    "pred2 = model2.labels_"
   ]
  },
  {
   "cell_type": "markdown",
   "id": "a237af83",
   "metadata": {},
   "source": [
    "## Adjusted_Rand_Score "
   ]
  },
  {
   "cell_type": "code",
   "execution_count": 110,
   "id": "077d09fe",
   "metadata": {},
   "outputs": [
    {
     "data": {
      "text/plain": [
       "0.019469743566533977"
      ]
     },
     "execution_count": 110,
     "metadata": {},
     "output_type": "execute_result"
    }
   ],
   "source": [
    "adjusted_rand_score(df_new['AgeCategory'][:1000], pred2)"
   ]
  },
  {
   "cell_type": "markdown",
   "id": "5fccc757",
   "metadata": {},
   "source": [
    "## Adjusted_Mutual_Info_Score "
   ]
  },
  {
   "cell_type": "code",
   "execution_count": 111,
   "id": "9b56403c",
   "metadata": {},
   "outputs": [
    {
     "data": {
      "text/plain": [
       "0.01635530056381086"
      ]
     },
     "execution_count": 111,
     "metadata": {},
     "output_type": "execute_result"
    }
   ],
   "source": [
    "adjusted_mutual_info_score(df_new['AgeCategory'][:1000], pred2)"
   ]
  },
  {
   "cell_type": "markdown",
   "id": "14d24343",
   "metadata": {},
   "source": [
    "## Homogeneity_Score "
   ]
  },
  {
   "cell_type": "code",
   "execution_count": 112,
   "id": "0501f889",
   "metadata": {},
   "outputs": [
    {
     "data": {
      "text/plain": [
       "0.034899048311571534"
      ]
     },
     "execution_count": 112,
     "metadata": {},
     "output_type": "execute_result"
    }
   ],
   "source": [
    "homogeneity_score(df_new['AgeCategory'][:1000], pred2)"
   ]
  },
  {
   "cell_type": "markdown",
   "id": "634f7d95",
   "metadata": {},
   "source": [
    "## Completeness"
   ]
  },
  {
   "cell_type": "code",
   "execution_count": 115,
   "id": "ccb82262",
   "metadata": {},
   "outputs": [
    {
     "data": {
      "text/plain": [
       "0.04278503343110607"
      ]
     },
     "execution_count": 115,
     "metadata": {},
     "output_type": "execute_result"
    }
   ],
   "source": [
    "completeness_score(df_new['AgeCategory'][:1000], pred2)"
   ]
  },
  {
   "cell_type": "markdown",
   "id": "d8f44dcf",
   "metadata": {},
   "source": [
    "## V-measure "
   ]
  },
  {
   "cell_type": "code",
   "execution_count": 120,
   "id": "b2eeb5f2",
   "metadata": {},
   "outputs": [
    {
     "data": {
      "text/plain": [
       "0.038441773790165626"
      ]
     },
     "execution_count": 120,
     "metadata": {},
     "output_type": "execute_result"
    }
   ],
   "source": [
    "v_measure_score(df_new['AgeCategory'][:1000], pred2)"
   ]
  },
  {
   "cell_type": "code",
   "execution_count": null,
   "id": "dec2a326",
   "metadata": {},
   "outputs": [],
   "source": []
  }
 ],
 "metadata": {
  "kernelspec": {
   "display_name": "Python 3 (ipykernel)",
   "language": "python",
   "name": "python3"
  },
  "language_info": {
   "codemirror_mode": {
    "name": "ipython",
    "version": 3
   },
   "file_extension": ".py",
   "mimetype": "text/x-python",
   "name": "python",
   "nbconvert_exporter": "python",
   "pygments_lexer": "ipython3",
   "version": "3.9.2"
  }
 },
 "nbformat": 4,
 "nbformat_minor": 5
}
