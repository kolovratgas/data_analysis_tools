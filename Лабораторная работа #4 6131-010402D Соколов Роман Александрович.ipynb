{
 "cells": [
  {
   "cell_type": "markdown",
   "id": "4aa56022",
   "metadata": {},
   "source": [
    "# Лабораторная работа 4\n",
    "\n",
    "## Деревья решений\n",
    "\n",
    "## Выполнил: 6131, Соколов Роман Александрович"
   ]
  },
  {
   "cell_type": "code",
   "execution_count": 72,
   "id": "35db85f4",
   "metadata": {},
   "outputs": [],
   "source": [
    "import pandas as pd\n",
    "import numpy as np\n",
    "from sklearn.metrics import accuracy_score"
   ]
  },
  {
   "cell_type": "markdown",
   "id": "a47d5b3e",
   "metadata": {},
   "source": [
    "## Выберите набор данных для классификации (бинарной или многоклассовой — не важно). Опишите данные, что обозначает каждый столбец, какого типа (категориальный, вещественный, целочисленный, бинарный) данный столбец, при необходимости для категориальных в том числе бинарных признаков привести расшифровку их значений. В общем, проведите \"визуальный\" анализ ваших данных."
   ]
  },
  {
   "cell_type": "code",
   "execution_count": 135,
   "id": "78e3a15f",
   "metadata": {},
   "outputs": [
    {
     "data": {
      "text/html": [
       "<div>\n",
       "<style scoped>\n",
       "    .dataframe tbody tr th:only-of-type {\n",
       "        vertical-align: middle;\n",
       "    }\n",
       "\n",
       "    .dataframe tbody tr th {\n",
       "        vertical-align: top;\n",
       "    }\n",
       "\n",
       "    .dataframe thead th {\n",
       "        text-align: right;\n",
       "    }\n",
       "</style>\n",
       "<table border=\"1\" class=\"dataframe\">\n",
       "  <thead>\n",
       "    <tr style=\"text-align: right;\">\n",
       "      <th></th>\n",
       "      <th>brand</th>\n",
       "      <th>model</th>\n",
       "      <th>car_type</th>\n",
       "      <th>img_url</th>\n",
       "      <th>price</th>\n",
       "      <th>drive</th>\n",
       "      <th>hp</th>\n",
       "      <th>weight</th>\n",
       "      <th>torque</th>\n",
       "      <th>w_kg</th>\n",
       "    </tr>\n",
       "  </thead>\n",
       "  <tbody>\n",
       "    <tr>\n",
       "      <th>0</th>\n",
       "      <td>AC Cars</td>\n",
       "      <td>427 S/C '66</td>\n",
       "      <td>Street</td>\n",
       "      <td>https://www.kudosprime.com/gt6/images/cars/gt6...</td>\n",
       "      <td>423200.0</td>\n",
       "      <td>FR</td>\n",
       "      <td>478.0</td>\n",
       "      <td>1311.0</td>\n",
       "      <td>651.0</td>\n",
       "      <td>272 to ? W/Kg</td>\n",
       "    </tr>\n",
       "    <tr>\n",
       "      <th>1</th>\n",
       "      <td>AEM</td>\n",
       "      <td>S2000</td>\n",
       "      <td>Tuned</td>\n",
       "      <td>https://www.kudosprime.com/gt6/images/cars/gt6...</td>\n",
       "      <td>100000.0</td>\n",
       "      <td>FR</td>\n",
       "      <td>430.0</td>\n",
       "      <td>1155.0</td>\n",
       "      <td>495.0</td>\n",
       "      <td>278 to 345 W/Kg</td>\n",
       "    </tr>\n",
       "    <tr>\n",
       "      <th>3</th>\n",
       "      <td>Abarth</td>\n",
       "      <td>500 '09</td>\n",
       "      <td>Street</td>\n",
       "      <td>https://www.kudosprime.com/gt6/images/cars/gt6...</td>\n",
       "      <td>29500.0</td>\n",
       "      <td>FF</td>\n",
       "      <td>133.0</td>\n",
       "      <td>1035.0</td>\n",
       "      <td>180.0</td>\n",
       "      <td>96 to 251 W/Kg</td>\n",
       "    </tr>\n",
       "    <tr>\n",
       "      <th>4</th>\n",
       "      <td>Abarth</td>\n",
       "      <td>Grande Punto '09</td>\n",
       "      <td>Street</td>\n",
       "      <td>https://www.kudosprime.com/gt6/images/cars/gt6...</td>\n",
       "      <td>27000.0</td>\n",
       "      <td>FF</td>\n",
       "      <td>153.0</td>\n",
       "      <td>1240.0</td>\n",
       "      <td>230.0</td>\n",
       "      <td>92 to ? W/Kg</td>\n",
       "    </tr>\n",
       "    <tr>\n",
       "      <th>5</th>\n",
       "      <td>Acura</td>\n",
       "      <td>CL 3.2 Type-S '01</td>\n",
       "      <td>Street</td>\n",
       "      <td>https://www.kudosprime.com/gt6/images/cars/gt6...</td>\n",
       "      <td>32180.0</td>\n",
       "      <td>FF</td>\n",
       "      <td>260.0</td>\n",
       "      <td>1592.0</td>\n",
       "      <td>315.0</td>\n",
       "      <td>122 to ? W/Kg</td>\n",
       "    </tr>\n",
       "    <tr>\n",
       "      <th>...</th>\n",
       "      <td>...</td>\n",
       "      <td>...</td>\n",
       "      <td>...</td>\n",
       "      <td>...</td>\n",
       "      <td>...</td>\n",
       "      <td>...</td>\n",
       "      <td>...</td>\n",
       "      <td>...</td>\n",
       "      <td>...</td>\n",
       "      <td>...</td>\n",
       "    </tr>\n",
       "    <tr>\n",
       "      <th>1265</th>\n",
       "      <td>Volkswagen</td>\n",
       "      <td>Scirocco R '10</td>\n",
       "      <td>Street</td>\n",
       "      <td>https://www.kudosprime.com/gt6/images/cars/gt6...</td>\n",
       "      <td>51500.0</td>\n",
       "      <td>FF</td>\n",
       "      <td>252.0</td>\n",
       "      <td>1410.0</td>\n",
       "      <td>330.0</td>\n",
       "      <td>133 to 298 W/Kg</td>\n",
       "    </tr>\n",
       "    <tr>\n",
       "      <th>1266</th>\n",
       "      <td>Volkswagen</td>\n",
       "      <td>W12 Nardo '01</td>\n",
       "      <td>Street</td>\n",
       "      <td>https://www.kudosprime.com/gt6/images/cars/gt6...</td>\n",
       "      <td>1250000.0</td>\n",
       "      <td>MR</td>\n",
       "      <td>574.0</td>\n",
       "      <td>1300.0</td>\n",
       "      <td>620.0</td>\n",
       "      <td>329 to ? W/Kg</td>\n",
       "    </tr>\n",
       "    <tr>\n",
       "      <th>1267</th>\n",
       "      <td>Volvo</td>\n",
       "      <td>240 GLT Estate '88</td>\n",
       "      <td>Street</td>\n",
       "      <td>https://www.kudosprime.com/gt6/images/cars/gt6...</td>\n",
       "      <td>15920.0</td>\n",
       "      <td>FR</td>\n",
       "      <td>127.0</td>\n",
       "      <td>1890.0</td>\n",
       "      <td>190.0</td>\n",
       "      <td>50 to ? W/Kg</td>\n",
       "    </tr>\n",
       "    <tr>\n",
       "      <th>1268</th>\n",
       "      <td>Volvo</td>\n",
       "      <td>C30 R-Design '09</td>\n",
       "      <td>Street</td>\n",
       "      <td>https://www.kudosprime.com/gt6/images/cars/gt6...</td>\n",
       "      <td>42000.0</td>\n",
       "      <td>FF</td>\n",
       "      <td>227.0</td>\n",
       "      <td>1430.0</td>\n",
       "      <td>319.0</td>\n",
       "      <td>118 to ? W/Kg</td>\n",
       "    </tr>\n",
       "    <tr>\n",
       "      <th>1269</th>\n",
       "      <td>Volvo</td>\n",
       "      <td>S60 T-5 Sport '03</td>\n",
       "      <td>Street</td>\n",
       "      <td>https://www.kudosprime.com/gt6/images/cars/gt6...</td>\n",
       "      <td>35580.0</td>\n",
       "      <td>FF</td>\n",
       "      <td>246.0</td>\n",
       "      <td>1550.0</td>\n",
       "      <td>330.0</td>\n",
       "      <td>119 to ? W/Kg</td>\n",
       "    </tr>\n",
       "  </tbody>\n",
       "</table>\n",
       "<p>1031 rows × 10 columns</p>\n",
       "</div>"
      ],
      "text/plain": [
       "           brand               model car_type  \\\n",
       "0        AC Cars         427 S/C '66   Street   \n",
       "1            AEM               S2000    Tuned   \n",
       "3         Abarth             500 '09   Street   \n",
       "4         Abarth    Grande Punto '09   Street   \n",
       "5          Acura   CL 3.2 Type-S '01   Street   \n",
       "...          ...                 ...      ...   \n",
       "1265  Volkswagen      Scirocco R '10   Street   \n",
       "1266  Volkswagen       W12 Nardo '01   Street   \n",
       "1267       Volvo  240 GLT Estate '88   Street   \n",
       "1268       Volvo    C30 R-Design '09   Street   \n",
       "1269       Volvo   S60 T-5 Sport '03   Street   \n",
       "\n",
       "                                                img_url      price drive  \\\n",
       "0     https://www.kudosprime.com/gt6/images/cars/gt6...   423200.0    FR   \n",
       "1     https://www.kudosprime.com/gt6/images/cars/gt6...   100000.0    FR   \n",
       "3     https://www.kudosprime.com/gt6/images/cars/gt6...    29500.0    FF   \n",
       "4     https://www.kudosprime.com/gt6/images/cars/gt6...    27000.0    FF   \n",
       "5     https://www.kudosprime.com/gt6/images/cars/gt6...    32180.0    FF   \n",
       "...                                                 ...        ...   ...   \n",
       "1265  https://www.kudosprime.com/gt6/images/cars/gt6...    51500.0    FF   \n",
       "1266  https://www.kudosprime.com/gt6/images/cars/gt6...  1250000.0    MR   \n",
       "1267  https://www.kudosprime.com/gt6/images/cars/gt6...    15920.0    FR   \n",
       "1268  https://www.kudosprime.com/gt6/images/cars/gt6...    42000.0    FF   \n",
       "1269  https://www.kudosprime.com/gt6/images/cars/gt6...    35580.0    FF   \n",
       "\n",
       "         hp  weight  torque             w_kg  \n",
       "0     478.0  1311.0   651.0    272 to ? W/Kg  \n",
       "1     430.0  1155.0   495.0  278 to 345 W/Kg  \n",
       "3     133.0  1035.0   180.0   96 to 251 W/Kg  \n",
       "4     153.0  1240.0   230.0     92 to ? W/Kg  \n",
       "5     260.0  1592.0   315.0    122 to ? W/Kg  \n",
       "...     ...     ...     ...              ...  \n",
       "1265  252.0  1410.0   330.0  133 to 298 W/Kg  \n",
       "1266  574.0  1300.0   620.0    329 to ? W/Kg  \n",
       "1267  127.0  1890.0   190.0     50 to ? W/Kg  \n",
       "1268  227.0  1430.0   319.0    118 to ? W/Kg  \n",
       "1269  246.0  1550.0   330.0    119 to ? W/Kg  \n",
       "\n",
       "[1031 rows x 10 columns]"
      ]
     },
     "execution_count": 135,
     "metadata": {},
     "output_type": "execute_result"
    }
   ],
   "source": [
    "df = pd.read_csv('gran_turismo_gt6.csv')\n",
    "df = df.dropna()\n",
    "df"
   ]
  },
  {
   "cell_type": "markdown",
   "id": "86df0d23",
   "metadata": {},
   "source": [
    "# Задание 1"
   ]
  },
  {
   "cell_type": "markdown",
   "id": "56f5a0ae",
   "metadata": {},
   "source": [
    "## 1.0. Для вашего датасета преобразовать категориальные признаки в бинарные с помощью pd.factorize / pd.get_dummies"
   ]
  },
  {
   "cell_type": "code",
   "execution_count": 136,
   "id": "640fa1b2",
   "metadata": {},
   "outputs": [],
   "source": [
    "y = pd.get_dummies(df['car_type'])"
   ]
  },
  {
   "cell_type": "code",
   "execution_count": 138,
   "id": "c267bd3d",
   "metadata": {},
   "outputs": [
    {
     "data": {
      "text/html": [
       "<div>\n",
       "<style scoped>\n",
       "    .dataframe tbody tr th:only-of-type {\n",
       "        vertical-align: middle;\n",
       "    }\n",
       "\n",
       "    .dataframe tbody tr th {\n",
       "        vertical-align: top;\n",
       "    }\n",
       "\n",
       "    .dataframe thead th {\n",
       "        text-align: right;\n",
       "    }\n",
       "</style>\n",
       "<table border=\"1\" class=\"dataframe\">\n",
       "  <thead>\n",
       "    <tr style=\"text-align: right;\">\n",
       "      <th></th>\n",
       "      <th>Race</th>\n",
       "      <th>Street</th>\n",
       "      <th>Tuned</th>\n",
       "    </tr>\n",
       "  </thead>\n",
       "  <tbody>\n",
       "    <tr>\n",
       "      <th>0</th>\n",
       "      <td>0</td>\n",
       "      <td>1</td>\n",
       "      <td>0</td>\n",
       "    </tr>\n",
       "    <tr>\n",
       "      <th>1</th>\n",
       "      <td>0</td>\n",
       "      <td>0</td>\n",
       "      <td>1</td>\n",
       "    </tr>\n",
       "    <tr>\n",
       "      <th>3</th>\n",
       "      <td>0</td>\n",
       "      <td>1</td>\n",
       "      <td>0</td>\n",
       "    </tr>\n",
       "    <tr>\n",
       "      <th>4</th>\n",
       "      <td>0</td>\n",
       "      <td>1</td>\n",
       "      <td>0</td>\n",
       "    </tr>\n",
       "    <tr>\n",
       "      <th>5</th>\n",
       "      <td>0</td>\n",
       "      <td>1</td>\n",
       "      <td>0</td>\n",
       "    </tr>\n",
       "    <tr>\n",
       "      <th>...</th>\n",
       "      <td>...</td>\n",
       "      <td>...</td>\n",
       "      <td>...</td>\n",
       "    </tr>\n",
       "    <tr>\n",
       "      <th>1265</th>\n",
       "      <td>0</td>\n",
       "      <td>1</td>\n",
       "      <td>0</td>\n",
       "    </tr>\n",
       "    <tr>\n",
       "      <th>1266</th>\n",
       "      <td>0</td>\n",
       "      <td>1</td>\n",
       "      <td>0</td>\n",
       "    </tr>\n",
       "    <tr>\n",
       "      <th>1267</th>\n",
       "      <td>0</td>\n",
       "      <td>1</td>\n",
       "      <td>0</td>\n",
       "    </tr>\n",
       "    <tr>\n",
       "      <th>1268</th>\n",
       "      <td>0</td>\n",
       "      <td>1</td>\n",
       "      <td>0</td>\n",
       "    </tr>\n",
       "    <tr>\n",
       "      <th>1269</th>\n",
       "      <td>0</td>\n",
       "      <td>1</td>\n",
       "      <td>0</td>\n",
       "    </tr>\n",
       "  </tbody>\n",
       "</table>\n",
       "<p>1031 rows × 3 columns</p>\n",
       "</div>"
      ],
      "text/plain": [
       "      Race  Street  Tuned\n",
       "0        0       1      0\n",
       "1        0       0      1\n",
       "3        0       1      0\n",
       "4        0       1      0\n",
       "5        0       1      0\n",
       "...    ...     ...    ...\n",
       "1265     0       1      0\n",
       "1266     0       1      0\n",
       "1267     0       1      0\n",
       "1268     0       1      0\n",
       "1269     0       1      0\n",
       "\n",
       "[1031 rows x 3 columns]"
      ]
     },
     "execution_count": 138,
     "metadata": {},
     "output_type": "execute_result"
    }
   ],
   "source": [
    "y"
   ]
  },
  {
   "cell_type": "markdown",
   "id": "dc472054",
   "metadata": {},
   "source": [
    "## 1.1. С помощью sklearn.preprocessing.StandardScaler нормализовать значения признаков и построить для нормализованного датасета KNeighborsClassifier (без использования конвееров) "
   ]
  },
  {
   "cell_type": "code",
   "execution_count": 140,
   "id": "81e579c3",
   "metadata": {},
   "outputs": [],
   "source": [
    "from sklearn.preprocessing import StandardScaler"
   ]
  },
  {
   "cell_type": "code",
   "execution_count": 141,
   "id": "bf4bc8af",
   "metadata": {},
   "outputs": [],
   "source": [
    "scaler = StandardScaler()"
   ]
  },
  {
   "cell_type": "code",
   "execution_count": 142,
   "id": "147dc36e",
   "metadata": {},
   "outputs": [
    {
     "data": {
      "text/html": [
       "<div>\n",
       "<style scoped>\n",
       "    .dataframe tbody tr th:only-of-type {\n",
       "        vertical-align: middle;\n",
       "    }\n",
       "\n",
       "    .dataframe tbody tr th {\n",
       "        vertical-align: top;\n",
       "    }\n",
       "\n",
       "    .dataframe thead th {\n",
       "        text-align: right;\n",
       "    }\n",
       "</style>\n",
       "<table border=\"1\" class=\"dataframe\">\n",
       "  <thead>\n",
       "    <tr style=\"text-align: right;\">\n",
       "      <th></th>\n",
       "      <th>hp</th>\n",
       "      <th>weight</th>\n",
       "      <th>torque</th>\n",
       "    </tr>\n",
       "  </thead>\n",
       "  <tbody>\n",
       "    <tr>\n",
       "      <th>0</th>\n",
       "      <td>478.0</td>\n",
       "      <td>1311.0</td>\n",
       "      <td>651.0</td>\n",
       "    </tr>\n",
       "    <tr>\n",
       "      <th>1</th>\n",
       "      <td>430.0</td>\n",
       "      <td>1155.0</td>\n",
       "      <td>495.0</td>\n",
       "    </tr>\n",
       "  </tbody>\n",
       "</table>\n",
       "</div>"
      ],
      "text/plain": [
       "      hp  weight  torque\n",
       "0  478.0  1311.0   651.0\n",
       "1  430.0  1155.0   495.0"
      ]
     },
     "execution_count": 142,
     "metadata": {},
     "output_type": "execute_result"
    }
   ],
   "source": [
    "data = df.iloc[0:,[-4, -3, -2]]\n",
    "data.head(2)"
   ]
  },
  {
   "cell_type": "code",
   "execution_count": 143,
   "id": "85a1d6cf",
   "metadata": {},
   "outputs": [],
   "source": [
    "data1 = scaler.fit_transform(data)\n",
    "data = pd.DataFrame({'hp':data1[0:,0], 'weight':data1[0:, 1], 'torque':data1[0:, 2]})"
   ]
  },
  {
   "cell_type": "code",
   "execution_count": 144,
   "id": "b51f97e0",
   "metadata": {},
   "outputs": [],
   "source": [
    "x_train, y_train = data[0:round(data.shape[0]*0.3)], y[0:round(y.shape[0]*0.3)]\n",
    "x_test, y_test = data[round(data.shape[0]*0.3):], y[round(y.shape[0]*0.3):]"
   ]
  },
  {
   "cell_type": "code",
   "execution_count": 145,
   "id": "f4abdb91",
   "metadata": {},
   "outputs": [],
   "source": [
    "from sklearn.neighbors import KNeighborsClassifier"
   ]
  },
  {
   "cell_type": "code",
   "execution_count": 146,
   "id": "2a321f4e",
   "metadata": {},
   "outputs": [],
   "source": [
    "model1 = KNeighborsClassifier(n_neighbors=3)"
   ]
  },
  {
   "cell_type": "code",
   "execution_count": 147,
   "id": "58483b20",
   "metadata": {},
   "outputs": [
    {
     "data": {
      "text/plain": [
       "KNeighborsClassifier(n_neighbors=3)"
      ]
     },
     "execution_count": 147,
     "metadata": {},
     "output_type": "execute_result"
    }
   ],
   "source": [
    "model1.fit(x_train, y_train)"
   ]
  },
  {
   "cell_type": "code",
   "execution_count": 148,
   "id": "5d8af0ff",
   "metadata": {},
   "outputs": [],
   "source": [
    "pred = model1.predict(x_test)"
   ]
  },
  {
   "cell_type": "code",
   "execution_count": 149,
   "id": "e04985d5",
   "metadata": {},
   "outputs": [
    {
     "data": {
      "text/html": [
       "<div>\n",
       "<style scoped>\n",
       "    .dataframe tbody tr th:only-of-type {\n",
       "        vertical-align: middle;\n",
       "    }\n",
       "\n",
       "    .dataframe tbody tr th {\n",
       "        vertical-align: top;\n",
       "    }\n",
       "\n",
       "    .dataframe thead th {\n",
       "        text-align: right;\n",
       "    }\n",
       "</style>\n",
       "<table border=\"1\" class=\"dataframe\">\n",
       "  <thead>\n",
       "    <tr style=\"text-align: right;\">\n",
       "      <th></th>\n",
       "      <th>0</th>\n",
       "      <th>1</th>\n",
       "      <th>2</th>\n",
       "    </tr>\n",
       "  </thead>\n",
       "  <tbody>\n",
       "    <tr>\n",
       "      <th>0</th>\n",
       "      <td>0</td>\n",
       "      <td>1</td>\n",
       "      <td>0</td>\n",
       "    </tr>\n",
       "    <tr>\n",
       "      <th>1</th>\n",
       "      <td>0</td>\n",
       "      <td>1</td>\n",
       "      <td>0</td>\n",
       "    </tr>\n",
       "    <tr>\n",
       "      <th>2</th>\n",
       "      <td>0</td>\n",
       "      <td>1</td>\n",
       "      <td>0</td>\n",
       "    </tr>\n",
       "    <tr>\n",
       "      <th>3</th>\n",
       "      <td>0</td>\n",
       "      <td>1</td>\n",
       "      <td>0</td>\n",
       "    </tr>\n",
       "    <tr>\n",
       "      <th>4</th>\n",
       "      <td>0</td>\n",
       "      <td>1</td>\n",
       "      <td>0</td>\n",
       "    </tr>\n",
       "    <tr>\n",
       "      <th>...</th>\n",
       "      <td>...</td>\n",
       "      <td>...</td>\n",
       "      <td>...</td>\n",
       "    </tr>\n",
       "    <tr>\n",
       "      <th>717</th>\n",
       "      <td>0</td>\n",
       "      <td>1</td>\n",
       "      <td>0</td>\n",
       "    </tr>\n",
       "    <tr>\n",
       "      <th>718</th>\n",
       "      <td>1</td>\n",
       "      <td>0</td>\n",
       "      <td>0</td>\n",
       "    </tr>\n",
       "    <tr>\n",
       "      <th>719</th>\n",
       "      <td>0</td>\n",
       "      <td>1</td>\n",
       "      <td>0</td>\n",
       "    </tr>\n",
       "    <tr>\n",
       "      <th>720</th>\n",
       "      <td>0</td>\n",
       "      <td>1</td>\n",
       "      <td>0</td>\n",
       "    </tr>\n",
       "    <tr>\n",
       "      <th>721</th>\n",
       "      <td>0</td>\n",
       "      <td>1</td>\n",
       "      <td>0</td>\n",
       "    </tr>\n",
       "  </tbody>\n",
       "</table>\n",
       "<p>722 rows × 3 columns</p>\n",
       "</div>"
      ],
      "text/plain": [
       "     0  1  2\n",
       "0    0  1  0\n",
       "1    0  1  0\n",
       "2    0  1  0\n",
       "3    0  1  0\n",
       "4    0  1  0\n",
       "..  .. .. ..\n",
       "717  0  1  0\n",
       "718  1  0  0\n",
       "719  0  1  0\n",
       "720  0  1  0\n",
       "721  0  1  0\n",
       "\n",
       "[722 rows x 3 columns]"
      ]
     },
     "execution_count": 149,
     "metadata": {},
     "output_type": "execute_result"
    }
   ],
   "source": [
    "result = pd.DataFrame(pred)\n",
    "result"
   ]
  },
  {
   "cell_type": "markdown",
   "id": "0794d499",
   "metadata": {},
   "source": [
    "## 1.2. То же самое и использованием sklearn.pipeline.Pipeline "
   ]
  },
  {
   "cell_type": "code",
   "execution_count": 150,
   "id": "c7231622",
   "metadata": {},
   "outputs": [],
   "source": [
    "from sklearn.pipeline import Pipeline\n",
    "from sklearn.svm import SVC"
   ]
  },
  {
   "cell_type": "code",
   "execution_count": 151,
   "id": "80589617",
   "metadata": {},
   "outputs": [],
   "source": [
    "pipe = Pipeline([('scaler', StandardScaler()), ('k_neib', KNeighborsClassifier())])"
   ]
  },
  {
   "cell_type": "code",
   "execution_count": 152,
   "id": "c4dd6950",
   "metadata": {},
   "outputs": [
    {
     "data": {
      "text/plain": [
       "numpy.ndarray"
      ]
     },
     "execution_count": 152,
     "metadata": {},
     "output_type": "execute_result"
    }
   ],
   "source": [
    "y = pd.factorize(df['car_type'])\n",
    "type(y[0])"
   ]
  },
  {
   "cell_type": "code",
   "execution_count": 153,
   "id": "20dbe87e",
   "metadata": {},
   "outputs": [
    {
     "data": {
      "text/html": [
       "<div>\n",
       "<style scoped>\n",
       "    .dataframe tbody tr th:only-of-type {\n",
       "        vertical-align: middle;\n",
       "    }\n",
       "\n",
       "    .dataframe tbody tr th {\n",
       "        vertical-align: top;\n",
       "    }\n",
       "\n",
       "    .dataframe thead th {\n",
       "        text-align: right;\n",
       "    }\n",
       "</style>\n",
       "<table border=\"1\" class=\"dataframe\">\n",
       "  <thead>\n",
       "    <tr style=\"text-align: right;\">\n",
       "      <th></th>\n",
       "      <th>0</th>\n",
       "    </tr>\n",
       "  </thead>\n",
       "  <tbody>\n",
       "    <tr>\n",
       "      <th>0</th>\n",
       "      <td>0</td>\n",
       "    </tr>\n",
       "    <tr>\n",
       "      <th>1</th>\n",
       "      <td>1</td>\n",
       "    </tr>\n",
       "    <tr>\n",
       "      <th>2</th>\n",
       "      <td>0</td>\n",
       "    </tr>\n",
       "    <tr>\n",
       "      <th>3</th>\n",
       "      <td>0</td>\n",
       "    </tr>\n",
       "    <tr>\n",
       "      <th>4</th>\n",
       "      <td>0</td>\n",
       "    </tr>\n",
       "    <tr>\n",
       "      <th>...</th>\n",
       "      <td>...</td>\n",
       "    </tr>\n",
       "    <tr>\n",
       "      <th>1026</th>\n",
       "      <td>0</td>\n",
       "    </tr>\n",
       "    <tr>\n",
       "      <th>1027</th>\n",
       "      <td>0</td>\n",
       "    </tr>\n",
       "    <tr>\n",
       "      <th>1028</th>\n",
       "      <td>0</td>\n",
       "    </tr>\n",
       "    <tr>\n",
       "      <th>1029</th>\n",
       "      <td>0</td>\n",
       "    </tr>\n",
       "    <tr>\n",
       "      <th>1030</th>\n",
       "      <td>0</td>\n",
       "    </tr>\n",
       "  </tbody>\n",
       "</table>\n",
       "<p>1031 rows × 1 columns</p>\n",
       "</div>"
      ],
      "text/plain": [
       "      0\n",
       "0     0\n",
       "1     1\n",
       "2     0\n",
       "3     0\n",
       "4     0\n",
       "...  ..\n",
       "1026  0\n",
       "1027  0\n",
       "1028  0\n",
       "1029  0\n",
       "1030  0\n",
       "\n",
       "[1031 rows x 1 columns]"
      ]
     },
     "execution_count": 153,
     "metadata": {},
     "output_type": "execute_result"
    }
   ],
   "source": [
    "y2 = pd.DataFrame(y[0])\n",
    "y2"
   ]
  },
  {
   "cell_type": "code",
   "execution_count": 154,
   "id": "b226ee97",
   "metadata": {},
   "outputs": [],
   "source": [
    "y2_train = y2[0:round(y2.shape[0]*0.3)]\n",
    "y2_test = y2[round(y2.shape[0]*0.3):]"
   ]
  },
  {
   "cell_type": "code",
   "execution_count": 155,
   "id": "a8c8abc4",
   "metadata": {},
   "outputs": [
    {
     "data": {
      "text/plain": [
       "Pipeline(steps=[('scaler', StandardScaler()),\n",
       "                ('k_neib', KNeighborsClassifier())])"
      ]
     },
     "execution_count": 155,
     "metadata": {},
     "output_type": "execute_result"
    }
   ],
   "source": [
    "pipe.fit(x_train, np.ravel(y2_train))"
   ]
  },
  {
   "cell_type": "code",
   "execution_count": 156,
   "id": "932b97d7",
   "metadata": {},
   "outputs": [
    {
     "data": {
      "text/plain": [
       "0.9058171745152355"
      ]
     },
     "execution_count": 156,
     "metadata": {},
     "output_type": "execute_result"
    }
   ],
   "source": [
    "pipe.score(x_test, np.ravel(y2_test))"
   ]
  },
  {
   "cell_type": "code",
   "execution_count": 157,
   "id": "623531e3",
   "metadata": {},
   "outputs": [
    {
     "data": {
      "text/plain": [
       "array([0, 0, 0, 0, 0, 0, 0, 0, 0, 0, 0, 2, 2, 0, 0, 2, 0, 2, 0, 0, 0, 0,\n",
       "       0, 0, 0, 0, 0, 0, 0, 0, 0, 0, 0, 0, 0, 2, 2, 0, 2, 2, 0, 0, 0, 0,\n",
       "       0, 0, 0, 2, 0, 0, 0, 2, 0, 0, 0, 2, 0, 0, 0, 2, 0, 0, 2, 2, 0, 0,\n",
       "       0, 2, 2, 2, 0, 0, 0, 0, 0, 2, 0, 0, 2, 0, 0, 2, 0, 0, 0, 2, 0, 0,\n",
       "       0, 0, 0, 0, 0, 0, 0, 0, 0, 0, 0, 0, 0, 0, 0, 0, 0, 0, 0, 0, 0, 0,\n",
       "       0, 0, 0, 2, 0, 0, 0, 0, 0, 0, 0, 0, 2, 2, 0, 0, 0, 0, 0, 0, 0, 0,\n",
       "       0, 0, 0, 0, 0, 0, 0, 0, 0, 0, 0, 0, 0, 0, 0, 0, 0, 0, 0, 0, 0, 0,\n",
       "       0, 0, 0, 0, 0, 0, 0, 0, 0, 0, 0, 0, 0, 0, 2, 0, 0, 0, 0, 0, 0, 0,\n",
       "       0, 0, 0, 0, 0, 0, 0, 0, 0, 0, 0, 0, 0, 0, 0, 0, 0, 0, 0, 0, 0, 0,\n",
       "       0, 0, 0, 0, 0, 0, 0, 0, 0, 2, 2, 2, 2, 2, 0, 0, 0, 0, 0, 0, 0, 0,\n",
       "       0, 0, 0, 0, 0, 0, 0, 0, 0, 0, 0, 0, 0, 0, 2, 0, 2, 2, 2, 0, 0, 0,\n",
       "       0, 0, 0, 0, 0, 0, 0, 0, 0, 0, 0, 0, 0, 0, 0, 0, 0, 0, 0, 0, 0, 0,\n",
       "       0, 0, 0, 0, 0, 0, 0, 0, 0, 0, 2, 0, 0, 0, 0, 0, 0, 0, 2, 0, 2, 0,\n",
       "       0, 0, 0, 0, 0, 2, 0, 0, 0, 0, 0, 0, 0, 0, 0, 0, 0, 0, 0, 0, 2, 2,\n",
       "       0, 0, 0, 0, 0, 0, 0, 0, 0, 0, 0, 0, 0, 0, 0, 0, 0, 0, 0, 0, 0, 0,\n",
       "       0, 2, 2, 0, 0, 2, 0, 0, 0, 0, 0, 0, 0, 0, 0, 0, 0, 0, 0, 0, 0, 0,\n",
       "       0, 0, 2, 2, 0, 0, 0, 0, 0, 0, 2, 0, 0, 2, 2, 0, 0, 0, 0, 0, 2, 2,\n",
       "       0, 0, 0, 2, 0, 2, 2, 0, 0, 0, 0, 0, 0, 0, 0, 0, 0, 0, 0, 0, 0, 0,\n",
       "       0, 0, 0, 0, 0, 0, 0, 0, 0, 0, 0, 0, 0, 0, 0, 0, 0, 0, 0, 0, 0, 0,\n",
       "       0, 0, 0, 0, 0, 0, 0, 0, 0, 0, 0, 0, 0, 0, 0, 0, 0, 0, 0, 0, 0, 0,\n",
       "       2, 2, 2, 2, 2, 2, 2, 2, 2, 0, 0, 0, 0, 0, 2, 0, 0, 2, 0, 0, 2, 2,\n",
       "       2, 0, 0, 0, 2, 2, 0, 0, 2, 0, 0, 0, 0, 0, 2, 2, 2, 2, 0, 2, 0, 0,\n",
       "       0, 0, 0, 0, 0, 0, 0, 0, 2, 2, 2, 2, 0, 0, 2, 0, 0, 0, 0, 0, 0, 0,\n",
       "       0, 0, 0, 0, 0, 2, 2, 2, 0, 0, 0, 0, 0, 0, 0, 0, 0, 0, 0, 0, 0, 0,\n",
       "       0, 0, 0, 0, 0, 0, 2, 2, 2, 2, 2, 2, 0, 0, 2, 0, 0, 0, 0, 0, 2, 2,\n",
       "       0, 0, 2, 2, 2, 2, 0, 0, 0, 0, 0, 0, 0, 0, 0, 0, 0, 0, 0, 2, 0, 0,\n",
       "       0, 0, 0, 0, 0, 0, 0, 0, 0, 0, 0, 2, 0, 0, 0, 0, 0, 0, 0, 0, 0, 0,\n",
       "       0, 2, 2, 0, 0, 0, 2, 0, 2, 2, 2, 0, 2, 0, 0, 0, 0, 0, 2, 0, 0, 0,\n",
       "       0, 0, 0, 0, 0, 0, 0, 0, 0, 0, 0, 0, 0, 0, 2, 0, 0, 0, 0, 0, 0, 0,\n",
       "       2, 2, 2, 2, 0, 2, 2, 0, 0, 0, 0, 0, 0, 0, 0, 0, 0, 0, 0, 0, 0, 0,\n",
       "       0, 0, 0, 2, 0, 0, 0, 0, 2, 0, 0, 0, 0, 0, 0, 0, 0, 2, 2, 0, 0, 0,\n",
       "       0, 0, 2, 2, 0, 0, 0, 2, 2, 0, 0, 0, 0, 0, 0, 0, 0, 2, 0, 0, 0, 0,\n",
       "       0, 0, 0, 0, 0, 0, 0, 0, 0, 0, 0, 2, 2, 0, 2, 0, 0, 0], dtype=int64)"
      ]
     },
     "execution_count": 157,
     "metadata": {},
     "output_type": "execute_result"
    }
   ],
   "source": [
    "pipe.predict(x_test)"
   ]
  },
  {
   "cell_type": "markdown",
   "id": "07e02009",
   "metadata": {},
   "source": [
    "## 1.3. С помощью GridSearchCV произвести подбор гиперпараметра KNeighborsClassifier (n_neighbors) и выведите значение гиперпараметра и метрику для наилучшей модели "
   ]
  },
  {
   "cell_type": "code",
   "execution_count": 158,
   "id": "eb3cbbe3",
   "metadata": {},
   "outputs": [],
   "source": [
    "from sklearn.model_selection import GridSearchCV"
   ]
  },
  {
   "cell_type": "code",
   "execution_count": 165,
   "id": "504891ec",
   "metadata": {},
   "outputs": [],
   "source": [
    "model3 = KNeighborsClassifier(n_neighbors=3, leaf_size=2)"
   ]
  },
  {
   "cell_type": "code",
   "execution_count": 160,
   "id": "46a9880a",
   "metadata": {},
   "outputs": [],
   "source": [
    "parameters = {'weights': ('distance', 'uniform'), 'algorithm':('auto', 'ball_tree', 'kd_tree', 'brute'), 'leaf_size': [i for i in range(2, 30)]}"
   ]
  },
  {
   "cell_type": "code",
   "execution_count": 161,
   "id": "f2b89894",
   "metadata": {},
   "outputs": [
    {
     "data": {
      "text/plain": [
       "GridSearchCV(estimator=KNeighborsClassifier(n_neighbors=3),\n",
       "             param_grid={'algorithm': ('auto', 'ball_tree', 'kd_tree', 'brute'),\n",
       "                         'leaf_size': [2, 3, 4, 5, 6, 7, 8, 9, 10, 11, 12, 13,\n",
       "                                       14, 15, 16, 17, 18, 19, 20, 21, 22, 23,\n",
       "                                       24, 25, 26, 27, 28, 29],\n",
       "                         'weights': ('distance', 'uniform')})"
      ]
     },
     "execution_count": 161,
     "metadata": {},
     "output_type": "execute_result"
    }
   ],
   "source": [
    "clf = GridSearchCV(model3, parameters)\n",
    "clf"
   ]
  },
  {
   "cell_type": "code",
   "execution_count": 162,
   "id": "8f3ef1bd",
   "metadata": {},
   "outputs": [],
   "source": [
    "clf = clf.fit(x_train, y_train)"
   ]
  },
  {
   "cell_type": "code",
   "execution_count": 163,
   "id": "b5d0b230",
   "metadata": {},
   "outputs": [
    {
     "data": {
      "text/plain": [
       "KNeighborsClassifier(leaf_size=2, n_neighbors=3)"
      ]
     },
     "execution_count": 163,
     "metadata": {},
     "output_type": "execute_result"
    }
   ],
   "source": [
    "clf.best_estimator_"
   ]
  },
  {
   "cell_type": "code",
   "execution_count": 166,
   "id": "083c4e3e",
   "metadata": {},
   "outputs": [
    {
     "data": {
      "text/plain": [
       "0.8919667590027701"
      ]
     },
     "execution_count": 166,
     "metadata": {},
     "output_type": "execute_result"
    }
   ],
   "source": [
    "model3.fit(x_train, y_train)\n",
    "accuracy_score(y_test, model3.predict(x_test))"
   ]
  },
  {
   "cell_type": "markdown",
   "id": "b2db7759",
   "metadata": {},
   "source": [
    "# Задание 2"
   ]
  },
  {
   "cell_type": "markdown",
   "id": "4d0fe61c",
   "metadata": {},
   "source": [
    "## 2.1. Продемонстрировать работу DecisionTreeClassifier, посчитать метрики качества на отложенной выборке"
   ]
  },
  {
   "cell_type": "code",
   "execution_count": 167,
   "id": "e91ea2c9",
   "metadata": {},
   "outputs": [],
   "source": [
    "from sklearn.tree import DecisionTreeClassifier\n",
    "from sklearn.model_selection import cross_val_score"
   ]
  },
  {
   "cell_type": "code",
   "execution_count": 175,
   "id": "148e1a73",
   "metadata": {},
   "outputs": [],
   "source": [
    "dtc = DecisionTreeClassifier(max_depth=4, max_features=2, min_samples_leaf=8,\n",
    "                       min_samples_split=16)"
   ]
  },
  {
   "cell_type": "code",
   "execution_count": 176,
   "id": "aa271987",
   "metadata": {},
   "outputs": [
    {
     "data": {
      "text/plain": [
       "DecisionTreeClassifier(max_depth=4, max_features=2, min_samples_leaf=8,\n",
       "                       min_samples_split=16)"
      ]
     },
     "execution_count": 176,
     "metadata": {},
     "output_type": "execute_result"
    }
   ],
   "source": [
    "dtc.fit(x_train, y_train)"
   ]
  },
  {
   "cell_type": "code",
   "execution_count": 170,
   "id": "f3fc2ddb",
   "metadata": {},
   "outputs": [
    {
     "data": {
      "text/plain": [
       "array([0.88709677, 0.85483871, 0.91935484, 0.85483871, 0.95081967])"
      ]
     },
     "execution_count": 170,
     "metadata": {},
     "output_type": "execute_result"
    }
   ],
   "source": [
    "cross_val_score(dtc, x_train, y_train)"
   ]
  },
  {
   "cell_type": "markdown",
   "id": "06736dee",
   "metadata": {},
   "source": [
    "## 2.2. С помощью GridSearchCV произвести подбор гиперпараметров для поиска наилучшего дерева (перебрать max_depth, max_features и может быть что-то ещё) "
   ]
  },
  {
   "cell_type": "code",
   "execution_count": 171,
   "id": "89628bb6",
   "metadata": {},
   "outputs": [],
   "source": [
    "tree_par = {'criterion': ['gini', 'entropy'], 'splitter':['best', 'random'], 'min_samples_leaf':[i for i in range(10)], 'min_samples_split':[i for i in range(10, 20)], 'max_depth':[i for i in range(10)], 'max_features':[i for i in range(10)]}"
   ]
  },
  {
   "cell_type": "code",
   "execution_count": 172,
   "id": "752092f4",
   "metadata": {},
   "outputs": [],
   "source": [
    "cl_tree = GridSearchCV(dtc, tree_par)"
   ]
  },
  {
   "cell_type": "code",
   "execution_count": 173,
   "id": "fb8c8dcf",
   "metadata": {},
   "outputs": [
    {
     "name": "stderr",
     "output_type": "stream",
     "text": [
      "d:\\python39\\lib\\site-packages\\sklearn\\model_selection\\_validation.py:372: FitFailedWarning: \n",
      "151400 fits failed out of a total of 200000.\n",
      "The score on these train-test partitions for these parameters will be set to nan.\n",
      "If these failures are not expected, you can try to debug them by setting error_score='raise'.\n",
      "\n",
      "Below are more details about the failures:\n",
      "--------------------------------------------------------------------------------\n",
      "20000 fits failed with the following error:\n",
      "Traceback (most recent call last):\n",
      "  File \"d:\\python39\\lib\\site-packages\\sklearn\\model_selection\\_validation.py\", line 680, in _fit_and_score\n",
      "    estimator.fit(X_train, y_train, **fit_params)\n",
      "  File \"d:\\python39\\lib\\site-packages\\sklearn\\tree\\_classes.py\", line 937, in fit\n",
      "    super().fit(\n",
      "  File \"d:\\python39\\lib\\site-packages\\sklearn\\tree\\_classes.py\", line 235, in fit\n",
      "    raise ValueError(\n",
      "ValueError: min_samples_leaf must be at least 1 or in (0, 0.5], got 0\n",
      "\n",
      "--------------------------------------------------------------------------------\n",
      "18000 fits failed with the following error:\n",
      "Traceback (most recent call last):\n",
      "  File \"d:\\python39\\lib\\site-packages\\sklearn\\model_selection\\_validation.py\", line 680, in _fit_and_score\n",
      "    estimator.fit(X_train, y_train, **fit_params)\n",
      "  File \"d:\\python39\\lib\\site-packages\\sklearn\\tree\\_classes.py\", line 937, in fit\n",
      "    super().fit(\n",
      "  File \"d:\\python39\\lib\\site-packages\\sklearn\\tree\\_classes.py\", line 306, in fit\n",
      "    raise ValueError(\"max_depth must be greater than zero. \")\n",
      "ValueError: max_depth must be greater than zero. \n",
      "\n",
      "--------------------------------------------------------------------------------\n",
      "113400 fits failed with the following error:\n",
      "Traceback (most recent call last):\n",
      "  File \"d:\\python39\\lib\\site-packages\\sklearn\\model_selection\\_validation.py\", line 680, in _fit_and_score\n",
      "    estimator.fit(X_train, y_train, **fit_params)\n",
      "  File \"d:\\python39\\lib\\site-packages\\sklearn\\tree\\_classes.py\", line 937, in fit\n",
      "    super().fit(\n",
      "  File \"d:\\python39\\lib\\site-packages\\sklearn\\tree\\_classes.py\", line 308, in fit\n",
      "    raise ValueError(\"max_features must be in (0, n_features]\")\n",
      "ValueError: max_features must be in (0, n_features]\n",
      "\n",
      "  warnings.warn(some_fits_failed_message, FitFailedWarning)\n",
      "d:\\python39\\lib\\site-packages\\sklearn\\model_selection\\_search.py:969: UserWarning: One or more of the test scores are non-finite: [nan nan nan ... nan nan nan]\n",
      "  warnings.warn(\n"
     ]
    },
    {
     "data": {
      "text/plain": [
       "GridSearchCV(estimator=DecisionTreeClassifier(),\n",
       "             param_grid={'criterion': ['gini', 'entropy'],\n",
       "                         'max_depth': [0, 1, 2, 3, 4, 5, 6, 7, 8, 9],\n",
       "                         'max_features': [0, 1, 2, 3, 4, 5, 6, 7, 8, 9],\n",
       "                         'min_samples_leaf': [0, 1, 2, 3, 4, 5, 6, 7, 8, 9],\n",
       "                         'min_samples_split': [10, 11, 12, 13, 14, 15, 16, 17,\n",
       "                                               18, 19],\n",
       "                         'splitter': ['best', 'random']})"
      ]
     },
     "execution_count": 173,
     "metadata": {},
     "output_type": "execute_result"
    }
   ],
   "source": [
    "cl_tree.fit(x_train, y_train)"
   ]
  },
  {
   "cell_type": "code",
   "execution_count": 174,
   "id": "38d41844",
   "metadata": {},
   "outputs": [
    {
     "data": {
      "text/plain": [
       "DecisionTreeClassifier(max_depth=4, max_features=2, min_samples_leaf=8,\n",
       "                       min_samples_split=16)"
      ]
     },
     "execution_count": 174,
     "metadata": {},
     "output_type": "execute_result"
    }
   ],
   "source": [
    "cl_tree.best_estimator_"
   ]
  },
  {
   "cell_type": "code",
   "execution_count": 177,
   "id": "e7ac0776",
   "metadata": {},
   "outputs": [
    {
     "data": {
      "text/plain": [
       "0.8795013850415513"
      ]
     },
     "execution_count": 177,
     "metadata": {},
     "output_type": "execute_result"
    }
   ],
   "source": [
    "accuracy_score(y_test, dtc.predict(x_test))"
   ]
  },
  {
   "cell_type": "markdown",
   "id": "12fc359f",
   "metadata": {},
   "source": [
    "## 2.3. Для полученного наилучшего дерева построить график feature_importances и дополнительно напечатать 3 наиболее важных признака, отсортировав их по убыванию важности "
   ]
  },
  {
   "cell_type": "code",
   "execution_count": 178,
   "id": "30dab360",
   "metadata": {},
   "outputs": [],
   "source": [
    "import matplotlib.pyplot as plt\n",
    "from sklearn.inspection import permutation_importance\n",
    "from sklearn.ensemble import RandomForestClassifier"
   ]
  },
  {
   "cell_type": "code",
   "execution_count": 179,
   "id": "79a1bc25",
   "metadata": {},
   "outputs": [
    {
     "data": {
      "text/plain": [
       "RandomForestClassifier(random_state=0)"
      ]
     },
     "execution_count": 179,
     "metadata": {},
     "output_type": "execute_result"
    }
   ],
   "source": [
    "forest = RandomForestClassifier(random_state=0)\n",
    "forest.fit(x_train, y_train)"
   ]
  },
  {
   "cell_type": "code",
   "execution_count": 180,
   "id": "a1855bc3",
   "metadata": {},
   "outputs": [],
   "source": [
    "fore = forest.feature_importances_"
   ]
  },
  {
   "cell_type": "code",
   "execution_count": 181,
   "id": "57844bc0",
   "metadata": {},
   "outputs": [
    {
     "data": {
      "text/plain": [
       "'hp'"
      ]
     },
     "execution_count": 181,
     "metadata": {},
     "output_type": "execute_result"
    }
   ],
   "source": [
    "x_train.columns[0]"
   ]
  },
  {
   "cell_type": "code",
   "execution_count": 182,
   "id": "4dda75af",
   "metadata": {},
   "outputs": [],
   "source": [
    "fore = sorted(fore, reverse=True)\n",
    "fore = np.array(fore)"
   ]
  },
  {
   "cell_type": "code",
   "execution_count": 183,
   "id": "c007c933",
   "metadata": {},
   "outputs": [],
   "source": [
    "shp = np.array(fore.shape[0])"
   ]
  },
  {
   "cell_type": "code",
   "execution_count": 184,
   "id": "f16fc0af",
   "metadata": {},
   "outputs": [
    {
     "data": {
      "image/png": "[encoded data removed]",
      "text/plain": [
       "<Figure size 432x288 with 1 Axes>"
      ]
     },
     "metadata": {
      "needs_background": "light"
     },
     "output_type": "display_data"
    }
   ],
   "source": [
    "plt.bar(x_train.columns, fore)\n",
    "plt.xlabel('Result number')\n",
    "plt.ylabel('Best results')\n",
    "plt.tight_layout()"
   ]
  },
  {
   "cell_type": "markdown",
   "id": "63f666fe",
   "metadata": {},
   "source": [
    "# Задание 3"
   ]
  },
  {
   "cell_type": "markdown",
   "id": "9ddc2169",
   "metadata": {},
   "source": [
    "## 3.1. Продемонстрировать работу случайного леса RandomForestClassifier"
   ]
  },
  {
   "cell_type": "code",
   "execution_count": 185,
   "id": "f554b723",
   "metadata": {},
   "outputs": [],
   "source": [
    "from sklearn.ensemble import RandomForestClassifier"
   ]
  },
  {
   "cell_type": "code",
   "execution_count": 186,
   "id": "b2beae82",
   "metadata": {},
   "outputs": [
    {
     "data": {
      "text/plain": [
       "array([[0, 1, 0],\n",
       "       [0, 1, 0],\n",
       "       [0, 1, 0],\n",
       "       ...,\n",
       "       [0, 1, 0],\n",
       "       [0, 1, 0],\n",
       "       [0, 1, 0]], dtype=uint8)"
      ]
     },
     "execution_count": 186,
     "metadata": {},
     "output_type": "execute_result"
    }
   ],
   "source": [
    "rfc = RandomForestClassifier(criterion='entropy', max_depth=8, max_features=1,\n",
    "                       min_samples_leaf=4, min_samples_split=18)\n",
    "rfc.fit(x_train, y_train)\n",
    "rfc.predict(x_test)"
   ]
  },
  {
   "cell_type": "markdown",
   "id": "6ea86c74",
   "metadata": {},
   "source": [
    "## 3.2. С помощью GridSearchCV произвести подбор гиперпараметров для поиск наилучшего леса, посмотреть насколько улучшились метрики "
   ]
  },
  {
   "cell_type": "code",
   "execution_count": 187,
   "id": "f94fed8d",
   "metadata": {},
   "outputs": [],
   "source": [
    "rfc_par = {'criterion': ['gini', 'entropy'], 'n_estimators':[i for i in range(100, 110)], 'min_samples_split':[i for i in range(5)], 'max_depth':[i for i in range(3)], 'max_features':[i for i in range(5)]}"
   ]
  },
  {
   "cell_type": "code",
   "execution_count": 188,
   "id": "697b92fa",
   "metadata": {},
   "outputs": [],
   "source": [
    "rfc_tree = GridSearchCV(rfc, rfc_par)"
   ]
  },
  {
   "cell_type": "code",
   "execution_count": 189,
   "id": "700a4c07",
   "metadata": {},
   "outputs": [
    {
     "name": "stderr",
     "output_type": "stream",
     "text": [
      "d:\\python39\\lib\\site-packages\\sklearn\\model_selection\\_validation.py:372: FitFailedWarning: \n",
      "5700 fits failed out of a total of 7500.\n",
      "The score on these train-test partitions for these parameters will be set to nan.\n",
      "If these failures are not expected, you can try to debug them by setting error_score='raise'.\n",
      "\n",
      "Below are more details about the failures:\n",
      "--------------------------------------------------------------------------------\n",
      "1500 fits failed with the following error:\n",
      "Traceback (most recent call last):\n",
      "  File \"d:\\python39\\lib\\site-packages\\sklearn\\model_selection\\_validation.py\", line 680, in _fit_and_score\n",
      "    estimator.fit(X_train, y_train, **fit_params)\n",
      "  File \"d:\\python39\\lib\\site-packages\\sklearn\\ensemble\\_forest.py\", line 450, in fit\n",
      "    trees = Parallel(\n",
      "  File \"d:\\python39\\lib\\site-packages\\joblib\\parallel.py\", line 1043, in __call__\n",
      "    if self.dispatch_one_batch(iterator):\n",
      "  File \"d:\\python39\\lib\\site-packages\\joblib\\parallel.py\", line 861, in dispatch_one_batch\n",
      "    self._dispatch(tasks)\n",
      "  File \"d:\\python39\\lib\\site-packages\\joblib\\parallel.py\", line 779, in _dispatch\n",
      "    job = self._backend.apply_async(batch, callback=cb)\n",
      "  File \"d:\\python39\\lib\\site-packages\\joblib\\_parallel_backends.py\", line 208, in apply_async\n",
      "    result = ImmediateResult(func)\n",
      "  File \"d:\\python39\\lib\\site-packages\\joblib\\_parallel_backends.py\", line 572, in __init__\n",
      "    self.results = batch()\n",
      "  File \"d:\\python39\\lib\\site-packages\\joblib\\parallel.py\", line 262, in __call__\n",
      "    return [func(*args, **kwargs)\n",
      "  File \"d:\\python39\\lib\\site-packages\\joblib\\parallel.py\", line 262, in <listcomp>\n",
      "    return [func(*args, **kwargs)\n",
      "  File \"d:\\python39\\lib\\site-packages\\sklearn\\utils\\fixes.py\", line 216, in __call__\n",
      "    return self.function(*args, **kwargs)\n",
      "  File \"d:\\python39\\lib\\site-packages\\sklearn\\ensemble\\_forest.py\", line 185, in _parallel_build_trees\n",
      "    tree.fit(X, y, sample_weight=curr_sample_weight, check_input=False)\n",
      "  File \"d:\\python39\\lib\\site-packages\\sklearn\\tree\\_classes.py\", line 937, in fit\n",
      "    super().fit(\n",
      "  File \"d:\\python39\\lib\\site-packages\\sklearn\\tree\\_classes.py\", line 250, in fit\n",
      "    raise ValueError(\n",
      "ValueError: min_samples_split must be an integer greater than 1 or a float in (0.0, 1.0]; got the integer 0\n",
      "\n",
      "--------------------------------------------------------------------------------\n",
      "1500 fits failed with the following error:\n",
      "Traceback (most recent call last):\n",
      "  File \"d:\\python39\\lib\\site-packages\\sklearn\\model_selection\\_validation.py\", line 680, in _fit_and_score\n",
      "    estimator.fit(X_train, y_train, **fit_params)\n",
      "  File \"d:\\python39\\lib\\site-packages\\sklearn\\ensemble\\_forest.py\", line 450, in fit\n",
      "    trees = Parallel(\n",
      "  File \"d:\\python39\\lib\\site-packages\\joblib\\parallel.py\", line 1043, in __call__\n",
      "    if self.dispatch_one_batch(iterator):\n",
      "  File \"d:\\python39\\lib\\site-packages\\joblib\\parallel.py\", line 861, in dispatch_one_batch\n",
      "    self._dispatch(tasks)\n",
      "  File \"d:\\python39\\lib\\site-packages\\joblib\\parallel.py\", line 779, in _dispatch\n",
      "    job = self._backend.apply_async(batch, callback=cb)\n",
      "  File \"d:\\python39\\lib\\site-packages\\joblib\\_parallel_backends.py\", line 208, in apply_async\n",
      "    result = ImmediateResult(func)\n",
      "  File \"d:\\python39\\lib\\site-packages\\joblib\\_parallel_backends.py\", line 572, in __init__\n",
      "    self.results = batch()\n",
      "  File \"d:\\python39\\lib\\site-packages\\joblib\\parallel.py\", line 262, in __call__\n",
      "    return [func(*args, **kwargs)\n",
      "  File \"d:\\python39\\lib\\site-packages\\joblib\\parallel.py\", line 262, in <listcomp>\n",
      "    return [func(*args, **kwargs)\n",
      "  File \"d:\\python39\\lib\\site-packages\\sklearn\\utils\\fixes.py\", line 216, in __call__\n",
      "    return self.function(*args, **kwargs)\n",
      "  File \"d:\\python39\\lib\\site-packages\\sklearn\\ensemble\\_forest.py\", line 185, in _parallel_build_trees\n",
      "    tree.fit(X, y, sample_weight=curr_sample_weight, check_input=False)\n",
      "  File \"d:\\python39\\lib\\site-packages\\sklearn\\tree\\_classes.py\", line 937, in fit\n",
      "    super().fit(\n",
      "  File \"d:\\python39\\lib\\site-packages\\sklearn\\tree\\_classes.py\", line 250, in fit\n",
      "    raise ValueError(\n",
      "ValueError: min_samples_split must be an integer greater than 1 or a float in (0.0, 1.0]; got the integer 1\n",
      "\n",
      "--------------------------------------------------------------------------------\n",
      "1500 fits failed with the following error:\n",
      "Traceback (most recent call last):\n",
      "  File \"d:\\python39\\lib\\site-packages\\sklearn\\model_selection\\_validation.py\", line 680, in _fit_and_score\n",
      "    estimator.fit(X_train, y_train, **fit_params)\n",
      "  File \"d:\\python39\\lib\\site-packages\\sklearn\\ensemble\\_forest.py\", line 450, in fit\n",
      "    trees = Parallel(\n",
      "  File \"d:\\python39\\lib\\site-packages\\joblib\\parallel.py\", line 1043, in __call__\n",
      "    if self.dispatch_one_batch(iterator):\n",
      "  File \"d:\\python39\\lib\\site-packages\\joblib\\parallel.py\", line 861, in dispatch_one_batch\n",
      "    self._dispatch(tasks)\n",
      "  File \"d:\\python39\\lib\\site-packages\\joblib\\parallel.py\", line 779, in _dispatch\n",
      "    job = self._backend.apply_async(batch, callback=cb)\n",
      "  File \"d:\\python39\\lib\\site-packages\\joblib\\_parallel_backends.py\", line 208, in apply_async\n",
      "    result = ImmediateResult(func)\n",
      "  File \"d:\\python39\\lib\\site-packages\\joblib\\_parallel_backends.py\", line 572, in __init__\n",
      "    self.results = batch()\n",
      "  File \"d:\\python39\\lib\\site-packages\\joblib\\parallel.py\", line 262, in __call__\n",
      "    return [func(*args, **kwargs)\n",
      "  File \"d:\\python39\\lib\\site-packages\\joblib\\parallel.py\", line 262, in <listcomp>\n",
      "    return [func(*args, **kwargs)\n",
      "  File \"d:\\python39\\lib\\site-packages\\sklearn\\utils\\fixes.py\", line 216, in __call__\n",
      "    return self.function(*args, **kwargs)\n",
      "  File \"d:\\python39\\lib\\site-packages\\sklearn\\ensemble\\_forest.py\", line 185, in _parallel_build_trees\n",
      "    tree.fit(X, y, sample_weight=curr_sample_weight, check_input=False)\n",
      "  File \"d:\\python39\\lib\\site-packages\\sklearn\\tree\\_classes.py\", line 937, in fit\n",
      "    super().fit(\n",
      "  File \"d:\\python39\\lib\\site-packages\\sklearn\\tree\\_classes.py\", line 306, in fit\n",
      "    raise ValueError(\"max_depth must be greater than zero. \")\n",
      "ValueError: max_depth must be greater than zero. \n",
      "\n",
      "--------------------------------------------------------------------------------\n",
      "1200 fits failed with the following error:\n",
      "Traceback (most recent call last):\n",
      "  File \"d:\\python39\\lib\\site-packages\\sklearn\\model_selection\\_validation.py\", line 680, in _fit_and_score\n",
      "    estimator.fit(X_train, y_train, **fit_params)\n",
      "  File \"d:\\python39\\lib\\site-packages\\sklearn\\ensemble\\_forest.py\", line 450, in fit\n",
      "    trees = Parallel(\n",
      "  File \"d:\\python39\\lib\\site-packages\\joblib\\parallel.py\", line 1043, in __call__\n",
      "    if self.dispatch_one_batch(iterator):\n",
      "  File \"d:\\python39\\lib\\site-packages\\joblib\\parallel.py\", line 861, in dispatch_one_batch\n",
      "    self._dispatch(tasks)\n",
      "  File \"d:\\python39\\lib\\site-packages\\joblib\\parallel.py\", line 779, in _dispatch\n",
      "    job = self._backend.apply_async(batch, callback=cb)\n",
      "  File \"d:\\python39\\lib\\site-packages\\joblib\\_parallel_backends.py\", line 208, in apply_async\n",
      "    result = ImmediateResult(func)\n",
      "  File \"d:\\python39\\lib\\site-packages\\joblib\\_parallel_backends.py\", line 572, in __init__\n",
      "    self.results = batch()\n",
      "  File \"d:\\python39\\lib\\site-packages\\joblib\\parallel.py\", line 262, in __call__\n",
      "    return [func(*args, **kwargs)\n",
      "  File \"d:\\python39\\lib\\site-packages\\joblib\\parallel.py\", line 262, in <listcomp>\n",
      "    return [func(*args, **kwargs)\n",
      "  File \"d:\\python39\\lib\\site-packages\\sklearn\\utils\\fixes.py\", line 216, in __call__\n",
      "    return self.function(*args, **kwargs)\n",
      "  File \"d:\\python39\\lib\\site-packages\\sklearn\\ensemble\\_forest.py\", line 185, in _parallel_build_trees\n",
      "    tree.fit(X, y, sample_weight=curr_sample_weight, check_input=False)\n",
      "  File \"d:\\python39\\lib\\site-packages\\sklearn\\tree\\_classes.py\", line 937, in fit\n",
      "    super().fit(\n",
      "  File \"d:\\python39\\lib\\site-packages\\sklearn\\tree\\_classes.py\", line 308, in fit\n",
      "    raise ValueError(\"max_features must be in (0, n_features]\")\n",
      "ValueError: max_features must be in (0, n_features]\n",
      "\n",
      "  warnings.warn(some_fits_failed_message, FitFailedWarning)\n",
      "d:\\python39\\lib\\site-packages\\sklearn\\model_selection\\_search.py:969: UserWarning: One or more of the test scores are non-finite: [nan nan nan ... nan nan nan]\n",
      "  warnings.warn(\n"
     ]
    },
    {
     "data": {
      "text/plain": [
       "GridSearchCV(estimator=RandomForestClassifier(criterion='entropy', max_depth=8,\n",
       "                                              max_features=1,\n",
       "                                              min_samples_leaf=4,\n",
       "                                              min_samples_split=18),\n",
       "             param_grid={'criterion': ['gini', 'entropy'],\n",
       "                         'max_depth': [0, 1, 2],\n",
       "                         'max_features': [0, 1, 2, 3, 4],\n",
       "                         'min_samples_split': [0, 1, 2, 3, 4],\n",
       "                         'n_estimators': [100, 101, 102, 103, 104, 105, 106,\n",
       "                                          107, 108, 109]})"
      ]
     },
     "execution_count": 189,
     "metadata": {},
     "output_type": "execute_result"
    }
   ],
   "source": [
    "rfc_tree.fit(x_train, y_train)"
   ]
  },
  {
   "cell_type": "code",
   "execution_count": 190,
   "id": "820d9342",
   "metadata": {},
   "outputs": [
    {
     "data": {
      "text/plain": [
       "DecisionTreeClassifier(max_depth=4, max_features=2, min_samples_leaf=8,\n",
       "                       min_samples_split=16)"
      ]
     },
     "execution_count": 190,
     "metadata": {},
     "output_type": "execute_result"
    }
   ],
   "source": [
    "cl_tree.best_estimator_"
   ]
  },
  {
   "cell_type": "code",
   "execution_count": 192,
   "id": "9d4c6a52",
   "metadata": {},
   "outputs": [
    {
     "data": {
      "text/plain": [
       "0.9016620498614959"
      ]
     },
     "execution_count": 192,
     "metadata": {},
     "output_type": "execute_result"
    }
   ],
   "source": [
    "accuracy_score(y_test, rfc.predict(x_test))"
   ]
  },
  {
   "cell_type": "markdown",
   "id": "27174d75",
   "metadata": {},
   "source": [
    "## Самой результативной моделью с подобранными параметрами оказалась модель KNeighborsClassifier() с использованием Pipeline"
   ]
  }
 ],
 "metadata": {
  "kernelspec": {
   "display_name": "Python 3 (ipykernel)",
   "language": "python",
   "name": "python3"
  },
  "language_info": {
   "codemirror_mode": {
    "name": "ipython",
    "version": 3
   },
   "file_extension": ".py",
   "mimetype": "text/x-python",
   "name": "python",
   "nbconvert_exporter": "python",
   "pygments_lexer": "ipython3",
   "version": "3.9.2"
  }
 },
 "nbformat": 4,
 "nbformat_minor": 5
}
