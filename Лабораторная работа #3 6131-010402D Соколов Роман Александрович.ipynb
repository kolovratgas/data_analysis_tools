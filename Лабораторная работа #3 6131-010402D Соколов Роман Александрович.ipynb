{
 "cells": [
  {
   "cell_type": "markdown",
   "id": "66b96fdc",
   "metadata": {},
   "source": [
    "# Лабораторная работа #3\n",
    "# Выполнил: 6131-010402D Соколов Роман Александрович"
   ]
  },
  {
   "cell_type": "code",
   "execution_count": 1,
   "id": "77c42258",
   "metadata": {},
   "outputs": [],
   "source": [
    "import pandas as pd\n",
    "import numpy as np\n",
    "import sklearn"
   ]
  },
  {
   "cell_type": "markdown",
   "id": "10371073",
   "metadata": {},
   "source": [
    "# Binary-class dataset"
   ]
  },
  {
   "cell_type": "code",
   "execution_count": 2,
   "id": "185f87cb",
   "metadata": {},
   "outputs": [
    {
     "data": {
      "text/html": [
       "<div>\n",
       "<style scoped>\n",
       "    .dataframe tbody tr th:only-of-type {\n",
       "        vertical-align: middle;\n",
       "    }\n",
       "\n",
       "    .dataframe tbody tr th {\n",
       "        vertical-align: top;\n",
       "    }\n",
       "\n",
       "    .dataframe thead th {\n",
       "        text-align: right;\n",
       "    }\n",
       "</style>\n",
       "<table border=\"1\" class=\"dataframe\">\n",
       "  <thead>\n",
       "    <tr style=\"text-align: right;\">\n",
       "      <th></th>\n",
       "      <th>title_id</th>\n",
       "      <th>title</th>\n",
       "      <th>genre</th>\n",
       "      <th>authors</th>\n",
       "      <th>weekdays</th>\n",
       "      <th>length</th>\n",
       "      <th>subscribers</th>\n",
       "      <th>rating</th>\n",
       "      <th>views</th>\n",
       "      <th>likes</th>\n",
       "      <th>status</th>\n",
       "      <th>daily_pass</th>\n",
       "      <th>synopsis</th>\n",
       "    </tr>\n",
       "  </thead>\n",
       "  <tbody>\n",
       "    <tr>\n",
       "      <th>0</th>\n",
       "      <td>3923</td>\n",
       "      <td>Island</td>\n",
       "      <td>ACTION</td>\n",
       "      <td>Inwan Youn,Kyungil Yang</td>\n",
       "      <td>SUNDAY</td>\n",
       "      <td>6</td>\n",
       "      <td>34748</td>\n",
       "      <td>8.95</td>\n",
       "      <td>182133</td>\n",
       "      <td>17902</td>\n",
       "      <td>ONGOING</td>\n",
       "      <td>True</td>\n",
       "      <td>“I’ll offer you 50 million won for every demon...</td>\n",
       "    </tr>\n",
       "    <tr>\n",
       "      <th>1</th>\n",
       "      <td>3922</td>\n",
       "      <td>Deadlife</td>\n",
       "      <td>ACTION</td>\n",
       "      <td>Hooressha,Jinguk Lim</td>\n",
       "      <td>SUNDAY</td>\n",
       "      <td>6</td>\n",
       "      <td>89644</td>\n",
       "      <td>9.34</td>\n",
       "      <td>796712</td>\n",
       "      <td>81830</td>\n",
       "      <td>ONGOING</td>\n",
       "      <td>True</td>\n",
       "      <td>Am I dead, or am I alive? After Seong-hun gets...</td>\n",
       "    </tr>\n",
       "  </tbody>\n",
       "</table>\n",
       "</div>"
      ],
      "text/plain": [
       "   title_id     title   genre                  authors weekdays  length  \\\n",
       "0      3923    Island  ACTION  Inwan Youn,Kyungil Yang   SUNDAY       6   \n",
       "1      3922  Deadlife  ACTION     Hooressha,Jinguk Lim   SUNDAY       6   \n",
       "\n",
       "   subscribers  rating   views  likes   status  daily_pass  \\\n",
       "0        34748    8.95  182133  17902  ONGOING        True   \n",
       "1        89644    9.34  796712  81830  ONGOING        True   \n",
       "\n",
       "                                            synopsis  \n",
       "0  “I’ll offer you 50 million won for every demon...  \n",
       "1  Am I dead, or am I alive? After Seong-hun gets...  "
      ]
     },
     "execution_count": 2,
     "metadata": {},
     "output_type": "execute_result"
    }
   ],
   "source": [
    "df1 = pd.read_csv('biclass/webtoon_originals_en.csv')\n",
    "df1.head(2)"
   ]
  },
  {
   "cell_type": "markdown",
   "id": "ef7dc3a7",
   "metadata": {},
   "source": [
    "# Multiclass dataset"
   ]
  },
  {
   "cell_type": "code",
   "execution_count": 3,
   "id": "d5c8c2e2",
   "metadata": {},
   "outputs": [
    {
     "data": {
      "text/html": [
       "<div>\n",
       "<style scoped>\n",
       "    .dataframe tbody tr th:only-of-type {\n",
       "        vertical-align: middle;\n",
       "    }\n",
       "\n",
       "    .dataframe tbody tr th {\n",
       "        vertical-align: top;\n",
       "    }\n",
       "\n",
       "    .dataframe thead th {\n",
       "        text-align: right;\n",
       "    }\n",
       "</style>\n",
       "<table border=\"1\" class=\"dataframe\">\n",
       "  <thead>\n",
       "    <tr style=\"text-align: right;\">\n",
       "      <th></th>\n",
       "      <th>brand</th>\n",
       "      <th>model</th>\n",
       "      <th>car_type</th>\n",
       "      <th>img_url</th>\n",
       "      <th>price</th>\n",
       "      <th>drive</th>\n",
       "      <th>hp</th>\n",
       "      <th>weight</th>\n",
       "      <th>torque</th>\n",
       "      <th>w_kg</th>\n",
       "    </tr>\n",
       "  </thead>\n",
       "  <tbody>\n",
       "    <tr>\n",
       "      <th>0</th>\n",
       "      <td>AC Cars</td>\n",
       "      <td>427 S/C '66</td>\n",
       "      <td>Street</td>\n",
       "      <td>https://www.kudosprime.com/gt6/images/cars/gt6...</td>\n",
       "      <td>423200.0</td>\n",
       "      <td>FR</td>\n",
       "      <td>478.0</td>\n",
       "      <td>1311.0</td>\n",
       "      <td>651.0</td>\n",
       "      <td>272 to ? W/Kg</td>\n",
       "    </tr>\n",
       "    <tr>\n",
       "      <th>1</th>\n",
       "      <td>AEM</td>\n",
       "      <td>S2000</td>\n",
       "      <td>Tuned</td>\n",
       "      <td>https://www.kudosprime.com/gt6/images/cars/gt6...</td>\n",
       "      <td>100000.0</td>\n",
       "      <td>FR</td>\n",
       "      <td>430.0</td>\n",
       "      <td>1155.0</td>\n",
       "      <td>495.0</td>\n",
       "      <td>278 to 345 W/Kg</td>\n",
       "    </tr>\n",
       "  </tbody>\n",
       "</table>\n",
       "</div>"
      ],
      "text/plain": [
       "     brand        model car_type  \\\n",
       "0  AC Cars  427 S/C '66   Street   \n",
       "1      AEM        S2000    Tuned   \n",
       "\n",
       "                                             img_url     price drive     hp  \\\n",
       "0  https://www.kudosprime.com/gt6/images/cars/gt6...  423200.0    FR  478.0   \n",
       "1  https://www.kudosprime.com/gt6/images/cars/gt6...  100000.0    FR  430.0   \n",
       "\n",
       "   weight  torque             w_kg  \n",
       "0  1311.0   651.0    272 to ? W/Kg  \n",
       "1  1155.0   495.0  278 to 345 W/Kg  "
      ]
     },
     "execution_count": 3,
     "metadata": {},
     "output_type": "execute_result"
    }
   ],
   "source": [
    "df2 = pd.read_csv('multiclass/gran_turismo_gt6.csv')\n",
    "df2.head(2)"
   ]
  },
  {
   "cell_type": "markdown",
   "id": "0fbd797d",
   "metadata": {},
   "source": [
    "# Задание - 1. Многоклассовая классификация"
   ]
  },
  {
   "cell_type": "markdown",
   "id": "8d69fb7d",
   "metadata": {},
   "source": [
    "## Задание 1.1. На любом датасете продемонстрировать многоклассовую классификацию с помощью ЛЮБОГО алгоритма. Оценить accuracy."
   ]
  },
  {
   "cell_type": "code",
   "execution_count": 4,
   "id": "2a22d765",
   "metadata": {},
   "outputs": [],
   "source": [
    "from sklearn.neighbors import KNeighborsClassifier"
   ]
  },
  {
   "cell_type": "code",
   "execution_count": 5,
   "id": "bcc0390e",
   "metadata": {},
   "outputs": [],
   "source": [
    "df2_copy = df2.copy()"
   ]
  },
  {
   "cell_type": "code",
   "execution_count": 7,
   "id": "09f872a0",
   "metadata": {},
   "outputs": [
    {
     "name": "stderr",
     "output_type": "stream",
     "text": [
      "C:\\Users\\rsoko\\AppData\\Local\\Temp\\ipykernel_14596\\907754367.py:5: SettingWithCopyWarning: \n",
      "A value is trying to be set on a copy of a slice from a DataFrame\n",
      "\n",
      "See the caveats in the documentation: https://pandas.pydata.org/pandas-docs/stable/user_guide/indexing.html#returning-a-view-versus-a-copy\n",
      "  df2_copy['car_type'][i] = 1\n",
      "C:\\Users\\rsoko\\AppData\\Local\\Temp\\ipykernel_14596\\907754367.py:3: SettingWithCopyWarning: \n",
      "A value is trying to be set on a copy of a slice from a DataFrame\n",
      "\n",
      "See the caveats in the documentation: https://pandas.pydata.org/pandas-docs/stable/user_guide/indexing.html#returning-a-view-versus-a-copy\n",
      "  df2_copy['car_type'][i] = 0\n",
      "C:\\Users\\rsoko\\AppData\\Local\\Temp\\ipykernel_14596\\907754367.py:7: SettingWithCopyWarning: \n",
      "A value is trying to be set on a copy of a slice from a DataFrame\n",
      "\n",
      "See the caveats in the documentation: https://pandas.pydata.org/pandas-docs/stable/user_guide/indexing.html#returning-a-view-versus-a-copy\n",
      "  df2_copy['car_type'][i] = 2\n"
     ]
    }
   ],
   "source": [
    "for i in range(df2_copy.shape[0]):\n",
    "    if df2_copy['car_type'][i] == 'Street':\n",
    "        df2_copy['car_type'][i] = 0\n",
    "    elif df2_copy['car_type'][i] == 'Race':\n",
    "        df2_copy['car_type'][i] = 1\n",
    "    elif df2_copy['car_type'][i] == 'Tuned':\n",
    "        df2_copy['car_type'][i] = 2"
   ]
  },
  {
   "cell_type": "code",
   "execution_count": 8,
   "id": "24c48632",
   "metadata": {},
   "outputs": [
    {
     "data": {
      "text/html": [
       "<div>\n",
       "<style scoped>\n",
       "    .dataframe tbody tr th:only-of-type {\n",
       "        vertical-align: middle;\n",
       "    }\n",
       "\n",
       "    .dataframe tbody tr th {\n",
       "        vertical-align: top;\n",
       "    }\n",
       "\n",
       "    .dataframe thead th {\n",
       "        text-align: right;\n",
       "    }\n",
       "</style>\n",
       "<table border=\"1\" class=\"dataframe\">\n",
       "  <thead>\n",
       "    <tr style=\"text-align: right;\">\n",
       "      <th></th>\n",
       "      <th>brand</th>\n",
       "      <th>model</th>\n",
       "      <th>car_type</th>\n",
       "      <th>img_url</th>\n",
       "      <th>price</th>\n",
       "      <th>drive</th>\n",
       "      <th>hp</th>\n",
       "      <th>weight</th>\n",
       "      <th>torque</th>\n",
       "      <th>w_kg</th>\n",
       "    </tr>\n",
       "  </thead>\n",
       "  <tbody>\n",
       "    <tr>\n",
       "      <th>0</th>\n",
       "      <td>AC Cars</td>\n",
       "      <td>427 S/C '66</td>\n",
       "      <td>0</td>\n",
       "      <td>https://www.kudosprime.com/gt6/images/cars/gt6...</td>\n",
       "      <td>423200.0</td>\n",
       "      <td>FR</td>\n",
       "      <td>478.0</td>\n",
       "      <td>1311.0</td>\n",
       "      <td>651.0</td>\n",
       "      <td>272 to ? W/Kg</td>\n",
       "    </tr>\n",
       "    <tr>\n",
       "      <th>1</th>\n",
       "      <td>AEM</td>\n",
       "      <td>S2000</td>\n",
       "      <td>2</td>\n",
       "      <td>https://www.kudosprime.com/gt6/images/cars/gt6...</td>\n",
       "      <td>100000.0</td>\n",
       "      <td>FR</td>\n",
       "      <td>430.0</td>\n",
       "      <td>1155.0</td>\n",
       "      <td>495.0</td>\n",
       "      <td>278 to 345 W/Kg</td>\n",
       "    </tr>\n",
       "  </tbody>\n",
       "</table>\n",
       "</div>"
      ],
      "text/plain": [
       "     brand        model car_type  \\\n",
       "0  AC Cars  427 S/C '66        0   \n",
       "1      AEM        S2000        2   \n",
       "\n",
       "                                             img_url     price drive     hp  \\\n",
       "0  https://www.kudosprime.com/gt6/images/cars/gt6...  423200.0    FR  478.0   \n",
       "1  https://www.kudosprime.com/gt6/images/cars/gt6...  100000.0    FR  430.0   \n",
       "\n",
       "   weight  torque             w_kg  \n",
       "0  1311.0   651.0    272 to ? W/Kg  \n",
       "1  1155.0   495.0  278 to 345 W/Kg  "
      ]
     },
     "execution_count": 8,
     "metadata": {},
     "output_type": "execute_result"
    }
   ],
   "source": [
    "df2_copy.head(2)"
   ]
  },
  {
   "cell_type": "code",
   "execution_count": 9,
   "id": "1f75bdf0",
   "metadata": {},
   "outputs": [],
   "source": [
    "df2_copy = df2_copy.dropna()"
   ]
  },
  {
   "cell_type": "code",
   "execution_count": 10,
   "id": "d9da7d4e",
   "metadata": {},
   "outputs": [
    {
     "data": {
      "text/plain": [
       "0    818\n",
       "1    187\n",
       "2     26\n",
       "Name: car_type, dtype: int64"
      ]
     },
     "execution_count": 10,
     "metadata": {},
     "output_type": "execute_result"
    }
   ],
   "source": [
    "df2_copy['car_type'].value_counts()"
   ]
  },
  {
   "cell_type": "code",
   "execution_count": 11,
   "id": "9b997035",
   "metadata": {},
   "outputs": [],
   "source": [
    "def df2_counts(arr):\n",
    "    arr_types = arr['car_type'].value_counts()\n",
    "    arr_types_arr = arr_types.values\n",
    "    return arr_types_arr.shape[0]"
   ]
  },
  {
   "cell_type": "code",
   "execution_count": 12,
   "id": "bfcfd4c6",
   "metadata": {},
   "outputs": [],
   "source": [
    "model1 = KNeighborsClassifier(n_neighbors=df2_counts(df2_copy))"
   ]
  },
  {
   "cell_type": "code",
   "execution_count": 13,
   "id": "0e455108",
   "metadata": {},
   "outputs": [
    {
     "name": "stdout",
     "output_type": "stream",
     "text": [
      "<class 'pandas.core.frame.DataFrame'>\n",
      "Int64Index: 309 entries, 0 to 416\n",
      "Data columns (total 3 columns):\n",
      " #   Column  Non-Null Count  Dtype  \n",
      "---  ------  --------------  -----  \n",
      " 0   torque  309 non-null    float64\n",
      " 1   weight  309 non-null    float64\n",
      " 2   hp      309 non-null    float64\n",
      "dtypes: float64(3)\n",
      "memory usage: 9.7 KB\n"
     ]
    }
   ],
   "source": [
    "x_train = df2_copy.iloc[0:round(df2_copy.shape[0]*0.3), [-2, -3, -4]]\n",
    "x_train.info()"
   ]
  },
  {
   "cell_type": "code",
   "execution_count": 14,
   "id": "31af9321",
   "metadata": {},
   "outputs": [],
   "source": [
    "y_train = df2_copy['car_type'].iloc[0:round(df2_copy.shape[0]*0.3)]\n",
    "y_train = y_train.astype('int')"
   ]
  },
  {
   "cell_type": "code",
   "execution_count": 15,
   "id": "6e7ac3e7",
   "metadata": {},
   "outputs": [
    {
     "data": {
      "text/html": [
       "<div>\n",
       "<style scoped>\n",
       "    .dataframe tbody tr th:only-of-type {\n",
       "        vertical-align: middle;\n",
       "    }\n",
       "\n",
       "    .dataframe tbody tr th {\n",
       "        vertical-align: top;\n",
       "    }\n",
       "\n",
       "    .dataframe thead th {\n",
       "        text-align: right;\n",
       "    }\n",
       "</style>\n",
       "<table border=\"1\" class=\"dataframe\">\n",
       "  <thead>\n",
       "    <tr style=\"text-align: right;\">\n",
       "      <th></th>\n",
       "      <th>torque</th>\n",
       "      <th>weight</th>\n",
       "      <th>hp</th>\n",
       "    </tr>\n",
       "  </thead>\n",
       "  <tbody>\n",
       "    <tr>\n",
       "      <th>417</th>\n",
       "      <td>218.0</td>\n",
       "      <td>1240.0</td>\n",
       "      <td>246.0</td>\n",
       "    </tr>\n",
       "    <tr>\n",
       "      <th>419</th>\n",
       "      <td>218.0</td>\n",
       "      <td>1260.0</td>\n",
       "      <td>246.0</td>\n",
       "    </tr>\n",
       "  </tbody>\n",
       "</table>\n",
       "</div>"
      ],
      "text/plain": [
       "     torque  weight     hp\n",
       "417   218.0  1240.0  246.0\n",
       "419   218.0  1260.0  246.0"
      ]
     },
     "execution_count": 15,
     "metadata": {},
     "output_type": "execute_result"
    }
   ],
   "source": [
    "x_test = df2_copy.iloc[round(df2_copy.shape[0]*0.3):, [-2, -3, -4]]\n",
    "x_test.head(2)"
   ]
  },
  {
   "cell_type": "code",
   "execution_count": 16,
   "id": "501cfd52",
   "metadata": {},
   "outputs": [],
   "source": [
    "y_test = df2_copy['car_type'].iloc[round(df2_copy.shape[0]*0.3):]\n",
    "y_test = y_test.astype('int')"
   ]
  },
  {
   "cell_type": "code",
   "execution_count": 17,
   "id": "1ef94647",
   "metadata": {},
   "outputs": [
    {
     "data": {
      "text/plain": [
       "KNeighborsClassifier(n_neighbors=3)"
      ]
     },
     "execution_count": 17,
     "metadata": {},
     "output_type": "execute_result"
    }
   ],
   "source": [
    "model1.fit(x_train, y_train)"
   ]
  },
  {
   "cell_type": "code",
   "execution_count": 18,
   "id": "742ae8e5",
   "metadata": {},
   "outputs": [],
   "source": [
    "pred = model1.predict(x_test)"
   ]
  },
  {
   "cell_type": "code",
   "execution_count": 19,
   "id": "370b0deb",
   "metadata": {},
   "outputs": [],
   "source": [
    "def check(arr1, arr2):\n",
    "    score = 0\n",
    "    for i in range(arr1.shape[0]):\n",
    "        if arr1[i] == arr2[i]:\n",
    "            score += 1\n",
    "    return print(str(score/arr1.shape[0]*100)[:4], '%')"
   ]
  },
  {
   "cell_type": "code",
   "execution_count": 20,
   "id": "692cebd2",
   "metadata": {},
   "outputs": [
    {
     "name": "stdout",
     "output_type": "stream",
     "text": [
      "89.4 %\n"
     ]
    }
   ],
   "source": [
    "check(pred, y_test.to_numpy())"
   ]
  },
  {
   "cell_type": "markdown",
   "id": "7f012703",
   "metadata": {},
   "source": [
    "## Задание 1.2. То же самое с использованием кросс-валидации "
   ]
  },
  {
   "cell_type": "code",
   "execution_count": 21,
   "id": "2f9ec0fb",
   "metadata": {},
   "outputs": [],
   "source": [
    "from sklearn.model_selection import cross_val_score"
   ]
  },
  {
   "cell_type": "code",
   "execution_count": 22,
   "id": "18fb7e84",
   "metadata": {},
   "outputs": [],
   "source": [
    "x = np.concatenate((x_train, x_test))"
   ]
  },
  {
   "cell_type": "code",
   "execution_count": 23,
   "id": "ff9a6da0",
   "metadata": {},
   "outputs": [
    {
     "data": {
      "text/plain": [
       "array([0, 2, 0, ..., 0, 0, 0])"
      ]
     },
     "execution_count": 23,
     "metadata": {},
     "output_type": "execute_result"
    }
   ],
   "source": [
    "y = np.concatenate((y_train, y_test))\n",
    "y"
   ]
  },
  {
   "cell_type": "code",
   "execution_count": 24,
   "id": "0ef27dfb",
   "metadata": {},
   "outputs": [
    {
     "data": {
      "text/plain": [
       "array([0.85024155, 0.93203883, 0.89320388, 0.90291262, 0.87378641])"
      ]
     },
     "execution_count": 24,
     "metadata": {},
     "output_type": "execute_result"
    }
   ],
   "source": [
    "cvl = cross_val_score(model1, x, y)\n",
    "cvl"
   ]
  },
  {
   "cell_type": "markdown",
   "id": "2fdf08c0",
   "metadata": {},
   "source": [
    "## Задание 1.3. Поиграться с гиперпараметром, связанным со сложностью модели (в случае kNN — k_neighbours) и построить график accuracy для train set и test_set для разных значений гиперпараметра (в лекции есть пример построения подобного графика для kNN и датасета cancer, но можно строить как угодно такой график)"
   ]
  },
  {
   "cell_type": "code",
   "execution_count": 25,
   "id": "b665f378",
   "metadata": {},
   "outputs": [],
   "source": [
    "results = dict()\n",
    "for i in range(2, 30):  \n",
    "    model_lead = KNeighborsClassifier(leaf_size=i)\n",
    "    model_lead.fit(x_train, y_train)\n",
    "    pred_lead = model_lead.predict(x_test)\n",
    "    results[i] = pred_lead\n",
    "    "
   ]
  },
  {
   "cell_type": "code",
   "execution_count": 26,
   "id": "b7f258f9",
   "metadata": {},
   "outputs": [
    {
     "data": {
      "text/plain": [
       "dict_keys([2, 3, 4, 5, 6, 7, 8, 9, 10, 11, 12, 13, 14, 15, 16, 17, 18, 19, 20, 21, 22, 23, 24, 25, 26, 27, 28, 29])"
      ]
     },
     "execution_count": 26,
     "metadata": {},
     "output_type": "execute_result"
    }
   ],
   "source": [
    "keys = results.keys()\n",
    "keys"
   ]
  },
  {
   "cell_type": "code",
   "execution_count": 27,
   "id": "7d9359d7",
   "metadata": {},
   "outputs": [],
   "source": [
    "accs = []\n",
    "for i in range(2, len(keys)+2):\n",
    "    acc = sklearn.metrics.accuracy_score(y_test, results[i])\n",
    "    accs.append(acc)\n",
    "    "
   ]
  },
  {
   "cell_type": "code",
   "execution_count": 28,
   "id": "f6cdfe89",
   "metadata": {},
   "outputs": [],
   "source": [
    "from matplotlib import pyplot as plt"
   ]
  },
  {
   "cell_type": "code",
   "execution_count": 29,
   "id": "181ed9b0",
   "metadata": {},
   "outputs": [
    {
     "data": {
      "text/plain": [
       "[<matplotlib.lines.Line2D at 0x1912c4b0670>]"
      ]
     },
     "execution_count": 29,
     "metadata": {},
     "output_type": "execute_result"
    },
    {
     "data": {
      "image/png": "[encoded data removed]",
      "text/plain": [
       "<Figure size 432x288 with 1 Axes>"
      ]
     },
     "metadata": {
      "needs_background": "light"
     },
     "output_type": "display_data"
    }
   ],
   "source": [
    "plt.plot(accs)"
   ]
  },
  {
   "cell_type": "markdown",
   "id": "f298e3e0",
   "metadata": {},
   "source": [
    "## Задание 1.4. Построить confusion matrix (это вроде матрицы TN / TP/ FN/ FP, только расширенной для многоклассовой классификации, чтобы понять в какие стороны чаще ошибается классификатор)"
   ]
  },
  {
   "cell_type": "code",
   "execution_count": 30,
   "id": "dc2c8838",
   "metadata": {},
   "outputs": [],
   "source": [
    "from sklearn.metrics import confusion_matrix"
   ]
  },
  {
   "cell_type": "code",
   "execution_count": 31,
   "id": "aba6d293",
   "metadata": {},
   "outputs": [
    {
     "data": {
      "text/plain": [
       "array([[547,  29,   1],\n",
       "       [ 28,  99,   0],\n",
       "       [ 15,   3,   0]], dtype=int64)"
      ]
     },
     "execution_count": 31,
     "metadata": {},
     "output_type": "execute_result"
    }
   ],
   "source": [
    "confusion_matrix(y_test, pred)"
   ]
  },
  {
   "cell_type": "markdown",
   "id": "954788bf",
   "metadata": {},
   "source": [
    "# Задание 2. На любом (но уже другом, бинарном) датасете продемонстрировать бинарную классификацию (можно использовать любой алгоритм), посчитать метрики: accuracy, precision, recall, f-measure, а также составить classification_report"
   ]
  },
  {
   "cell_type": "code",
   "execution_count": 203,
   "id": "f7b04310",
   "metadata": {},
   "outputs": [],
   "source": [
    "from sklearn.linear_model import LogisticRegression"
   ]
  },
  {
   "cell_type": "code",
   "execution_count": 204,
   "id": "310c1201",
   "metadata": {},
   "outputs": [
    {
     "data": {
      "text/html": [
       "<div>\n",
       "<style scoped>\n",
       "    .dataframe tbody tr th:only-of-type {\n",
       "        vertical-align: middle;\n",
       "    }\n",
       "\n",
       "    .dataframe tbody tr th {\n",
       "        vertical-align: top;\n",
       "    }\n",
       "\n",
       "    .dataframe thead th {\n",
       "        text-align: right;\n",
       "    }\n",
       "</style>\n",
       "<table border=\"1\" class=\"dataframe\">\n",
       "  <thead>\n",
       "    <tr style=\"text-align: right;\">\n",
       "      <th></th>\n",
       "      <th>title_id</th>\n",
       "      <th>title</th>\n",
       "      <th>genre</th>\n",
       "      <th>authors</th>\n",
       "      <th>weekdays</th>\n",
       "      <th>length</th>\n",
       "      <th>subscribers</th>\n",
       "      <th>rating</th>\n",
       "      <th>views</th>\n",
       "      <th>likes</th>\n",
       "      <th>status</th>\n",
       "      <th>daily_pass</th>\n",
       "      <th>synopsis</th>\n",
       "    </tr>\n",
       "  </thead>\n",
       "  <tbody>\n",
       "    <tr>\n",
       "      <th>0</th>\n",
       "      <td>3923</td>\n",
       "      <td>Island</td>\n",
       "      <td>ACTION</td>\n",
       "      <td>Inwan Youn,Kyungil Yang</td>\n",
       "      <td>SUNDAY</td>\n",
       "      <td>6</td>\n",
       "      <td>34748</td>\n",
       "      <td>8.95</td>\n",
       "      <td>182133</td>\n",
       "      <td>17902</td>\n",
       "      <td>ONGOING</td>\n",
       "      <td>True</td>\n",
       "      <td>“I’ll offer you 50 million won for every demon...</td>\n",
       "    </tr>\n",
       "    <tr>\n",
       "      <th>1</th>\n",
       "      <td>3922</td>\n",
       "      <td>Deadlife</td>\n",
       "      <td>ACTION</td>\n",
       "      <td>Hooressha,Jinguk Lim</td>\n",
       "      <td>SUNDAY</td>\n",
       "      <td>6</td>\n",
       "      <td>89644</td>\n",
       "      <td>9.34</td>\n",
       "      <td>796712</td>\n",
       "      <td>81830</td>\n",
       "      <td>ONGOING</td>\n",
       "      <td>True</td>\n",
       "      <td>Am I dead, or am I alive? After Seong-hun gets...</td>\n",
       "    </tr>\n",
       "  </tbody>\n",
       "</table>\n",
       "</div>"
      ],
      "text/plain": [
       "   title_id     title   genre                  authors weekdays  length  \\\n",
       "0      3923    Island  ACTION  Inwan Youn,Kyungil Yang   SUNDAY       6   \n",
       "1      3922  Deadlife  ACTION     Hooressha,Jinguk Lim   SUNDAY       6   \n",
       "\n",
       "   subscribers  rating   views  likes   status  daily_pass  \\\n",
       "0        34748    8.95  182133  17902  ONGOING        True   \n",
       "1        89644    9.34  796712  81830  ONGOING        True   \n",
       "\n",
       "                                            synopsis  \n",
       "0  “I’ll offer you 50 million won for every demon...  \n",
       "1  Am I dead, or am I alive? After Seong-hun gets...  "
      ]
     },
     "execution_count": 204,
     "metadata": {},
     "output_type": "execute_result"
    }
   ],
   "source": [
    "df1_copy = df1.copy()\n",
    "df1_copy.head(2)"
   ]
  },
  {
   "cell_type": "code",
   "execution_count": 205,
   "id": "70df7db4",
   "metadata": {},
   "outputs": [],
   "source": [
    "def to1_0(arr):\n",
    "    for i in range(arr.shape[0]):\n",
    "        if arr['daily_pass'][i] == True:\n",
    "            arr['daily_pass'][i] = int(1)\n",
    "        elif arr['daily_pass'][i] == False:\n",
    "            arr['daily_pass'][i] = int(0)"
   ]
  },
  {
   "cell_type": "code",
   "execution_count": 206,
   "id": "67349261",
   "metadata": {},
   "outputs": [
    {
     "name": "stderr",
     "output_type": "stream",
     "text": [
      "C:\\Users\\rsoko\\AppData\\Local\\Temp\\ipykernel_14596\\3209197165.py:4: SettingWithCopyWarning: \n",
      "A value is trying to be set on a copy of a slice from a DataFrame\n",
      "\n",
      "See the caveats in the documentation: https://pandas.pydata.org/pandas-docs/stable/user_guide/indexing.html#returning-a-view-versus-a-copy\n",
      "  arr['daily_pass'][i] = int(1)\n"
     ]
    }
   ],
   "source": [
    "to1_0(df1_copy)"
   ]
  },
  {
   "cell_type": "code",
   "execution_count": 207,
   "id": "2b8c69aa",
   "metadata": {},
   "outputs": [
    {
     "data": {
      "text/html": [
       "<div>\n",
       "<style scoped>\n",
       "    .dataframe tbody tr th:only-of-type {\n",
       "        vertical-align: middle;\n",
       "    }\n",
       "\n",
       "    .dataframe tbody tr th {\n",
       "        vertical-align: top;\n",
       "    }\n",
       "\n",
       "    .dataframe thead th {\n",
       "        text-align: right;\n",
       "    }\n",
       "</style>\n",
       "<table border=\"1\" class=\"dataframe\">\n",
       "  <thead>\n",
       "    <tr style=\"text-align: right;\">\n",
       "      <th></th>\n",
       "      <th>title_id</th>\n",
       "      <th>title</th>\n",
       "      <th>genre</th>\n",
       "      <th>authors</th>\n",
       "      <th>weekdays</th>\n",
       "      <th>length</th>\n",
       "      <th>subscribers</th>\n",
       "      <th>rating</th>\n",
       "      <th>views</th>\n",
       "      <th>likes</th>\n",
       "      <th>status</th>\n",
       "      <th>daily_pass</th>\n",
       "      <th>synopsis</th>\n",
       "    </tr>\n",
       "  </thead>\n",
       "  <tbody>\n",
       "    <tr>\n",
       "      <th>0</th>\n",
       "      <td>3923</td>\n",
       "      <td>Island</td>\n",
       "      <td>ACTION</td>\n",
       "      <td>Inwan Youn,Kyungil Yang</td>\n",
       "      <td>SUNDAY</td>\n",
       "      <td>6</td>\n",
       "      <td>34748</td>\n",
       "      <td>8.95</td>\n",
       "      <td>182133</td>\n",
       "      <td>17902</td>\n",
       "      <td>ONGOING</td>\n",
       "      <td>1</td>\n",
       "      <td>“I’ll offer you 50 million won for every demon...</td>\n",
       "    </tr>\n",
       "    <tr>\n",
       "      <th>1</th>\n",
       "      <td>3922</td>\n",
       "      <td>Deadlife</td>\n",
       "      <td>ACTION</td>\n",
       "      <td>Hooressha,Jinguk Lim</td>\n",
       "      <td>SUNDAY</td>\n",
       "      <td>6</td>\n",
       "      <td>89644</td>\n",
       "      <td>9.34</td>\n",
       "      <td>796712</td>\n",
       "      <td>81830</td>\n",
       "      <td>ONGOING</td>\n",
       "      <td>1</td>\n",
       "      <td>Am I dead, or am I alive? After Seong-hun gets...</td>\n",
       "    </tr>\n",
       "  </tbody>\n",
       "</table>\n",
       "</div>"
      ],
      "text/plain": [
       "   title_id     title   genre                  authors weekdays  length  \\\n",
       "0      3923    Island  ACTION  Inwan Youn,Kyungil Yang   SUNDAY       6   \n",
       "1      3922  Deadlife  ACTION     Hooressha,Jinguk Lim   SUNDAY       6   \n",
       "\n",
       "   subscribers  rating   views  likes   status daily_pass  \\\n",
       "0        34748    8.95  182133  17902  ONGOING          1   \n",
       "1        89644    9.34  796712  81830  ONGOING          1   \n",
       "\n",
       "                                            synopsis  \n",
       "0  “I’ll offer you 50 million won for every demon...  \n",
       "1  Am I dead, or am I alive? After Seong-hun gets...  "
      ]
     },
     "execution_count": 207,
     "metadata": {},
     "output_type": "execute_result"
    }
   ],
   "source": [
    "df1_copy.head(2)"
   ]
  },
  {
   "cell_type": "code",
   "execution_count": 262,
   "id": "1e7e8631",
   "metadata": {},
   "outputs": [
    {
     "data": {
      "text/html": [
       "<div>\n",
       "<style scoped>\n",
       "    .dataframe tbody tr th:only-of-type {\n",
       "        vertical-align: middle;\n",
       "    }\n",
       "\n",
       "    .dataframe tbody tr th {\n",
       "        vertical-align: top;\n",
       "    }\n",
       "\n",
       "    .dataframe thead th {\n",
       "        text-align: right;\n",
       "    }\n",
       "</style>\n",
       "<table border=\"1\" class=\"dataframe\">\n",
       "  <thead>\n",
       "    <tr style=\"text-align: right;\">\n",
       "      <th></th>\n",
       "      <th>length</th>\n",
       "      <th>subscribers</th>\n",
       "      <th>rating</th>\n",
       "      <th>views</th>\n",
       "      <th>likes</th>\n",
       "      <th>daily_pass</th>\n",
       "    </tr>\n",
       "  </thead>\n",
       "  <tbody>\n",
       "    <tr>\n",
       "      <th>0</th>\n",
       "      <td>6</td>\n",
       "      <td>0.004995</td>\n",
       "      <td>0.895</td>\n",
       "      <td>0.000179</td>\n",
       "      <td>0.000322</td>\n",
       "      <td>1</td>\n",
       "    </tr>\n",
       "    <tr>\n",
       "      <th>1</th>\n",
       "      <td>6</td>\n",
       "      <td>0.012887</td>\n",
       "      <td>0.934</td>\n",
       "      <td>0.000782</td>\n",
       "      <td>0.001473</td>\n",
       "      <td>1</td>\n",
       "    </tr>\n",
       "    <tr>\n",
       "      <th>2</th>\n",
       "      <td>4</td>\n",
       "      <td>0.015509</td>\n",
       "      <td>0.902</td>\n",
       "      <td>0.000448</td>\n",
       "      <td>0.000834</td>\n",
       "      <td>0</td>\n",
       "    </tr>\n",
       "    <tr>\n",
       "      <th>3</th>\n",
       "      <td>5</td>\n",
       "      <td>0.048007</td>\n",
       "      <td>0.969</td>\n",
       "      <td>0.001652</td>\n",
       "      <td>0.003595</td>\n",
       "      <td>0</td>\n",
       "    </tr>\n",
       "    <tr>\n",
       "      <th>4</th>\n",
       "      <td>6</td>\n",
       "      <td>0.031390</td>\n",
       "      <td>0.838</td>\n",
       "      <td>0.004286</td>\n",
       "      <td>0.006675</td>\n",
       "      <td>1</td>\n",
       "    </tr>\n",
       "    <tr>\n",
       "      <th>...</th>\n",
       "      <td>...</td>\n",
       "      <td>...</td>\n",
       "      <td>...</td>\n",
       "      <td>...</td>\n",
       "      <td>...</td>\n",
       "      <td>...</td>\n",
       "    </tr>\n",
       "    <tr>\n",
       "      <th>670</th>\n",
       "      <td>352</td>\n",
       "      <td>0.106938</td>\n",
       "      <td>0.965</td>\n",
       "      <td>0.140616</td>\n",
       "      <td>0.155075</td>\n",
       "      <td>0</td>\n",
       "    </tr>\n",
       "    <tr>\n",
       "      <th>671</th>\n",
       "      <td>170</td>\n",
       "      <td>0.013125</td>\n",
       "      <td>0.931</td>\n",
       "      <td>0.004506</td>\n",
       "      <td>0.002909</td>\n",
       "      <td>0</td>\n",
       "    </tr>\n",
       "    <tr>\n",
       "      <th>672</th>\n",
       "      <td>532</td>\n",
       "      <td>0.364289</td>\n",
       "      <td>0.970</td>\n",
       "      <td>0.684894</td>\n",
       "      <td>0.480459</td>\n",
       "      <td>0</td>\n",
       "    </tr>\n",
       "    <tr>\n",
       "      <th>673</th>\n",
       "      <td>17</td>\n",
       "      <td>0.065489</td>\n",
       "      <td>0.966</td>\n",
       "      <td>0.064916</td>\n",
       "      <td>0.050850</td>\n",
       "      <td>1</td>\n",
       "    </tr>\n",
       "    <tr>\n",
       "      <th>674</th>\n",
       "      <td>17</td>\n",
       "      <td>0.184602</td>\n",
       "      <td>0.929</td>\n",
       "      <td>0.194597</td>\n",
       "      <td>0.184395</td>\n",
       "      <td>1</td>\n",
       "    </tr>\n",
       "  </tbody>\n",
       "</table>\n",
       "<p>675 rows × 6 columns</p>\n",
       "</div>"
      ],
      "text/plain": [
       "     length  subscribers  rating     views     likes daily_pass\n",
       "0         6     0.004995   0.895  0.000179  0.000322          1\n",
       "1         6     0.012887   0.934  0.000782  0.001473          1\n",
       "2         4     0.015509   0.902  0.000448  0.000834          0\n",
       "3         5     0.048007   0.969  0.001652  0.003595          0\n",
       "4         6     0.031390   0.838  0.004286  0.006675          1\n",
       "..      ...          ...     ...       ...       ...        ...\n",
       "670     352     0.106938   0.965  0.140616  0.155075          0\n",
       "671     170     0.013125   0.931  0.004506  0.002909          0\n",
       "672     532     0.364289   0.970  0.684894  0.480459          0\n",
       "673      17     0.065489   0.966  0.064916  0.050850          1\n",
       "674      17     0.184602   0.929  0.194597  0.184395          1\n",
       "\n",
       "[675 rows x 6 columns]"
      ]
     },
     "execution_count": 262,
     "metadata": {},
     "output_type": "execute_result"
    }
   ],
   "source": [
    "for_model = df1_copy.iloc[0:, [5, 6, 7, 8, 9, 11]]\n",
    "#new\n",
    "for_model['subscribers'] = for_model['subscribers']/for_model['subscribers'].max()\n",
    "for_model['views'] = for_model['views']/for_model['views'].max()\n",
    "for_model['likes'] = for_model['likes']/for_model['likes'].max()\n",
    "for_model['rating'] = for_model['rating']/10\n",
    "for_model "
   ]
  },
  {
   "cell_type": "code",
   "execution_count": 263,
   "id": "3398ac5c",
   "metadata": {},
   "outputs": [
    {
     "data": {
      "text/html": [
       "<div>\n",
       "<style scoped>\n",
       "    .dataframe tbody tr th:only-of-type {\n",
       "        vertical-align: middle;\n",
       "    }\n",
       "\n",
       "    .dataframe tbody tr th {\n",
       "        vertical-align: top;\n",
       "    }\n",
       "\n",
       "    .dataframe thead th {\n",
       "        text-align: right;\n",
       "    }\n",
       "</style>\n",
       "<table border=\"1\" class=\"dataframe\">\n",
       "  <thead>\n",
       "    <tr style=\"text-align: right;\">\n",
       "      <th></th>\n",
       "      <th>length</th>\n",
       "      <th>subscribers</th>\n",
       "      <th>rating</th>\n",
       "      <th>views</th>\n",
       "      <th>likes</th>\n",
       "      <th>daily_pass</th>\n",
       "    </tr>\n",
       "  </thead>\n",
       "  <tbody>\n",
       "    <tr>\n",
       "      <th>0</th>\n",
       "      <td>6</td>\n",
       "      <td>0.004995</td>\n",
       "      <td>0.895</td>\n",
       "      <td>0.000179</td>\n",
       "      <td>0.000322</td>\n",
       "      <td>1</td>\n",
       "    </tr>\n",
       "    <tr>\n",
       "      <th>1</th>\n",
       "      <td>6</td>\n",
       "      <td>0.012887</td>\n",
       "      <td>0.934</td>\n",
       "      <td>0.000782</td>\n",
       "      <td>0.001473</td>\n",
       "      <td>1</td>\n",
       "    </tr>\n",
       "    <tr>\n",
       "      <th>2</th>\n",
       "      <td>4</td>\n",
       "      <td>0.015509</td>\n",
       "      <td>0.902</td>\n",
       "      <td>0.000448</td>\n",
       "      <td>0.000834</td>\n",
       "      <td>0</td>\n",
       "    </tr>\n",
       "    <tr>\n",
       "      <th>3</th>\n",
       "      <td>5</td>\n",
       "      <td>0.048007</td>\n",
       "      <td>0.969</td>\n",
       "      <td>0.001652</td>\n",
       "      <td>0.003595</td>\n",
       "      <td>0</td>\n",
       "    </tr>\n",
       "    <tr>\n",
       "      <th>4</th>\n",
       "      <td>6</td>\n",
       "      <td>0.031390</td>\n",
       "      <td>0.838</td>\n",
       "      <td>0.004286</td>\n",
       "      <td>0.006675</td>\n",
       "      <td>1</td>\n",
       "    </tr>\n",
       "    <tr>\n",
       "      <th>...</th>\n",
       "      <td>...</td>\n",
       "      <td>...</td>\n",
       "      <td>...</td>\n",
       "      <td>...</td>\n",
       "      <td>...</td>\n",
       "      <td>...</td>\n",
       "    </tr>\n",
       "    <tr>\n",
       "      <th>333</th>\n",
       "      <td>108</td>\n",
       "      <td>0.087705</td>\n",
       "      <td>0.971</td>\n",
       "      <td>0.036197</td>\n",
       "      <td>0.100811</td>\n",
       "      <td>0</td>\n",
       "    </tr>\n",
       "    <tr>\n",
       "      <th>334</th>\n",
       "      <td>41</td>\n",
       "      <td>0.013112</td>\n",
       "      <td>0.955</td>\n",
       "      <td>0.001727</td>\n",
       "      <td>0.005432</td>\n",
       "      <td>0</td>\n",
       "    </tr>\n",
       "    <tr>\n",
       "      <th>335</th>\n",
       "      <td>9</td>\n",
       "      <td>0.052609</td>\n",
       "      <td>0.960</td>\n",
       "      <td>0.013070</td>\n",
       "      <td>0.026312</td>\n",
       "      <td>1</td>\n",
       "    </tr>\n",
       "    <tr>\n",
       "      <th>336</th>\n",
       "      <td>59</td>\n",
       "      <td>0.093968</td>\n",
       "      <td>0.964</td>\n",
       "      <td>0.029517</td>\n",
       "      <td>0.052494</td>\n",
       "      <td>0</td>\n",
       "    </tr>\n",
       "    <tr>\n",
       "      <th>337</th>\n",
       "      <td>9</td>\n",
       "      <td>0.030760</td>\n",
       "      <td>0.972</td>\n",
       "      <td>0.009595</td>\n",
       "      <td>0.031977</td>\n",
       "      <td>1</td>\n",
       "    </tr>\n",
       "  </tbody>\n",
       "</table>\n",
       "<p>338 rows × 6 columns</p>\n",
       "</div>"
      ],
      "text/plain": [
       "     length  subscribers  rating     views     likes daily_pass\n",
       "0         6     0.004995   0.895  0.000179  0.000322          1\n",
       "1         6     0.012887   0.934  0.000782  0.001473          1\n",
       "2         4     0.015509   0.902  0.000448  0.000834          0\n",
       "3         5     0.048007   0.969  0.001652  0.003595          0\n",
       "4         6     0.031390   0.838  0.004286  0.006675          1\n",
       "..      ...          ...     ...       ...       ...        ...\n",
       "333     108     0.087705   0.971  0.036197  0.100811          0\n",
       "334      41     0.013112   0.955  0.001727  0.005432          0\n",
       "335       9     0.052609   0.960  0.013070  0.026312          1\n",
       "336      59     0.093968   0.964  0.029517  0.052494          0\n",
       "337       9     0.030760   0.972  0.009595  0.031977          1\n",
       "\n",
       "[338 rows x 6 columns]"
      ]
     },
     "execution_count": 263,
     "metadata": {},
     "output_type": "execute_result"
    }
   ],
   "source": [
    "train = for_model.iloc[0:round(for_model.shape[0]*0.5), [0, 1, 2, 3, 4, 5]]\n",
    "train"
   ]
  },
  {
   "cell_type": "code",
   "execution_count": 264,
   "id": "30666256",
   "metadata": {},
   "outputs": [
    {
     "data": {
      "text/html": [
       "<div>\n",
       "<style scoped>\n",
       "    .dataframe tbody tr th:only-of-type {\n",
       "        vertical-align: middle;\n",
       "    }\n",
       "\n",
       "    .dataframe tbody tr th {\n",
       "        vertical-align: top;\n",
       "    }\n",
       "\n",
       "    .dataframe thead th {\n",
       "        text-align: right;\n",
       "    }\n",
       "</style>\n",
       "<table border=\"1\" class=\"dataframe\">\n",
       "  <thead>\n",
       "    <tr style=\"text-align: right;\">\n",
       "      <th></th>\n",
       "      <th>length</th>\n",
       "      <th>subscribers</th>\n",
       "      <th>rating</th>\n",
       "      <th>views</th>\n",
       "      <th>likes</th>\n",
       "      <th>daily_pass</th>\n",
       "    </tr>\n",
       "  </thead>\n",
       "  <tbody>\n",
       "    <tr>\n",
       "      <th>338</th>\n",
       "      <td>27</td>\n",
       "      <td>0.009954</td>\n",
       "      <td>0.969</td>\n",
       "      <td>0.001235</td>\n",
       "      <td>0.002716</td>\n",
       "      <td>0</td>\n",
       "    </tr>\n",
       "    <tr>\n",
       "      <th>339</th>\n",
       "      <td>95</td>\n",
       "      <td>0.034995</td>\n",
       "      <td>0.953</td>\n",
       "      <td>0.006967</td>\n",
       "      <td>0.019006</td>\n",
       "      <td>0</td>\n",
       "    </tr>\n",
       "    <tr>\n",
       "      <th>340</th>\n",
       "      <td>83</td>\n",
       "      <td>0.355437</td>\n",
       "      <td>0.982</td>\n",
       "      <td>0.215048</td>\n",
       "      <td>0.203550</td>\n",
       "      <td>0</td>\n",
       "    </tr>\n",
       "    <tr>\n",
       "      <th>341</th>\n",
       "      <td>96</td>\n",
       "      <td>0.060587</td>\n",
       "      <td>0.966</td>\n",
       "      <td>0.021026</td>\n",
       "      <td>0.040822</td>\n",
       "      <td>0</td>\n",
       "    </tr>\n",
       "    <tr>\n",
       "      <th>342</th>\n",
       "      <td>123</td>\n",
       "      <td>0.078660</td>\n",
       "      <td>0.959</td>\n",
       "      <td>0.033346</td>\n",
       "      <td>0.059981</td>\n",
       "      <td>0</td>\n",
       "    </tr>\n",
       "    <tr>\n",
       "      <th>...</th>\n",
       "      <td>...</td>\n",
       "      <td>...</td>\n",
       "      <td>...</td>\n",
       "      <td>...</td>\n",
       "      <td>...</td>\n",
       "      <td>...</td>\n",
       "    </tr>\n",
       "    <tr>\n",
       "      <th>670</th>\n",
       "      <td>352</td>\n",
       "      <td>0.106938</td>\n",
       "      <td>0.965</td>\n",
       "      <td>0.140616</td>\n",
       "      <td>0.155075</td>\n",
       "      <td>0</td>\n",
       "    </tr>\n",
       "    <tr>\n",
       "      <th>671</th>\n",
       "      <td>170</td>\n",
       "      <td>0.013125</td>\n",
       "      <td>0.931</td>\n",
       "      <td>0.004506</td>\n",
       "      <td>0.002909</td>\n",
       "      <td>0</td>\n",
       "    </tr>\n",
       "    <tr>\n",
       "      <th>672</th>\n",
       "      <td>532</td>\n",
       "      <td>0.364289</td>\n",
       "      <td>0.970</td>\n",
       "      <td>0.684894</td>\n",
       "      <td>0.480459</td>\n",
       "      <td>0</td>\n",
       "    </tr>\n",
       "    <tr>\n",
       "      <th>673</th>\n",
       "      <td>17</td>\n",
       "      <td>0.065489</td>\n",
       "      <td>0.966</td>\n",
       "      <td>0.064916</td>\n",
       "      <td>0.050850</td>\n",
       "      <td>1</td>\n",
       "    </tr>\n",
       "    <tr>\n",
       "      <th>674</th>\n",
       "      <td>17</td>\n",
       "      <td>0.184602</td>\n",
       "      <td>0.929</td>\n",
       "      <td>0.194597</td>\n",
       "      <td>0.184395</td>\n",
       "      <td>1</td>\n",
       "    </tr>\n",
       "  </tbody>\n",
       "</table>\n",
       "<p>337 rows × 6 columns</p>\n",
       "</div>"
      ],
      "text/plain": [
       "     length  subscribers  rating     views     likes daily_pass\n",
       "338      27     0.009954   0.969  0.001235  0.002716          0\n",
       "339      95     0.034995   0.953  0.006967  0.019006          0\n",
       "340      83     0.355437   0.982  0.215048  0.203550          0\n",
       "341      96     0.060587   0.966  0.021026  0.040822          0\n",
       "342     123     0.078660   0.959  0.033346  0.059981          0\n",
       "..      ...          ...     ...       ...       ...        ...\n",
       "670     352     0.106938   0.965  0.140616  0.155075          0\n",
       "671     170     0.013125   0.931  0.004506  0.002909          0\n",
       "672     532     0.364289   0.970  0.684894  0.480459          0\n",
       "673      17     0.065489   0.966  0.064916  0.050850          1\n",
       "674      17     0.184602   0.929  0.194597  0.184395          1\n",
       "\n",
       "[337 rows x 6 columns]"
      ]
     },
     "execution_count": 264,
     "metadata": {},
     "output_type": "execute_result"
    }
   ],
   "source": [
    "test = for_model.iloc[round(for_model.shape[0]*0.5):, [0, 1, 2, 3, 4, 5]]\n",
    "test"
   ]
  },
  {
   "cell_type": "code",
   "execution_count": 265,
   "id": "258f9cb6",
   "metadata": {},
   "outputs": [
    {
     "data": {
      "text/html": [
       "<div>\n",
       "<style scoped>\n",
       "    .dataframe tbody tr th:only-of-type {\n",
       "        vertical-align: middle;\n",
       "    }\n",
       "\n",
       "    .dataframe tbody tr th {\n",
       "        vertical-align: top;\n",
       "    }\n",
       "\n",
       "    .dataframe thead th {\n",
       "        text-align: right;\n",
       "    }\n",
       "</style>\n",
       "<table border=\"1\" class=\"dataframe\">\n",
       "  <thead>\n",
       "    <tr style=\"text-align: right;\">\n",
       "      <th></th>\n",
       "      <th>length</th>\n",
       "      <th>subscribers</th>\n",
       "      <th>rating</th>\n",
       "      <th>views</th>\n",
       "      <th>likes</th>\n",
       "    </tr>\n",
       "  </thead>\n",
       "  <tbody>\n",
       "    <tr>\n",
       "      <th>0</th>\n",
       "      <td>6</td>\n",
       "      <td>0.004995</td>\n",
       "      <td>0.895</td>\n",
       "      <td>0.000179</td>\n",
       "      <td>0.000322</td>\n",
       "    </tr>\n",
       "    <tr>\n",
       "      <th>1</th>\n",
       "      <td>6</td>\n",
       "      <td>0.012887</td>\n",
       "      <td>0.934</td>\n",
       "      <td>0.000782</td>\n",
       "      <td>0.001473</td>\n",
       "    </tr>\n",
       "    <tr>\n",
       "      <th>2</th>\n",
       "      <td>4</td>\n",
       "      <td>0.015509</td>\n",
       "      <td>0.902</td>\n",
       "      <td>0.000448</td>\n",
       "      <td>0.000834</td>\n",
       "    </tr>\n",
       "    <tr>\n",
       "      <th>3</th>\n",
       "      <td>5</td>\n",
       "      <td>0.048007</td>\n",
       "      <td>0.969</td>\n",
       "      <td>0.001652</td>\n",
       "      <td>0.003595</td>\n",
       "    </tr>\n",
       "    <tr>\n",
       "      <th>4</th>\n",
       "      <td>6</td>\n",
       "      <td>0.031390</td>\n",
       "      <td>0.838</td>\n",
       "      <td>0.004286</td>\n",
       "      <td>0.006675</td>\n",
       "    </tr>\n",
       "    <tr>\n",
       "      <th>...</th>\n",
       "      <td>...</td>\n",
       "      <td>...</td>\n",
       "      <td>...</td>\n",
       "      <td>...</td>\n",
       "      <td>...</td>\n",
       "    </tr>\n",
       "    <tr>\n",
       "      <th>333</th>\n",
       "      <td>108</td>\n",
       "      <td>0.087705</td>\n",
       "      <td>0.971</td>\n",
       "      <td>0.036197</td>\n",
       "      <td>0.100811</td>\n",
       "    </tr>\n",
       "    <tr>\n",
       "      <th>334</th>\n",
       "      <td>41</td>\n",
       "      <td>0.013112</td>\n",
       "      <td>0.955</td>\n",
       "      <td>0.001727</td>\n",
       "      <td>0.005432</td>\n",
       "    </tr>\n",
       "    <tr>\n",
       "      <th>335</th>\n",
       "      <td>9</td>\n",
       "      <td>0.052609</td>\n",
       "      <td>0.960</td>\n",
       "      <td>0.013070</td>\n",
       "      <td>0.026312</td>\n",
       "    </tr>\n",
       "    <tr>\n",
       "      <th>336</th>\n",
       "      <td>59</td>\n",
       "      <td>0.093968</td>\n",
       "      <td>0.964</td>\n",
       "      <td>0.029517</td>\n",
       "      <td>0.052494</td>\n",
       "    </tr>\n",
       "    <tr>\n",
       "      <th>337</th>\n",
       "      <td>9</td>\n",
       "      <td>0.030760</td>\n",
       "      <td>0.972</td>\n",
       "      <td>0.009595</td>\n",
       "      <td>0.031977</td>\n",
       "    </tr>\n",
       "  </tbody>\n",
       "</table>\n",
       "<p>338 rows × 5 columns</p>\n",
       "</div>"
      ],
      "text/plain": [
       "     length  subscribers  rating     views     likes\n",
       "0         6     0.004995   0.895  0.000179  0.000322\n",
       "1         6     0.012887   0.934  0.000782  0.001473\n",
       "2         4     0.015509   0.902  0.000448  0.000834\n",
       "3         5     0.048007   0.969  0.001652  0.003595\n",
       "4         6     0.031390   0.838  0.004286  0.006675\n",
       "..      ...          ...     ...       ...       ...\n",
       "333     108     0.087705   0.971  0.036197  0.100811\n",
       "334      41     0.013112   0.955  0.001727  0.005432\n",
       "335       9     0.052609   0.960  0.013070  0.026312\n",
       "336      59     0.093968   0.964  0.029517  0.052494\n",
       "337       9     0.030760   0.972  0.009595  0.031977\n",
       "\n",
       "[338 rows x 5 columns]"
      ]
     },
     "execution_count": 265,
     "metadata": {},
     "output_type": "execute_result"
    }
   ],
   "source": [
    "x_train2 = train.iloc[0:, [0, 1, 2, 3, 4]]\n",
    "x_train2"
   ]
  },
  {
   "cell_type": "code",
   "execution_count": 266,
   "id": "f22d6625",
   "metadata": {},
   "outputs": [
    {
     "data": {
      "text/html": [
       "<div>\n",
       "<style scoped>\n",
       "    .dataframe tbody tr th:only-of-type {\n",
       "        vertical-align: middle;\n",
       "    }\n",
       "\n",
       "    .dataframe tbody tr th {\n",
       "        vertical-align: top;\n",
       "    }\n",
       "\n",
       "    .dataframe thead th {\n",
       "        text-align: right;\n",
       "    }\n",
       "</style>\n",
       "<table border=\"1\" class=\"dataframe\">\n",
       "  <thead>\n",
       "    <tr style=\"text-align: right;\">\n",
       "      <th></th>\n",
       "      <th>daily_pass</th>\n",
       "    </tr>\n",
       "  </thead>\n",
       "  <tbody>\n",
       "    <tr>\n",
       "      <th>0</th>\n",
       "      <td>1</td>\n",
       "    </tr>\n",
       "    <tr>\n",
       "      <th>1</th>\n",
       "      <td>1</td>\n",
       "    </tr>\n",
       "    <tr>\n",
       "      <th>2</th>\n",
       "      <td>0</td>\n",
       "    </tr>\n",
       "    <tr>\n",
       "      <th>3</th>\n",
       "      <td>0</td>\n",
       "    </tr>\n",
       "    <tr>\n",
       "      <th>4</th>\n",
       "      <td>1</td>\n",
       "    </tr>\n",
       "    <tr>\n",
       "      <th>...</th>\n",
       "      <td>...</td>\n",
       "    </tr>\n",
       "    <tr>\n",
       "      <th>333</th>\n",
       "      <td>0</td>\n",
       "    </tr>\n",
       "    <tr>\n",
       "      <th>334</th>\n",
       "      <td>0</td>\n",
       "    </tr>\n",
       "    <tr>\n",
       "      <th>335</th>\n",
       "      <td>1</td>\n",
       "    </tr>\n",
       "    <tr>\n",
       "      <th>336</th>\n",
       "      <td>0</td>\n",
       "    </tr>\n",
       "    <tr>\n",
       "      <th>337</th>\n",
       "      <td>1</td>\n",
       "    </tr>\n",
       "  </tbody>\n",
       "</table>\n",
       "<p>338 rows × 1 columns</p>\n",
       "</div>"
      ],
      "text/plain": [
       "     daily_pass\n",
       "0             1\n",
       "1             1\n",
       "2             0\n",
       "3             0\n",
       "4             1\n",
       "..          ...\n",
       "333           0\n",
       "334           0\n",
       "335           1\n",
       "336           0\n",
       "337           1\n",
       "\n",
       "[338 rows x 1 columns]"
      ]
     },
     "execution_count": 266,
     "metadata": {},
     "output_type": "execute_result"
    }
   ],
   "source": [
    "y_train2 = train.iloc[0:, [-1]]\n",
    "y_train2 = y_train2.astype(np.int64)\n",
    "y_train2"
   ]
  },
  {
   "cell_type": "code",
   "execution_count": 267,
   "id": "b1d1b553",
   "metadata": {},
   "outputs": [
    {
     "data": {
      "text/html": [
       "<div>\n",
       "<style scoped>\n",
       "    .dataframe tbody tr th:only-of-type {\n",
       "        vertical-align: middle;\n",
       "    }\n",
       "\n",
       "    .dataframe tbody tr th {\n",
       "        vertical-align: top;\n",
       "    }\n",
       "\n",
       "    .dataframe thead th {\n",
       "        text-align: right;\n",
       "    }\n",
       "</style>\n",
       "<table border=\"1\" class=\"dataframe\">\n",
       "  <thead>\n",
       "    <tr style=\"text-align: right;\">\n",
       "      <th></th>\n",
       "      <th>length</th>\n",
       "      <th>subscribers</th>\n",
       "      <th>rating</th>\n",
       "      <th>views</th>\n",
       "      <th>likes</th>\n",
       "    </tr>\n",
       "  </thead>\n",
       "  <tbody>\n",
       "    <tr>\n",
       "      <th>338</th>\n",
       "      <td>27</td>\n",
       "      <td>0.009954</td>\n",
       "      <td>0.969</td>\n",
       "      <td>0.001235</td>\n",
       "      <td>0.002716</td>\n",
       "    </tr>\n",
       "    <tr>\n",
       "      <th>339</th>\n",
       "      <td>95</td>\n",
       "      <td>0.034995</td>\n",
       "      <td>0.953</td>\n",
       "      <td>0.006967</td>\n",
       "      <td>0.019006</td>\n",
       "    </tr>\n",
       "    <tr>\n",
       "      <th>340</th>\n",
       "      <td>83</td>\n",
       "      <td>0.355437</td>\n",
       "      <td>0.982</td>\n",
       "      <td>0.215048</td>\n",
       "      <td>0.203550</td>\n",
       "    </tr>\n",
       "    <tr>\n",
       "      <th>341</th>\n",
       "      <td>96</td>\n",
       "      <td>0.060587</td>\n",
       "      <td>0.966</td>\n",
       "      <td>0.021026</td>\n",
       "      <td>0.040822</td>\n",
       "    </tr>\n",
       "    <tr>\n",
       "      <th>342</th>\n",
       "      <td>123</td>\n",
       "      <td>0.078660</td>\n",
       "      <td>0.959</td>\n",
       "      <td>0.033346</td>\n",
       "      <td>0.059981</td>\n",
       "    </tr>\n",
       "    <tr>\n",
       "      <th>...</th>\n",
       "      <td>...</td>\n",
       "      <td>...</td>\n",
       "      <td>...</td>\n",
       "      <td>...</td>\n",
       "      <td>...</td>\n",
       "    </tr>\n",
       "    <tr>\n",
       "      <th>670</th>\n",
       "      <td>352</td>\n",
       "      <td>0.106938</td>\n",
       "      <td>0.965</td>\n",
       "      <td>0.140616</td>\n",
       "      <td>0.155075</td>\n",
       "    </tr>\n",
       "    <tr>\n",
       "      <th>671</th>\n",
       "      <td>170</td>\n",
       "      <td>0.013125</td>\n",
       "      <td>0.931</td>\n",
       "      <td>0.004506</td>\n",
       "      <td>0.002909</td>\n",
       "    </tr>\n",
       "    <tr>\n",
       "      <th>672</th>\n",
       "      <td>532</td>\n",
       "      <td>0.364289</td>\n",
       "      <td>0.970</td>\n",
       "      <td>0.684894</td>\n",
       "      <td>0.480459</td>\n",
       "    </tr>\n",
       "    <tr>\n",
       "      <th>673</th>\n",
       "      <td>17</td>\n",
       "      <td>0.065489</td>\n",
       "      <td>0.966</td>\n",
       "      <td>0.064916</td>\n",
       "      <td>0.050850</td>\n",
       "    </tr>\n",
       "    <tr>\n",
       "      <th>674</th>\n",
       "      <td>17</td>\n",
       "      <td>0.184602</td>\n",
       "      <td>0.929</td>\n",
       "      <td>0.194597</td>\n",
       "      <td>0.184395</td>\n",
       "    </tr>\n",
       "  </tbody>\n",
       "</table>\n",
       "<p>337 rows × 5 columns</p>\n",
       "</div>"
      ],
      "text/plain": [
       "     length  subscribers  rating     views     likes\n",
       "338      27     0.009954   0.969  0.001235  0.002716\n",
       "339      95     0.034995   0.953  0.006967  0.019006\n",
       "340      83     0.355437   0.982  0.215048  0.203550\n",
       "341      96     0.060587   0.966  0.021026  0.040822\n",
       "342     123     0.078660   0.959  0.033346  0.059981\n",
       "..      ...          ...     ...       ...       ...\n",
       "670     352     0.106938   0.965  0.140616  0.155075\n",
       "671     170     0.013125   0.931  0.004506  0.002909\n",
       "672     532     0.364289   0.970  0.684894  0.480459\n",
       "673      17     0.065489   0.966  0.064916  0.050850\n",
       "674      17     0.184602   0.929  0.194597  0.184395\n",
       "\n",
       "[337 rows x 5 columns]"
      ]
     },
     "execution_count": 267,
     "metadata": {},
     "output_type": "execute_result"
    }
   ],
   "source": [
    "x_test2 = test.iloc[0:, [0, 1, 2, 3, 4]]\n",
    "x_test2"
   ]
  },
  {
   "cell_type": "code",
   "execution_count": 370,
   "id": "fd42d1fc",
   "metadata": {},
   "outputs": [
    {
     "data": {
      "text/html": [
       "<div>\n",
       "<style scoped>\n",
       "    .dataframe tbody tr th:only-of-type {\n",
       "        vertical-align: middle;\n",
       "    }\n",
       "\n",
       "    .dataframe tbody tr th {\n",
       "        vertical-align: top;\n",
       "    }\n",
       "\n",
       "    .dataframe thead th {\n",
       "        text-align: right;\n",
       "    }\n",
       "</style>\n",
       "<table border=\"1\" class=\"dataframe\">\n",
       "  <thead>\n",
       "    <tr style=\"text-align: right;\">\n",
       "      <th></th>\n",
       "      <th>daily_pass</th>\n",
       "    </tr>\n",
       "  </thead>\n",
       "  <tbody>\n",
       "    <tr>\n",
       "      <th>338</th>\n",
       "      <td>0</td>\n",
       "    </tr>\n",
       "    <tr>\n",
       "      <th>339</th>\n",
       "      <td>0</td>\n",
       "    </tr>\n",
       "  </tbody>\n",
       "</table>\n",
       "</div>"
      ],
      "text/plain": [
       "     daily_pass\n",
       "338           0\n",
       "339           0"
      ]
     },
     "execution_count": 370,
     "metadata": {},
     "output_type": "execute_result"
    }
   ],
   "source": [
    "y_test2 = test.iloc[0:, [-1]]\n",
    "y_test2 = y_test2.astype(np.int64)\n",
    "y_test2.head(2)"
   ]
  },
  {
   "cell_type": "code",
   "execution_count": 269,
   "id": "b5614114",
   "metadata": {},
   "outputs": [],
   "source": [
    "model2 = LogisticRegression()"
   ]
  },
  {
   "cell_type": "code",
   "execution_count": 270,
   "id": "93ef8d09",
   "metadata": {},
   "outputs": [
    {
     "data": {
      "text/plain": [
       "LogisticRegression()"
      ]
     },
     "execution_count": 270,
     "metadata": {},
     "output_type": "execute_result"
    }
   ],
   "source": [
    "model2.fit(X=x_train2, y=np.ravel(y_train2))"
   ]
  },
  {
   "cell_type": "code",
   "execution_count": 271,
   "id": "3d5d29c0",
   "metadata": {},
   "outputs": [],
   "source": [
    "pred2 = model2.predict(x_test2)"
   ]
  },
  {
   "cell_type": "markdown",
   "id": "fd536e66",
   "metadata": {},
   "source": [
    "### Accuracy score "
   ]
  },
  {
   "cell_type": "code",
   "execution_count": 273,
   "id": "003de446",
   "metadata": {},
   "outputs": [
    {
     "data": {
      "text/plain": [
       "0.857566765578635"
      ]
     },
     "execution_count": 273,
     "metadata": {},
     "output_type": "execute_result"
    }
   ],
   "source": [
    "sklearn.metrics.accuracy_score(y_test2, pred2)"
   ]
  },
  {
   "cell_type": "markdown",
   "id": "74b57dd2",
   "metadata": {},
   "source": [
    "### Precision score "
   ]
  },
  {
   "cell_type": "code",
   "execution_count": 274,
   "id": "b4263b98",
   "metadata": {},
   "outputs": [
    {
     "data": {
      "text/plain": [
       "0.8181818181818182"
      ]
     },
     "execution_count": 274,
     "metadata": {},
     "output_type": "execute_result"
    }
   ],
   "source": [
    "sklearn.metrics.precision_score(y_test2, pred2)"
   ]
  },
  {
   "cell_type": "markdown",
   "id": "83f0f751",
   "metadata": {},
   "source": [
    "### Recall score "
   ]
  },
  {
   "cell_type": "code",
   "execution_count": 275,
   "id": "da05f4ad",
   "metadata": {},
   "outputs": [
    {
     "data": {
      "text/plain": [
       "0.16363636363636364"
      ]
     },
     "execution_count": 275,
     "metadata": {},
     "output_type": "execute_result"
    }
   ],
   "source": [
    "sklearn.metrics.recall_score(y_test2, pred2)"
   ]
  },
  {
   "cell_type": "markdown",
   "id": "9e35e4a0",
   "metadata": {},
   "source": [
    "### F1 score "
   ]
  },
  {
   "cell_type": "code",
   "execution_count": 276,
   "id": "98c7fcf2",
   "metadata": {},
   "outputs": [
    {
     "data": {
      "text/plain": [
       "0.2727272727272727"
      ]
     },
     "execution_count": 276,
     "metadata": {},
     "output_type": "execute_result"
    }
   ],
   "source": [
    "sklearn.metrics.f1_score(y_test2, pred2)"
   ]
  },
  {
   "cell_type": "code",
   "execution_count": 277,
   "id": "ec3bae00",
   "metadata": {},
   "outputs": [
    {
     "name": "stdout",
     "output_type": "stream",
     "text": [
      "              precision    recall  f1-score   support\n",
      "\n",
      "           0       0.86      0.99      0.92       282\n",
      "           1       0.82      0.16      0.27        55\n",
      "\n",
      "    accuracy                           0.86       337\n",
      "   macro avg       0.84      0.58      0.60       337\n",
      "weighted avg       0.85      0.86      0.82       337\n",
      "\n"
     ]
    }
   ],
   "source": [
    "print(sklearn.metrics.classification_report(y_test2, pred2))"
   ]
  },
  {
   "cell_type": "markdown",
   "id": "ed308fe5",
   "metadata": {},
   "source": [
    "# Задание 3. Использование нормализации признаков В обоих задачах (бинарной и многоклассовой классификации) попробовать также вариант с предварительной нормализацией признаков (StandardScalerили MinMaxScaler). Оценить метрики качества в случае с нормализованными признаками и ненормализованными."
   ]
  },
  {
   "cell_type": "code",
   "execution_count": 339,
   "id": "83355533",
   "metadata": {},
   "outputs": [],
   "source": [
    "from sklearn.preprocessing import StandardScaler\n",
    "from sklearn.preprocessing import MinMaxScaler"
   ]
  },
  {
   "cell_type": "code",
   "execution_count": 352,
   "id": "6707068f",
   "metadata": {},
   "outputs": [],
   "source": [
    "ss = StandardScaler()\n",
    "MMs = MinMaxScaler()"
   ]
  },
  {
   "cell_type": "markdown",
   "id": "51d398c9",
   "metadata": {},
   "source": [
    "## 1. Бинарная классификация "
   ]
  },
  {
   "cell_type": "code",
   "execution_count": 353,
   "id": "c551cad9",
   "metadata": {},
   "outputs": [],
   "source": [
    "scal_list = ['length', 'subscribers', 'rating', 'views', 'likes']"
   ]
  },
  {
   "cell_type": "code",
   "execution_count": 354,
   "id": "27ee0997",
   "metadata": {},
   "outputs": [
    {
     "data": {
      "text/html": [
       "<div>\n",
       "<style scoped>\n",
       "    .dataframe tbody tr th:only-of-type {\n",
       "        vertical-align: middle;\n",
       "    }\n",
       "\n",
       "    .dataframe tbody tr th {\n",
       "        vertical-align: top;\n",
       "    }\n",
       "\n",
       "    .dataframe thead th {\n",
       "        text-align: right;\n",
       "    }\n",
       "</style>\n",
       "<table border=\"1\" class=\"dataframe\">\n",
       "  <thead>\n",
       "    <tr style=\"text-align: right;\">\n",
       "      <th></th>\n",
       "      <th>length</th>\n",
       "      <th>views</th>\n",
       "      <th>rating</th>\n",
       "      <th>views</th>\n",
       "      <th>likes</th>\n",
       "    </tr>\n",
       "  </thead>\n",
       "  <tbody>\n",
       "    <tr>\n",
       "      <th>0</th>\n",
       "      <td>6</td>\n",
       "      <td>0.000179</td>\n",
       "      <td>0.895</td>\n",
       "      <td>0.000179</td>\n",
       "      <td>0.000322</td>\n",
       "    </tr>\n",
       "    <tr>\n",
       "      <th>1</th>\n",
       "      <td>6</td>\n",
       "      <td>0.000782</td>\n",
       "      <td>0.934</td>\n",
       "      <td>0.000782</td>\n",
       "      <td>0.001473</td>\n",
       "    </tr>\n",
       "    <tr>\n",
       "      <th>2</th>\n",
       "      <td>4</td>\n",
       "      <td>0.000448</td>\n",
       "      <td>0.902</td>\n",
       "      <td>0.000448</td>\n",
       "      <td>0.000834</td>\n",
       "    </tr>\n",
       "    <tr>\n",
       "      <th>3</th>\n",
       "      <td>5</td>\n",
       "      <td>0.001652</td>\n",
       "      <td>0.969</td>\n",
       "      <td>0.001652</td>\n",
       "      <td>0.003595</td>\n",
       "    </tr>\n",
       "    <tr>\n",
       "      <th>4</th>\n",
       "      <td>6</td>\n",
       "      <td>0.004286</td>\n",
       "      <td>0.838</td>\n",
       "      <td>0.004286</td>\n",
       "      <td>0.006675</td>\n",
       "    </tr>\n",
       "    <tr>\n",
       "      <th>...</th>\n",
       "      <td>...</td>\n",
       "      <td>...</td>\n",
       "      <td>...</td>\n",
       "      <td>...</td>\n",
       "      <td>...</td>\n",
       "    </tr>\n",
       "    <tr>\n",
       "      <th>670</th>\n",
       "      <td>352</td>\n",
       "      <td>0.140616</td>\n",
       "      <td>0.965</td>\n",
       "      <td>0.140616</td>\n",
       "      <td>0.155075</td>\n",
       "    </tr>\n",
       "    <tr>\n",
       "      <th>671</th>\n",
       "      <td>170</td>\n",
       "      <td>0.004506</td>\n",
       "      <td>0.931</td>\n",
       "      <td>0.004506</td>\n",
       "      <td>0.002909</td>\n",
       "    </tr>\n",
       "    <tr>\n",
       "      <th>672</th>\n",
       "      <td>532</td>\n",
       "      <td>0.684894</td>\n",
       "      <td>0.970</td>\n",
       "      <td>0.684894</td>\n",
       "      <td>0.480459</td>\n",
       "    </tr>\n",
       "    <tr>\n",
       "      <th>673</th>\n",
       "      <td>17</td>\n",
       "      <td>0.064916</td>\n",
       "      <td>0.966</td>\n",
       "      <td>0.064916</td>\n",
       "      <td>0.050850</td>\n",
       "    </tr>\n",
       "    <tr>\n",
       "      <th>674</th>\n",
       "      <td>17</td>\n",
       "      <td>0.194597</td>\n",
       "      <td>0.929</td>\n",
       "      <td>0.194597</td>\n",
       "      <td>0.184395</td>\n",
       "    </tr>\n",
       "  </tbody>\n",
       "</table>\n",
       "<p>675 rows × 5 columns</p>\n",
       "</div>"
      ],
      "text/plain": [
       "     length     views  rating     views     likes\n",
       "0         6  0.000179   0.895  0.000179  0.000322\n",
       "1         6  0.000782   0.934  0.000782  0.001473\n",
       "2         4  0.000448   0.902  0.000448  0.000834\n",
       "3         5  0.001652   0.969  0.001652  0.003595\n",
       "4         6  0.004286   0.838  0.004286  0.006675\n",
       "..      ...       ...     ...       ...       ...\n",
       "670     352  0.140616   0.965  0.140616  0.155075\n",
       "671     170  0.004506   0.931  0.004506  0.002909\n",
       "672     532  0.684894   0.970  0.684894  0.480459\n",
       "673      17  0.064916   0.966  0.064916  0.050850\n",
       "674      17  0.194597   0.929  0.194597  0.184395\n",
       "\n",
       "[675 rows x 5 columns]"
      ]
     },
     "execution_count": 354,
     "metadata": {},
     "output_type": "execute_result"
    }
   ],
   "source": [
    "for_model[['length', 'views', 'rating', 'views', 'likes']]"
   ]
  },
  {
   "cell_type": "markdown",
   "id": "5cbb90b2",
   "metadata": {},
   "source": [
    "## StandardScaler() "
   ]
  },
  {
   "cell_type": "code",
   "execution_count": 355,
   "id": "11f7d5a0",
   "metadata": {},
   "outputs": [
    {
     "data": {
      "text/plain": [
       "StandardScaler()"
      ]
     },
     "execution_count": 355,
     "metadata": {},
     "output_type": "execute_result"
    }
   ],
   "source": [
    "ss.fit(for_model[['length', 'views', 'rating', 'views', 'likes']])"
   ]
  },
  {
   "cell_type": "code",
   "execution_count": 356,
   "id": "888c0850",
   "metadata": {},
   "outputs": [],
   "source": [
    "for_model_new = ss.transform(for_model[['length', 'views', 'rating', 'views', 'likes']])"
   ]
  },
  {
   "cell_type": "code",
   "execution_count": 357,
   "id": "047c4235",
   "metadata": {},
   "outputs": [
    {
     "data": {
      "text/html": [
       "<div>\n",
       "<style scoped>\n",
       "    .dataframe tbody tr th:only-of-type {\n",
       "        vertical-align: middle;\n",
       "    }\n",
       "\n",
       "    .dataframe tbody tr th {\n",
       "        vertical-align: top;\n",
       "    }\n",
       "\n",
       "    .dataframe thead th {\n",
       "        text-align: right;\n",
       "    }\n",
       "</style>\n",
       "<table border=\"1\" class=\"dataframe\">\n",
       "  <thead>\n",
       "    <tr style=\"text-align: right;\">\n",
       "      <th></th>\n",
       "      <th>length</th>\n",
       "      <th>subscribers</th>\n",
       "      <th>rating</th>\n",
       "      <th>views</th>\n",
       "      <th>likes</th>\n",
       "    </tr>\n",
       "  </thead>\n",
       "  <tbody>\n",
       "    <tr>\n",
       "      <th>0</th>\n",
       "      <td>-0.609106</td>\n",
       "      <td>-0.395674</td>\n",
       "      <td>-0.814873</td>\n",
       "      <td>-0.395674</td>\n",
       "      <td>-0.491642</td>\n",
       "    </tr>\n",
       "    <tr>\n",
       "      <th>1</th>\n",
       "      <td>-0.609106</td>\n",
       "      <td>-0.390036</td>\n",
       "      <td>-0.120244</td>\n",
       "      <td>-0.390036</td>\n",
       "      <td>-0.481861</td>\n",
       "    </tr>\n",
       "    <tr>\n",
       "      <th>2</th>\n",
       "      <td>-0.624705</td>\n",
       "      <td>-0.393159</td>\n",
       "      <td>-0.690196</td>\n",
       "      <td>-0.393159</td>\n",
       "      <td>-0.487296</td>\n",
       "    </tr>\n",
       "    <tr>\n",
       "      <th>3</th>\n",
       "      <td>-0.616906</td>\n",
       "      <td>-0.381905</td>\n",
       "      <td>0.503141</td>\n",
       "      <td>-0.381905</td>\n",
       "      <td>-0.463837</td>\n",
       "    </tr>\n",
       "    <tr>\n",
       "      <th>4</th>\n",
       "      <td>-0.609106</td>\n",
       "      <td>-0.357278</td>\n",
       "      <td>-1.830099</td>\n",
       "      <td>-0.357278</td>\n",
       "      <td>-0.437663</td>\n",
       "    </tr>\n",
       "    <tr>\n",
       "      <th>...</th>\n",
       "      <td>...</td>\n",
       "      <td>...</td>\n",
       "      <td>...</td>\n",
       "      <td>...</td>\n",
       "      <td>...</td>\n",
       "    </tr>\n",
       "    <tr>\n",
       "      <th>670</th>\n",
       "      <td>2.089393</td>\n",
       "      <td>0.917281</td>\n",
       "      <td>0.431897</td>\n",
       "      <td>0.917281</td>\n",
       "      <td>0.823274</td>\n",
       "    </tr>\n",
       "    <tr>\n",
       "      <th>671</th>\n",
       "      <td>0.669951</td>\n",
       "      <td>-0.355217</td>\n",
       "      <td>-0.173677</td>\n",
       "      <td>-0.355217</td>\n",
       "      <td>-0.469664</td>\n",
       "    </tr>\n",
       "    <tr>\n",
       "      <th>672</th>\n",
       "      <td>3.493237</td>\n",
       "      <td>6.005755</td>\n",
       "      <td>0.520952</td>\n",
       "      <td>6.005755</td>\n",
       "      <td>3.588025</td>\n",
       "    </tr>\n",
       "    <tr>\n",
       "      <th>673</th>\n",
       "      <td>-0.523316</td>\n",
       "      <td>0.209562</td>\n",
       "      <td>0.449708</td>\n",
       "      <td>0.209562</td>\n",
       "      <td>-0.062315</td>\n",
       "    </tr>\n",
       "    <tr>\n",
       "      <th>674</th>\n",
       "      <td>-0.523316</td>\n",
       "      <td>1.421949</td>\n",
       "      <td>-0.209299</td>\n",
       "      <td>1.421949</td>\n",
       "      <td>1.072402</td>\n",
       "    </tr>\n",
       "  </tbody>\n",
       "</table>\n",
       "<p>675 rows × 5 columns</p>\n",
       "</div>"
      ],
      "text/plain": [
       "       length  subscribers    rating     views     likes\n",
       "0   -0.609106    -0.395674 -0.814873 -0.395674 -0.491642\n",
       "1   -0.609106    -0.390036 -0.120244 -0.390036 -0.481861\n",
       "2   -0.624705    -0.393159 -0.690196 -0.393159 -0.487296\n",
       "3   -0.616906    -0.381905  0.503141 -0.381905 -0.463837\n",
       "4   -0.609106    -0.357278 -1.830099 -0.357278 -0.437663\n",
       "..        ...          ...       ...       ...       ...\n",
       "670  2.089393     0.917281  0.431897  0.917281  0.823274\n",
       "671  0.669951    -0.355217 -0.173677 -0.355217 -0.469664\n",
       "672  3.493237     6.005755  0.520952  6.005755  3.588025\n",
       "673 -0.523316     0.209562  0.449708  0.209562 -0.062315\n",
       "674 -0.523316     1.421949 -0.209299  1.421949  1.072402\n",
       "\n",
       "[675 rows x 5 columns]"
      ]
     },
     "execution_count": 357,
     "metadata": {},
     "output_type": "execute_result"
    }
   ],
   "source": [
    "for_model_new = pd.DataFrame(for_model_new, columns=scal_list)\n",
    "for_model_new"
   ]
  },
  {
   "cell_type": "code",
   "execution_count": 358,
   "id": "266b5b4f",
   "metadata": {},
   "outputs": [],
   "source": [
    "model_new = LogisticRegression()"
   ]
  },
  {
   "cell_type": "code",
   "execution_count": 360,
   "id": "d6a38bf5",
   "metadata": {},
   "outputs": [
    {
     "data": {
      "text/plain": [
       "LogisticRegression()"
      ]
     },
     "execution_count": 360,
     "metadata": {},
     "output_type": "execute_result"
    }
   ],
   "source": [
    "model_new.fit(for_model_new[0:round(for_model_new.shape[0]*0.5)], np.ravel(y_train2))"
   ]
  },
  {
   "cell_type": "code",
   "execution_count": 361,
   "id": "c9a31109",
   "metadata": {},
   "outputs": [],
   "source": [
    "pred_new = model_new.predict(x_test2)"
   ]
  },
  {
   "cell_type": "code",
   "execution_count": 362,
   "id": "9c976ab6",
   "metadata": {},
   "outputs": [
    {
     "data": {
      "text/plain": [
       "0.8367952522255193"
      ]
     },
     "execution_count": 362,
     "metadata": {},
     "output_type": "execute_result"
    }
   ],
   "source": [
    "sklearn.metrics.accuracy_score(y_test2, pred_new)"
   ]
  },
  {
   "cell_type": "markdown",
   "id": "cb67a678",
   "metadata": {},
   "source": [
    "## MinMaxScaler() "
   ]
  },
  {
   "cell_type": "code",
   "execution_count": 363,
   "id": "9b6bf043",
   "metadata": {},
   "outputs": [
    {
     "data": {
      "text/plain": [
       "MinMaxScaler()"
      ]
     },
     "execution_count": 363,
     "metadata": {},
     "output_type": "execute_result"
    }
   ],
   "source": [
    "MMs.fit(for_model[['length', 'views', 'rating', 'views', 'likes']])"
   ]
  },
  {
   "cell_type": "code",
   "execution_count": 364,
   "id": "6ed34e49",
   "metadata": {},
   "outputs": [],
   "source": [
    "for_model_new2 = MMs.transform(for_model[['length', 'views', 'rating', 'views', 'likes']])"
   ]
  },
  {
   "cell_type": "code",
   "execution_count": 365,
   "id": "8319e65a",
   "metadata": {},
   "outputs": [
    {
     "data": {
      "text/html": [
       "<div>\n",
       "<style scoped>\n",
       "    .dataframe tbody tr th:only-of-type {\n",
       "        vertical-align: middle;\n",
       "    }\n",
       "\n",
       "    .dataframe tbody tr th {\n",
       "        vertical-align: top;\n",
       "    }\n",
       "\n",
       "    .dataframe thead th {\n",
       "        text-align: right;\n",
       "    }\n",
       "</style>\n",
       "<table border=\"1\" class=\"dataframe\">\n",
       "  <thead>\n",
       "    <tr style=\"text-align: right;\">\n",
       "      <th></th>\n",
       "      <th>length</th>\n",
       "      <th>subscribers</th>\n",
       "      <th>rating</th>\n",
       "      <th>views</th>\n",
       "      <th>likes</th>\n",
       "    </tr>\n",
       "  </thead>\n",
       "  <tbody>\n",
       "    <tr>\n",
       "      <th>0</th>\n",
       "      <td>0.003687</td>\n",
       "      <td>0.000096</td>\n",
       "      <td>0.779736</td>\n",
       "      <td>0.000096</td>\n",
       "      <td>0.000169</td>\n",
       "    </tr>\n",
       "    <tr>\n",
       "      <th>1</th>\n",
       "      <td>0.003687</td>\n",
       "      <td>0.000699</td>\n",
       "      <td>0.865639</td>\n",
       "      <td>0.000699</td>\n",
       "      <td>0.001321</td>\n",
       "    </tr>\n",
       "    <tr>\n",
       "      <th>2</th>\n",
       "      <td>0.002212</td>\n",
       "      <td>0.000365</td>\n",
       "      <td>0.795154</td>\n",
       "      <td>0.000365</td>\n",
       "      <td>0.000681</td>\n",
       "    </tr>\n",
       "    <tr>\n",
       "      <th>3</th>\n",
       "      <td>0.002950</td>\n",
       "      <td>0.001569</td>\n",
       "      <td>0.942731</td>\n",
       "      <td>0.001569</td>\n",
       "      <td>0.003442</td>\n",
       "    </tr>\n",
       "    <tr>\n",
       "      <th>4</th>\n",
       "      <td>0.003687</td>\n",
       "      <td>0.004203</td>\n",
       "      <td>0.654185</td>\n",
       "      <td>0.004203</td>\n",
       "      <td>0.006523</td>\n",
       "    </tr>\n",
       "    <tr>\n",
       "      <th>...</th>\n",
       "      <td>...</td>\n",
       "      <td>...</td>\n",
       "      <td>...</td>\n",
       "      <td>...</td>\n",
       "      <td>...</td>\n",
       "    </tr>\n",
       "    <tr>\n",
       "      <th>670</th>\n",
       "      <td>0.258850</td>\n",
       "      <td>0.140545</td>\n",
       "      <td>0.933921</td>\n",
       "      <td>0.140545</td>\n",
       "      <td>0.154946</td>\n",
       "    </tr>\n",
       "    <tr>\n",
       "      <th>671</th>\n",
       "      <td>0.124631</td>\n",
       "      <td>0.004424</td>\n",
       "      <td>0.859031</td>\n",
       "      <td>0.004424</td>\n",
       "      <td>0.002756</td>\n",
       "    </tr>\n",
       "    <tr>\n",
       "      <th>672</th>\n",
       "      <td>0.391593</td>\n",
       "      <td>0.684868</td>\n",
       "      <td>0.944934</td>\n",
       "      <td>0.684868</td>\n",
       "      <td>0.480379</td>\n",
       "    </tr>\n",
       "    <tr>\n",
       "      <th>673</th>\n",
       "      <td>0.011799</td>\n",
       "      <td>0.064839</td>\n",
       "      <td>0.936123</td>\n",
       "      <td>0.064839</td>\n",
       "      <td>0.050705</td>\n",
       "    </tr>\n",
       "    <tr>\n",
       "      <th>674</th>\n",
       "      <td>0.011799</td>\n",
       "      <td>0.194530</td>\n",
       "      <td>0.854626</td>\n",
       "      <td>0.194530</td>\n",
       "      <td>0.184270</td>\n",
       "    </tr>\n",
       "  </tbody>\n",
       "</table>\n",
       "<p>675 rows × 5 columns</p>\n",
       "</div>"
      ],
      "text/plain": [
       "       length  subscribers    rating     views     likes\n",
       "0    0.003687     0.000096  0.779736  0.000096  0.000169\n",
       "1    0.003687     0.000699  0.865639  0.000699  0.001321\n",
       "2    0.002212     0.000365  0.795154  0.000365  0.000681\n",
       "3    0.002950     0.001569  0.942731  0.001569  0.003442\n",
       "4    0.003687     0.004203  0.654185  0.004203  0.006523\n",
       "..        ...          ...       ...       ...       ...\n",
       "670  0.258850     0.140545  0.933921  0.140545  0.154946\n",
       "671  0.124631     0.004424  0.859031  0.004424  0.002756\n",
       "672  0.391593     0.684868  0.944934  0.684868  0.480379\n",
       "673  0.011799     0.064839  0.936123  0.064839  0.050705\n",
       "674  0.011799     0.194530  0.854626  0.194530  0.184270\n",
       "\n",
       "[675 rows x 5 columns]"
      ]
     },
     "execution_count": 365,
     "metadata": {},
     "output_type": "execute_result"
    }
   ],
   "source": [
    "for_model_new2 = pd.DataFrame(for_model_new2, columns=scal_list)\n",
    "for_model_new2"
   ]
  },
  {
   "cell_type": "code",
   "execution_count": 366,
   "id": "062f1299",
   "metadata": {},
   "outputs": [],
   "source": [
    "model_new2 = LogisticRegression()"
   ]
  },
  {
   "cell_type": "code",
   "execution_count": 367,
   "id": "70d3ce8e",
   "metadata": {},
   "outputs": [
    {
     "data": {
      "text/plain": [
       "LogisticRegression()"
      ]
     },
     "execution_count": 367,
     "metadata": {},
     "output_type": "execute_result"
    }
   ],
   "source": [
    "model_new2.fit(for_model_new2[0:round(for_model_new2.shape[0]*0.5)], np.ravel(y_train2))"
   ]
  },
  {
   "cell_type": "code",
   "execution_count": 368,
   "id": "323b123e",
   "metadata": {},
   "outputs": [],
   "source": [
    "pred_new2 = model_new2.predict(x_test2)"
   ]
  },
  {
   "cell_type": "code",
   "execution_count": 369,
   "id": "0681aac4",
   "metadata": {},
   "outputs": [
    {
     "data": {
      "text/plain": [
       "0.8367952522255193"
      ]
     },
     "execution_count": 369,
     "metadata": {},
     "output_type": "execute_result"
    }
   ],
   "source": [
    "sklearn.metrics.accuracy_score(y_test2, pred_new)"
   ]
  },
  {
   "cell_type": "markdown",
   "id": "2f88c012",
   "metadata": {},
   "source": [
    "## 2. Многоклассовая классификация "
   ]
  },
  {
   "cell_type": "code",
   "execution_count": 404,
   "id": "502f25d5",
   "metadata": {},
   "outputs": [],
   "source": [
    "for_model3 = df2_copy.copy()"
   ]
  },
  {
   "cell_type": "code",
   "execution_count": 405,
   "id": "e67fe966",
   "metadata": {},
   "outputs": [
    {
     "data": {
      "text/html": [
       "<div>\n",
       "<style scoped>\n",
       "    .dataframe tbody tr th:only-of-type {\n",
       "        vertical-align: middle;\n",
       "    }\n",
       "\n",
       "    .dataframe tbody tr th {\n",
       "        vertical-align: top;\n",
       "    }\n",
       "\n",
       "    .dataframe thead th {\n",
       "        text-align: right;\n",
       "    }\n",
       "</style>\n",
       "<table border=\"1\" class=\"dataframe\">\n",
       "  <thead>\n",
       "    <tr style=\"text-align: right;\">\n",
       "      <th></th>\n",
       "      <th>brand</th>\n",
       "      <th>model</th>\n",
       "      <th>car_type</th>\n",
       "      <th>img_url</th>\n",
       "      <th>price</th>\n",
       "      <th>drive</th>\n",
       "      <th>hp</th>\n",
       "      <th>weight</th>\n",
       "      <th>torque</th>\n",
       "      <th>w_kg</th>\n",
       "    </tr>\n",
       "  </thead>\n",
       "  <tbody>\n",
       "    <tr>\n",
       "      <th>0</th>\n",
       "      <td>AC Cars</td>\n",
       "      <td>427 S/C '66</td>\n",
       "      <td>0</td>\n",
       "      <td>https://www.kudosprime.com/gt6/images/cars/gt6...</td>\n",
       "      <td>423200.0</td>\n",
       "      <td>FR</td>\n",
       "      <td>478.0</td>\n",
       "      <td>1311.0</td>\n",
       "      <td>651.0</td>\n",
       "      <td>272 to ? W/Kg</td>\n",
       "    </tr>\n",
       "    <tr>\n",
       "      <th>1</th>\n",
       "      <td>AEM</td>\n",
       "      <td>S2000</td>\n",
       "      <td>2</td>\n",
       "      <td>https://www.kudosprime.com/gt6/images/cars/gt6...</td>\n",
       "      <td>100000.0</td>\n",
       "      <td>FR</td>\n",
       "      <td>430.0</td>\n",
       "      <td>1155.0</td>\n",
       "      <td>495.0</td>\n",
       "      <td>278 to 345 W/Kg</td>\n",
       "    </tr>\n",
       "  </tbody>\n",
       "</table>\n",
       "</div>"
      ],
      "text/plain": [
       "     brand        model car_type  \\\n",
       "0  AC Cars  427 S/C '66        0   \n",
       "1      AEM        S2000        2   \n",
       "\n",
       "                                             img_url     price drive     hp  \\\n",
       "0  https://www.kudosprime.com/gt6/images/cars/gt6...  423200.0    FR  478.0   \n",
       "1  https://www.kudosprime.com/gt6/images/cars/gt6...  100000.0    FR  430.0   \n",
       "\n",
       "   weight  torque             w_kg  \n",
       "0  1311.0   651.0    272 to ? W/Kg  \n",
       "1  1155.0   495.0  278 to 345 W/Kg  "
      ]
     },
     "execution_count": 405,
     "metadata": {},
     "output_type": "execute_result"
    }
   ],
   "source": [
    "for_model3.head(2)"
   ]
  },
  {
   "cell_type": "code",
   "execution_count": 406,
   "id": "cb712044",
   "metadata": {},
   "outputs": [],
   "source": [
    "list2 = ['hp', 'weight', 'torque']"
   ]
  },
  {
   "cell_type": "markdown",
   "id": "7c927e35",
   "metadata": {},
   "source": [
    "### StandardScaler() "
   ]
  },
  {
   "cell_type": "code",
   "execution_count": 407,
   "id": "25eaa4e1",
   "metadata": {},
   "outputs": [
    {
     "data": {
      "text/plain": [
       "StandardScaler()"
      ]
     },
     "execution_count": 407,
     "metadata": {},
     "output_type": "execute_result"
    }
   ],
   "source": [
    "ss.fit(for_model3[list2])"
   ]
  },
  {
   "cell_type": "code",
   "execution_count": 409,
   "id": "26d14770",
   "metadata": {},
   "outputs": [
    {
     "data": {
      "text/html": [
       "<div>\n",
       "<style scoped>\n",
       "    .dataframe tbody tr th:only-of-type {\n",
       "        vertical-align: middle;\n",
       "    }\n",
       "\n",
       "    .dataframe tbody tr th {\n",
       "        vertical-align: top;\n",
       "    }\n",
       "\n",
       "    .dataframe thead th {\n",
       "        text-align: right;\n",
       "    }\n",
       "</style>\n",
       "<table border=\"1\" class=\"dataframe\">\n",
       "  <thead>\n",
       "    <tr style=\"text-align: right;\">\n",
       "      <th></th>\n",
       "      <th>hp</th>\n",
       "      <th>weight</th>\n",
       "      <th>torque</th>\n",
       "    </tr>\n",
       "  </thead>\n",
       "  <tbody>\n",
       "    <tr>\n",
       "      <th>0</th>\n",
       "      <td>1.035288</td>\n",
       "      <td>0.204511</td>\n",
       "      <td>1.319317</td>\n",
       "    </tr>\n",
       "    <tr>\n",
       "      <th>1</th>\n",
       "      <td>0.766159</td>\n",
       "      <td>-0.296048</td>\n",
       "      <td>0.607874</td>\n",
       "    </tr>\n",
       "    <tr>\n",
       "      <th>2</th>\n",
       "      <td>-0.899076</td>\n",
       "      <td>-0.681093</td>\n",
       "      <td>-0.828695</td>\n",
       "    </tr>\n",
       "    <tr>\n",
       "      <th>3</th>\n",
       "      <td>-0.786939</td>\n",
       "      <td>-0.023308</td>\n",
       "      <td>-0.600668</td>\n",
       "    </tr>\n",
       "    <tr>\n",
       "      <th>4</th>\n",
       "      <td>-0.187006</td>\n",
       "      <td>1.106159</td>\n",
       "      <td>-0.213023</td>\n",
       "    </tr>\n",
       "    <tr>\n",
       "      <th>...</th>\n",
       "      <td>...</td>\n",
       "      <td>...</td>\n",
       "      <td>...</td>\n",
       "    </tr>\n",
       "    <tr>\n",
       "      <th>1026</th>\n",
       "      <td>-0.231860</td>\n",
       "      <td>0.522173</td>\n",
       "      <td>-0.144614</td>\n",
       "    </tr>\n",
       "    <tr>\n",
       "      <th>1027</th>\n",
       "      <td>1.573545</td>\n",
       "      <td>0.169215</td>\n",
       "      <td>1.177940</td>\n",
       "    </tr>\n",
       "    <tr>\n",
       "      <th>1028</th>\n",
       "      <td>-0.932717</td>\n",
       "      <td>2.062355</td>\n",
       "      <td>-0.783089</td>\n",
       "    </tr>\n",
       "    <tr>\n",
       "      <th>1029</th>\n",
       "      <td>-0.372032</td>\n",
       "      <td>0.586348</td>\n",
       "      <td>-0.194780</td>\n",
       "    </tr>\n",
       "    <tr>\n",
       "      <th>1030</th>\n",
       "      <td>-0.265501</td>\n",
       "      <td>0.971393</td>\n",
       "      <td>-0.144614</td>\n",
       "    </tr>\n",
       "  </tbody>\n",
       "</table>\n",
       "<p>1031 rows × 3 columns</p>\n",
       "</div>"
      ],
      "text/plain": [
       "            hp    weight    torque\n",
       "0     1.035288  0.204511  1.319317\n",
       "1     0.766159 -0.296048  0.607874\n",
       "2    -0.899076 -0.681093 -0.828695\n",
       "3    -0.786939 -0.023308 -0.600668\n",
       "4    -0.187006  1.106159 -0.213023\n",
       "...        ...       ...       ...\n",
       "1026 -0.231860  0.522173 -0.144614\n",
       "1027  1.573545  0.169215  1.177940\n",
       "1028 -0.932717  2.062355 -0.783089\n",
       "1029 -0.372032  0.586348 -0.194780\n",
       "1030 -0.265501  0.971393 -0.144614\n",
       "\n",
       "[1031 rows x 3 columns]"
      ]
     },
     "execution_count": 409,
     "metadata": {},
     "output_type": "execute_result"
    }
   ],
   "source": [
    "for_model_new3 = ss.transform(for_model3[list2])\n",
    "for_model_new3 = pd.DataFrame(for_model_new3, columns=list2)\n",
    "for_model_new3 = for_model_new3.reindex()\n",
    "for_model_new3"
   ]
  },
  {
   "cell_type": "code",
   "execution_count": 433,
   "id": "e019a6fc",
   "metadata": {},
   "outputs": [
    {
     "data": {
      "text/plain": [
       "0       0\n",
       "1       2\n",
       "3       0\n",
       "4       0\n",
       "5       0\n",
       "       ..\n",
       "1265    0\n",
       "1266    0\n",
       "1267    0\n",
       "1268    0\n",
       "1269    0\n",
       "Name: car_type, Length: 1031, dtype: int32"
      ]
     },
     "execution_count": 433,
     "metadata": {},
     "output_type": "execute_result"
    }
   ],
   "source": [
    "y3 = for_model3['car_type'].reindex()\n",
    "y3 = y3.astype(np.int32)\n",
    "y3"
   ]
  },
  {
   "cell_type": "code",
   "execution_count": 430,
   "id": "183d08ad",
   "metadata": {},
   "outputs": [],
   "source": [
    "model3 = KNeighborsClassifier(n_neighbors=df2_counts(df2_copy))"
   ]
  },
  {
   "cell_type": "code",
   "execution_count": 435,
   "id": "eb8cdc0d",
   "metadata": {},
   "outputs": [
    {
     "data": {
      "text/plain": [
       "KNeighborsClassifier(n_neighbors=3)"
      ]
     },
     "execution_count": 435,
     "metadata": {},
     "output_type": "execute_result"
    }
   ],
   "source": [
    "model3.fit(for_model_new3[:round(for_model_new3.shape[0]*0.5)], y3[:round(for_model_new3.shape[0]*0.5)])"
   ]
  },
  {
   "cell_type": "code",
   "execution_count": 439,
   "id": "c32370a5",
   "metadata": {},
   "outputs": [],
   "source": [
    "pred3 = model3.predict(for_model_new3[round(for_model_new3.shape[0]*0.5):])"
   ]
  },
  {
   "cell_type": "code",
   "execution_count": 440,
   "id": "79ce3f90",
   "metadata": {},
   "outputs": [
    {
     "data": {
      "text/plain": [
       "0.8718446601941747"
      ]
     },
     "execution_count": 440,
     "metadata": {},
     "output_type": "execute_result"
    }
   ],
   "source": [
    "sklearn.metrics.accuracy_score(y3[round(for_model_new3.shape[0]*0.5):], pred3)"
   ]
  },
  {
   "cell_type": "markdown",
   "id": "dbbacfe7",
   "metadata": {},
   "source": [
    "### MinMaxScaler() "
   ]
  },
  {
   "cell_type": "code",
   "execution_count": 441,
   "id": "7c0c5e70",
   "metadata": {},
   "outputs": [
    {
     "data": {
      "text/plain": [
       "MinMaxScaler()"
      ]
     },
     "execution_count": 441,
     "metadata": {},
     "output_type": "execute_result"
    }
   ],
   "source": [
    "MMs.fit(for_model3[list2])"
   ]
  },
  {
   "cell_type": "code",
   "execution_count": 442,
   "id": "22a1aac8",
   "metadata": {},
   "outputs": [
    {
     "data": {
      "text/html": [
       "<div>\n",
       "<style scoped>\n",
       "    .dataframe tbody tr th:only-of-type {\n",
       "        vertical-align: middle;\n",
       "    }\n",
       "\n",
       "    .dataframe tbody tr th {\n",
       "        vertical-align: top;\n",
       "    }\n",
       "\n",
       "    .dataframe thead th {\n",
       "        text-align: right;\n",
       "    }\n",
       "</style>\n",
       "<table border=\"1\" class=\"dataframe\">\n",
       "  <thead>\n",
       "    <tr style=\"text-align: right;\">\n",
       "      <th></th>\n",
       "      <th>hp</th>\n",
       "      <th>weight</th>\n",
       "      <th>torque</th>\n",
       "    </tr>\n",
       "  </thead>\n",
       "  <tbody>\n",
       "    <tr>\n",
       "      <th>0</th>\n",
       "      <td>1.035288</td>\n",
       "      <td>0.204511</td>\n",
       "      <td>1.319317</td>\n",
       "    </tr>\n",
       "    <tr>\n",
       "      <th>1</th>\n",
       "      <td>0.766159</td>\n",
       "      <td>-0.296048</td>\n",
       "      <td>0.607874</td>\n",
       "    </tr>\n",
       "    <tr>\n",
       "      <th>2</th>\n",
       "      <td>-0.899076</td>\n",
       "      <td>-0.681093</td>\n",
       "      <td>-0.828695</td>\n",
       "    </tr>\n",
       "    <tr>\n",
       "      <th>3</th>\n",
       "      <td>-0.786939</td>\n",
       "      <td>-0.023308</td>\n",
       "      <td>-0.600668</td>\n",
       "    </tr>\n",
       "    <tr>\n",
       "      <th>4</th>\n",
       "      <td>-0.187006</td>\n",
       "      <td>1.106159</td>\n",
       "      <td>-0.213023</td>\n",
       "    </tr>\n",
       "    <tr>\n",
       "      <th>...</th>\n",
       "      <td>...</td>\n",
       "      <td>...</td>\n",
       "      <td>...</td>\n",
       "    </tr>\n",
       "    <tr>\n",
       "      <th>1026</th>\n",
       "      <td>-0.231860</td>\n",
       "      <td>0.522173</td>\n",
       "      <td>-0.144614</td>\n",
       "    </tr>\n",
       "    <tr>\n",
       "      <th>1027</th>\n",
       "      <td>1.573545</td>\n",
       "      <td>0.169215</td>\n",
       "      <td>1.177940</td>\n",
       "    </tr>\n",
       "    <tr>\n",
       "      <th>1028</th>\n",
       "      <td>-0.932717</td>\n",
       "      <td>2.062355</td>\n",
       "      <td>-0.783089</td>\n",
       "    </tr>\n",
       "    <tr>\n",
       "      <th>1029</th>\n",
       "      <td>-0.372032</td>\n",
       "      <td>0.586348</td>\n",
       "      <td>-0.194780</td>\n",
       "    </tr>\n",
       "    <tr>\n",
       "      <th>1030</th>\n",
       "      <td>-0.265501</td>\n",
       "      <td>0.971393</td>\n",
       "      <td>-0.144614</td>\n",
       "    </tr>\n",
       "  </tbody>\n",
       "</table>\n",
       "<p>1031 rows × 3 columns</p>\n",
       "</div>"
      ],
      "text/plain": [
       "            hp    weight    torque\n",
       "0     1.035288  0.204511  1.319317\n",
       "1     0.766159 -0.296048  0.607874\n",
       "2    -0.899076 -0.681093 -0.828695\n",
       "3    -0.786939 -0.023308 -0.600668\n",
       "4    -0.187006  1.106159 -0.213023\n",
       "...        ...       ...       ...\n",
       "1026 -0.231860  0.522173 -0.144614\n",
       "1027  1.573545  0.169215  1.177940\n",
       "1028 -0.932717  2.062355 -0.783089\n",
       "1029 -0.372032  0.586348 -0.194780\n",
       "1030 -0.265501  0.971393 -0.144614\n",
       "\n",
       "[1031 rows x 3 columns]"
      ]
     },
     "execution_count": 442,
     "metadata": {},
     "output_type": "execute_result"
    }
   ],
   "source": [
    "for_model_new4 = ss.transform(for_model3[list2])\n",
    "for_model_new4 = pd.DataFrame(for_model_new4, columns=list2)\n",
    "for_model_new4 = for_model_new4.reindex()\n",
    "for_model_new4"
   ]
  },
  {
   "cell_type": "code",
   "execution_count": 444,
   "id": "3d002824",
   "metadata": {},
   "outputs": [
    {
     "data": {
      "text/plain": [
       "0       0\n",
       "1       2\n",
       "3       0\n",
       "4       0\n",
       "5       0\n",
       "       ..\n",
       "1265    0\n",
       "1266    0\n",
       "1267    0\n",
       "1268    0\n",
       "1269    0\n",
       "Name: car_type, Length: 1031, dtype: int32"
      ]
     },
     "execution_count": 444,
     "metadata": {},
     "output_type": "execute_result"
    }
   ],
   "source": [
    "y4 = for_model3['car_type'].reindex()\n",
    "y4 = y4.astype(np.int32)\n",
    "y4"
   ]
  },
  {
   "cell_type": "code",
   "execution_count": 445,
   "id": "428da1d8",
   "metadata": {},
   "outputs": [],
   "source": [
    "model4 = KNeighborsClassifier(n_neighbors=df2_counts(df2_copy))"
   ]
  },
  {
   "cell_type": "code",
   "execution_count": 446,
   "id": "200e60ee",
   "metadata": {},
   "outputs": [
    {
     "data": {
      "text/plain": [
       "KNeighborsClassifier(n_neighbors=3)"
      ]
     },
     "execution_count": 446,
     "metadata": {},
     "output_type": "execute_result"
    }
   ],
   "source": [
    "model4.fit(for_model_new4[:round(for_model_new4.shape[0]*0.5)], y4[:round(for_model_new4.shape[0]*0.5)])"
   ]
  },
  {
   "cell_type": "code",
   "execution_count": 447,
   "id": "f6ed8649",
   "metadata": {},
   "outputs": [],
   "source": [
    "pred4 = model4.predict(for_model_new4[round(for_model_new4.shape[0]*0.5):])"
   ]
  },
  {
   "cell_type": "code",
   "execution_count": 448,
   "id": "dedf2b14",
   "metadata": {},
   "outputs": [
    {
     "data": {
      "text/plain": [
       "0.8718446601941747"
      ]
     },
     "execution_count": 448,
     "metadata": {},
     "output_type": "execute_result"
    }
   ],
   "source": [
    "sklearn.metrics.accuracy_score(y4[round(for_model_new4.shape[0]*0.5):], pred4)"
   ]
  },
  {
   "cell_type": "code",
   "execution_count": null,
   "id": "227043fe",
   "metadata": {},
   "outputs": [],
   "source": []
  }
 ],
 "metadata": {
  "kernelspec": {
   "display_name": "Python 3 (ipykernel)",
   "language": "python",
   "name": "python3"
  },
  "language_info": {
   "codemirror_mode": {
    "name": "ipython",
    "version": 3
   },
   "file_extension": ".py",
   "mimetype": "text/x-python",
   "name": "python",
   "nbconvert_exporter": "python",
   "pygments_lexer": "ipython3",
   "version": "3.9.2"
  }
 },
 "nbformat": 4,
 "nbformat_minor": 5
}
